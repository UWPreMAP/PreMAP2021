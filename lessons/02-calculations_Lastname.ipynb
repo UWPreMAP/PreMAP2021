{
 "cells": [
  {
   "cell_type": "markdown",
   "metadata": {},
   "source": [
    "[Pre-MAP Course Website](http://depts.washington.edu/premap/seminar/cohort-16-2020-seminar/) | [Pre-MAP GitHub](https://github.com/UWPreMAP/PreMAP2020) | [Google](https://www.google.com)\n",
    "\n",
    "# Python as a calculator\n",
    "\n",
    "Math in Python works like most scientific calcators, but Python can do a lot more than your calculator. In this lesson, we'll do some math. \n",
    "\n",
    "### Example 1: Math in a cell\n",
    "\n",
    "You can type some basic math in a cell, execute the cell (`Ctrl + Enter`), and math will be returned below the cell. This works whether or not you put the math in a `print` command. Try `2+2` in the cell below:"
   ]
  },
  {
   "cell_type": "code",
   "execution_count": 7,
   "metadata": {},
   "outputs": [
    {
     "data": {
      "text/plain": [
       "10"
      ]
     },
     "execution_count": 7,
     "metadata": {},
     "output_type": "execute_result"
    }
   ],
   "source": [
    "3+5+2"
   ]
  },
  {
   "cell_type": "markdown",
   "metadata": {},
   "source": [
    "The symbol for multiplication is `*`. Do `2 * 2` below: "
   ]
  },
  {
   "cell_type": "code",
   "execution_count": 5,
   "metadata": {},
   "outputs": [
    {
     "data": {
      "text/plain": [
       "30"
      ]
     },
     "execution_count": 5,
     "metadata": {},
     "output_type": "execute_result"
    }
   ],
   "source": [
    "3*5*2"
   ]
  },
  {
   "cell_type": "markdown",
   "metadata": {},
   "source": [
    "The numbers we've used so far are all integers, or `int`'s. Python can store numbers as `int`s or `float`s. A float is a decimal number. You can check what _type_ a number is by using the `type` function: \n",
    "\n",
    "```python\n",
    "type(5)\n",
    "```\n",
    "\n",
    "### Example 2: Types\n",
    "\n",
    "Print the types of the following things: \n",
    "* `1`\n",
    "* `1.0`\n",
    "* `\"hello, world\"`"
   ]
  },
  {
   "cell_type": "code",
   "execution_count": 11,
   "metadata": {},
   "outputs": [
    {
     "name": "stdout",
     "output_type": "stream",
     "text": [
      "<class 'int'>\n",
      "<class 'float'>\n",
      "<class 'str'>\n"
     ]
    }
   ],
   "source": [
    "mynumber = 1\n",
    "five = \"5\"\n",
    "\n",
    "print(type(mynumber))\n",
    "print(type(1.0))\n",
    "print(type(five))"
   ]
  },
  {
   "cell_type": "code",
   "execution_count": 15,
   "metadata": {},
   "outputs": [
    {
     "data": {
      "text/plain": [
       "200000.0"
      ]
     },
     "execution_count": 15,
     "metadata": {},
     "output_type": "execute_result"
    }
   ],
   "source": [
    "2e5"
   ]
  },
  {
   "cell_type": "markdown",
   "metadata": {},
   "source": [
    "If you want to represent a large number with scientific notation, you can do that with a small `e`, like this: \n",
    "```python\n",
    "two_times_ten_to_the_fifth = 2e5\n",
    "```\n",
    "where the above is $2 \\times 10^5$."
   ]
  },
  {
   "cell_type": "markdown",
   "metadata": {},
   "source": [
    "*** \n",
    "\n",
    "Types can fool you sometimes when you're dividing two numbers. If you divide with one division sign (`/`) you will get a `float` result, which is the way Python represents decimals. If you divide with two division signs (`//`) you will always get an integer result. \n",
    "\n",
    "### Example 2: Integer vs. float division\n",
    "\n",
    "Try dividing three by five using `/`, and then with `//`. What's the difference? What is the `type` of each result? "
   ]
  },
  {
   "cell_type": "code",
   "execution_count": 26,
   "metadata": {},
   "outputs": [
    {
     "data": {
      "text/plain": [
       "1"
      ]
     },
     "execution_count": 26,
     "metadata": {},
     "output_type": "execute_result"
    }
   ],
   "source": [
    "3//2"
   ]
  },
  {
   "cell_type": "code",
   "execution_count": 34,
   "metadata": {},
   "outputs": [
    {
     "data": {
      "text/plain": [
       "36"
      ]
     },
     "execution_count": 34,
     "metadata": {},
     "output_type": "execute_result"
    }
   ],
   "source": [
    "6**2"
   ]
  },
  {
   "cell_type": "markdown",
   "metadata": {
    "collapsed": true
   },
   "source": [
    "Exponentiation uses two asterisks `**` (_not_ the caret symbol `^`), like this: \n",
    "\n",
    "```python\n",
    "print(2**2)\n",
    "```\n",
    "\n",
    "### Inplace addition\n",
    "If you already have a variable, you can add, subtract, multiply, divide onto that existing variable in two ways. One is like this: \n",
    "```python\n",
    "class_number = 192\n",
    "\n",
    "class_number = class_number + 1\n",
    "```\n",
    "or\n",
    "```python\n",
    "class_number = 192\n",
    "\n",
    "class_number += 1\n",
    "```\n",
    "\n",
    "### Example 3: How many ancestors do you have?\n",
    "\n",
    "The number of great-great-great... grandparents you have goes as $2^n$ where $n$ is the number of generations back you go. For example, one generation ago $n=1$, you had $2^1 = 2$ ancestors - or two parents. Two generations ago, you had $2^2 = 4$ ancestors - or four grandparents. \n",
    "\n",
    "Use Python to answer: how many ancestors did you have thirty generations ago?"
   ]
  },
  {
   "cell_type": "code",
   "execution_count": 35,
   "metadata": {},
   "outputs": [
    {
     "data": {
      "text/plain": [
       "1073741824"
      ]
     },
     "execution_count": 35,
     "metadata": {},
     "output_type": "execute_result"
    }
   ],
   "source": [
    "2**30"
   ]
  },
  {
   "cell_type": "markdown",
   "metadata": {},
   "source": [
    "If that number sounds way larger than the number of people that were probably on Earth thirty generations ago, that's because it _is_. How is that possible? You can [read up more about this after class by following this link](https://www.google.com/search?q=pedigree+collapse+royalty&oq=pedigree+collapse+royalty&aqs=chrome.0.69i59.4003j0j4&sourceid=chrome&ie=UTF-8).\n",
    "\n",
    "*** \n",
    "\n",
    "You can also use Python to compute inequalities. The _operators_ used in inequalities are: \n",
    "\n",
    "| Inequality               | Symbol| \n",
    "|--------------------------|-------|\n",
    "| Equal to                 | `==`  |\n",
    "| Not equal to             | `!=`  |\n",
    "| Greater than             | `>`   |\n",
    "| Greater than or equal to | `>=`  | \n",
    "| Less than                | `<`   | \n",
    "| Less than or equal to    | `<=`  |\n",
    "\n",
    "**Note**: you can check if something is equal to something else with the double equals `==`. You can't use single equals, because that's how you define a variable. So this sets the variable `x` to the value `5`: \n",
    "```python\n",
    "x = 5\n",
    "```\n",
    "while this asks if `x` is equal to 5: \n",
    "```python\n",
    "x == 5\n",
    "```\n",
    "\n",
    "### Example 4: Inequalities, booleans\n",
    "\n",
    "What is returned when you evaluate an inequality like `3 >= 5`? What is the type of this object?"
   ]
  },
  {
   "cell_type": "code",
   "execution_count": 44,
   "metadata": {},
   "outputs": [
    {
     "data": {
      "text/plain": [
       "False"
      ]
     },
     "execution_count": 44,
     "metadata": {},
     "output_type": "execute_result"
    }
   ],
   "source": [
    "ten = 10\n",
    "ten > 12"
   ]
  },
  {
   "cell_type": "markdown",
   "metadata": {},
   "source": [
    "### Example 5: Other operators\n",
    "\n",
    "Another operator that's useful is the _modulus_ operator, represented with the symbol `%`. The modulus of two numbers is the remainder after dividing the first number by the second. So for example, `4 % 2` is zero, because four divided by two is 2 with no remainder. But `9 % 4` is one, because nine goes into four two times with one leftover. \n",
    "\n",
    "This gets used sometimes to search for multiples, since if `x` is a multiple of three, then $x \\,\\% \\,3 = 0$. \n",
    "\n",
    "In the cell below, determine whether or not 12417 is an even multiple of three:"
   ]
  },
  {
   "cell_type": "code",
   "execution_count": 49,
   "metadata": {},
   "outputs": [
    {
     "data": {
      "text/plain": [
       "0"
      ]
     },
     "execution_count": 49,
     "metadata": {},
     "output_type": "execute_result"
    }
   ],
   "source": [
    "12417%3"
   ]
  },
  {
   "cell_type": "markdown",
   "metadata": {},
   "source": [
    "*** \n",
    "\n",
    "## Comments \n",
    "\n",
    "So far we've been writing only a few lines of code at a time in each cell, but soon you'll be writing lots of lines. The more code you write, the harder it can be to remember what each step was. That's why we write lots of _comments_ in our code. \n",
    "\n",
    "A comment is a note you wrote in code, which Python doesn't do anything with. It's just text for human readers. You designate a comment with a `#` symbol - anything after the `#` gets ignored by Python. For example: \n",
    "\n",
    "```python\n",
    "# Here, I'm going to calculate the force on a 10kg block: \n",
    "mass = 10  # kilograms\n",
    "acceleration = 5  # meters per sec^2\n",
    "force = mass * acceleration  # I <3 Newton\n",
    "print(force)\n",
    "```\n",
    "\n",
    "### Example 5: Comments welcome\n",
    "\n",
    "If the price of the computer you're working on was $1000 and the sales tax in Seattle is 9.6%, how much did it cost after tax? \n",
    "\n",
    "Do this calculation by creating variables for the tax rate, the price of the computer before tax, and the final price, and leave comments throughout explaining the units and the calculation that you're doing. See the example above for hints."
   ]
  },
  {
   "cell_type": "code",
   "execution_count": 54,
   "metadata": {},
   "outputs": [
    {
     "name": "stdout",
     "output_type": "stream",
     "text": [
      "1096.0\n"
     ]
    }
   ],
   "source": [
    "# Calculating the tax rate for a computer\n",
    "seattle_tax_rate = 0.096 #9.6%\n",
    "computer_before_tax = 1000 #dollars or $\n",
    "computer_after_tax = computer_before_tax + (computer_before_tax*tax_rate)\n",
    "print(computer_after_tax)"
   ]
  },
  {
   "cell_type": "markdown",
   "metadata": {},
   "source": [
    "*** \n",
    "\n",
    "In Python, you have to be careful about putting spaces or tabs in front of a line. We call spaces and/or tabs collectively _whitespace_. \n",
    "\n",
    "You can put as many spaces as you want in a line (though one at a time is the right number to use most of the time), like this:\n",
    "```python\n",
    "this_is_ok = 2 + 2\n",
    "this_is_bad_but_it_works = 2   +  2+2\n",
    "```\n",
    "\n",
    "However you can't put stray spaces in the beginning of a line. For example, if you do this: \n",
    "\n",
    "```python\n",
    "starts_no_indent = 0\n",
    "  starts_with_an_indent = 5\n",
    "```\n",
    "...an error will be raised.\n",
    "\n",
    "### Example 6: Significant whitespace\n",
    "\n",
    "Try the above example or one like it, and note the type of error that it raises:"
   ]
  },
  {
   "cell_type": "code",
   "execution_count": 51,
   "metadata": {},
   "outputs": [
    {
     "ename": "IndentationError",
     "evalue": "unexpected indent (<ipython-input-51-027049b01a36>, line 2)",
     "output_type": "error",
     "traceback": [
      "\u001b[0;36m  File \u001b[0;32m\"<ipython-input-51-027049b01a36>\"\u001b[0;36m, line \u001b[0;32m2\u001b[0m\n\u001b[0;31m    three_indents = 3\u001b[0m\n\u001b[0m    ^\u001b[0m\n\u001b[0;31mIndentationError\u001b[0m\u001b[0;31m:\u001b[0m unexpected indent\n"
     ]
    }
   ],
   "source": [
    "no_indent = 0\n",
    "   three_indents = 3"
   ]
  },
  {
   "cell_type": "markdown",
   "metadata": {},
   "source": [
    "It will become clear later why this isn't allowed - indentation is used to represent specific things."
   ]
  },
  {
   "cell_type": "code",
   "execution_count": 52,
   "metadata": {},
   "outputs": [
    {
     "name": "stdout",
     "output_type": "stream",
     "text": [
      "1000.096\n"
     ]
    }
   ],
   "source": [
    "x = 0.096 \n",
    "y = 1000\n",
    "boop = x+ y*x # I miss my dog\n",
    "print(boop)"
   ]
  },
  {
   "cell_type": "markdown",
   "metadata": {},
   "source": [
    "*** \n",
    "\n",
    "## Style\n",
    " \n",
    "When you start your research project, you'll write code that you'll use for the rest of the quarter. If you can't read your own code, then you'll have difficulty understanding what you did at the end of the quarter. Readability is really important for making your work understandable and reproducible. Just like you wouldn't turn in your scratch paper version of your math homework, you shouldn't allow yourself to write illegible code.\n",
    "\n",
    "\n",
    "As scientists, we share our work with one another and review each other's answers. I'll share an example of a poorly written code. **Would anyone like to volunteer to share their work in the chat?**. Together we'll ask: \n",
    "\n",
    "* Can we figure out what they were trying to accomplish with my code?\n",
    "* Do the variable names make sense to us?\n",
    "* Did they use appropriate whitespace to make the code easy to read?\n",
    "* Did they write enough comments to guide you through what was being doing? \n",
    "\n",
    "Here are some tips on naming variables to remember: \n",
    "* Variable names should use lowercase letters and numbers\n",
    "* If there's more than one word in your variable name, separate the words with underscores\n",
    "* Longer names are better than shorter names! No one ever got mad that someone else's code was _too_ readable \n",
    "\n",
    "There are lots more tips about how to write Python code \"correctly\" in the [style guide, often called \"PEP8\"](https://www.python.org/dev/peps/pep-0008/), which I'll leave a link to here for future reference. \n",
    "\n",
    "### Example 7: Variable names\n",
    "\n",
    "Can you improve your variable names and style in Example 5? If so, get to it!\n",
    "\n",
    "*** \n",
    "\n",
    "## Lists\n",
    "\n",
    "You can now use Python as a calculator, but it's more useful than a handheld calculator only when you have lots of numbers to work with. You can store a group of numbers, or groups of other things, in a type called a `list`. \n",
    "\n",
    "A list is a collection of things (they can have any type, including `int`s, `float`s, `str`s. They are separated by commas and bracketed with square brackets (`[` and `]`), like this: \n",
    "```python\n",
    "shopping_list = ['apple', 'banana', 'cherry']\n",
    "```\n",
    "\n",
    "Can a few people put their height in inches into the chat? We can create a list of these heights, and print the list: "
   ]
  },
  {
   "cell_type": "code",
   "execution_count": 59,
   "metadata": {},
   "outputs": [
    {
     "data": {
      "text/plain": [
       "[64, 66, 66, 72, 72, 60, 65, 72, 67, 73]"
      ]
     },
     "execution_count": 59,
     "metadata": {},
     "output_type": "execute_result"
    }
   ],
   "source": [
    "class_heights = [64,66,66,72,72,60,65,72,67,73]\n",
    "class_heights"
   ]
  },
  {
   "cell_type": "markdown",
   "metadata": {},
   "source": [
    "Many times you'll want to check how many elements are in your list, which you do with the `len` function, like this: \n",
    "```python\n",
    "len(heights)\n",
    "```\n",
    "Try that in the cell below: "
   ]
  },
  {
   "cell_type": "code",
   "execution_count": 60,
   "metadata": {},
   "outputs": [
    {
     "data": {
      "text/plain": [
       "10"
      ]
     },
     "execution_count": 60,
     "metadata": {},
     "output_type": "execute_result"
    }
   ],
   "source": [
    "len(class_heights)"
   ]
  },
  {
   "cell_type": "markdown",
   "metadata": {},
   "source": [
    "Python has a _function_ for taking the `sum` of the numbers in a list. Let's take the sum of the ages with the following command: \n",
    "```python\n",
    "sum(heights)\n",
    "```\n",
    "### Example 8: Sum of a list\n",
    "\n",
    "How many inches tall would our class be if we all stood one on top of each other (take the sum of the heights)? Store the answer in a variable with a sensible name (remember guidelines from above!), and print the result: "
   ]
  },
  {
   "cell_type": "code",
   "execution_count": 63,
   "metadata": {},
   "outputs": [
    {
     "data": {
      "text/plain": [
       "677"
      ]
     },
     "execution_count": 63,
     "metadata": {},
     "output_type": "execute_result"
    }
   ],
   "source": [
    "sum(class_heights)"
   ]
  },
  {
   "cell_type": "markdown",
   "metadata": {},
   "source": [
    "### List indexing and slicing\n",
    "\n",
    "Often you'll want to be able to take a single *element*, or a few elements out of a list. To do that, you do what we call *indexing* or *slicing*. \n",
    "\n",
    "To get a specific element from of the list `ages`, we put square brackets next to the name of the list, and we put the _index_ of the element that we want inside the brackets. The index starts at **zero for the first element**, one for the second element, etc.: \n",
    "```python\n",
    "first_element = heights[0]\n",
    "print(first_element)\n",
    "```\n",
    "\n",
    "### Example 9: Zero-based indexing\n",
    "\n",
    "Get the second element out of the list `heights`. Double check that you got the right element. "
   ]
  },
  {
   "cell_type": "code",
   "execution_count": 64,
   "metadata": {},
   "outputs": [
    {
     "data": {
      "text/plain": [
       "[64, 66, 66, 72, 72, 60, 65, 72, 67, 73]"
      ]
     },
     "execution_count": 64,
     "metadata": {},
     "output_type": "execute_result"
    }
   ],
   "source": [
    "class_heights"
   ]
  },
  {
   "cell_type": "code",
   "execution_count": 66,
   "metadata": {},
   "outputs": [
    {
     "data": {
      "text/plain": [
       "[66, 66]"
      ]
     },
     "execution_count": 66,
     "metadata": {},
     "output_type": "execute_result"
    }
   ],
   "source": [
    "class_heights[1:3]"
   ]
  },
  {
   "cell_type": "markdown",
   "metadata": {},
   "source": [
    "***\n",
    "\n",
    "If you want to get out multiple elements at a time, you can use two indices which designate the start and **stop+1** indices, separated by a `:` symbol. For example, let's get the fourth through seventh letters in this list:\n",
    "```python\n",
    "# Index =   0    1    2    3    4    5    6    7    8    9 \n",
    "astr192 = ['P', 'r', 'e', 'M', 'A', 'P', '2', '0', '1', '8']\n",
    "print(astr192[3:8])\n",
    "```\n",
    "which prints `['M', 'A', 'P', '2', '0']`. The fourth element is at index 3, so that's the first number in the slice. The second number in the slice is the stop position **plus one**. It's basically saying \"from the first number\" up to _but not including_ the second number.\n",
    "\n",
    "### Example 10: List slicing\n",
    "\n",
    "1. Type your full name in a string, store it in the variable `full_name`\n",
    "2. You can turn that string into a list of strings by doing this: \n",
    "```python\n",
    "name = \"Pre-MAP\"\n",
    "name_list = list(name)\n",
    "print(name_list)\n",
    "```\n",
    "which yields `['P', 'r', 'e', '-', 'M', 'A', 'P']`. Do this to make a list out of your name.\n",
    "3. Get the second through seventh letters in your name with slicing. "
   ]
  },
  {
   "cell_type": "code",
   "execution_count": 67,
   "metadata": {},
   "outputs": [
    {
     "name": "stdout",
     "output_type": "stream",
     "text": [
      "['N', 'a', 't', 'a', 'l', 'i', 'e', ' ', 'N', 'i', 'c', 'o', 'l', 'e', ' ', 'S', 'a', 'n', 'c', 'h', 'e', 'z']\n"
     ]
    }
   ],
   "source": [
    "full_name = \"Natalie Nicole Sanchez\"\n",
    "name_list = list(full_name)\n",
    "print(name_list)"
   ]
  },
  {
   "cell_type": "code",
   "execution_count": 70,
   "metadata": {},
   "outputs": [
    {
     "name": "stdout",
     "output_type": "stream",
     "text": [
      "['a', 't', 'a', 'l', 'i', 'e']\n"
     ]
    }
   ],
   "source": [
    "print(name_list[1:7])"
   ]
  },
  {
   "cell_type": "markdown",
   "metadata": {},
   "source": [
    "You can get all elements starting with the third element by doing `name_list[2:]`, and you can get all elements up to the third by doing `name_list[:3]`. Give it a try below: "
   ]
  },
  {
   "cell_type": "code",
   "execution_count": null,
   "metadata": {},
   "outputs": [],
   "source": []
  },
  {
   "cell_type": "code",
   "execution_count": null,
   "metadata": {},
   "outputs": [],
   "source": []
  },
  {
   "cell_type": "markdown",
   "metadata": {},
   "source": [
    "This will be useful when you have long lists of numbers in the near future. "
   ]
  },
  {
   "cell_type": "markdown",
   "metadata": {
    "collapsed": true
   },
   "source": [
    "*** \n",
    "\n",
    "## Adding items to a list\n",
    "\n",
    "Let's say someone new transferred into the class, and you want to add their age to the `height` list. We can do that with the `append` function, which you call like this:\n",
    "```python\n",
    "new_height = 65\n",
    "heights.append(new_height)\n",
    "print(heights)\n",
    "```\n",
    "In the second line, `heights` is the list that we're _appending_ a new number to, `.append()` says to append the number in parentheses onto `heights`.\n",
    "\n",
    "Copy and paste the code above into the cell below **and execute the cell once**, to see the output."
   ]
  },
  {
   "cell_type": "code",
   "execution_count": 71,
   "metadata": {},
   "outputs": [
    {
     "data": {
      "text/plain": [
       "[64, 66, 66, 72, 72, 60, 65, 72, 67, 73]"
      ]
     },
     "execution_count": 71,
     "metadata": {},
     "output_type": "execute_result"
    }
   ],
   "source": [
    "class_heights"
   ]
  },
  {
   "cell_type": "code",
   "execution_count": 72,
   "metadata": {},
   "outputs": [
    {
     "name": "stdout",
     "output_type": "stream",
     "text": [
      "[64, 66, 66, 72, 72, 60, 65, 72, 67, 73, 65]\n"
     ]
    }
   ],
   "source": [
    "new_height = 65\n",
    "class_heights.append(new_height)\n",
    "print(class_heights)"
   ]
  },
  {
   "cell_type": "markdown",
   "metadata": {},
   "source": [
    "### Example 11:\n",
    "\n",
    "What would happen if you executed the cell above a second time? Try it and check your answer."
   ]
  },
  {
   "cell_type": "code",
   "execution_count": 73,
   "metadata": {},
   "outputs": [
    {
     "name": "stdout",
     "output_type": "stream",
     "text": [
      "[64, 66, 66, 72, 72, 60, 65, 72, 67, 73, 65, 65]\n"
     ]
    }
   ],
   "source": [
    "new_height = 65\n",
    "class_heights.append(new_height)\n",
    "print(class_heights)"
   ]
  },
  {
   "cell_type": "code",
   "execution_count": null,
   "metadata": {},
   "outputs": [],
   "source": []
  }
 ],
 "metadata": {
  "kernelspec": {
   "display_name": "Python 3",
   "language": "python",
   "name": "python3"
  },
  "language_info": {
   "codemirror_mode": {
    "name": "ipython",
    "version": 3
   },
   "file_extension": ".py",
   "mimetype": "text/x-python",
   "name": "python",
   "nbconvert_exporter": "python",
   "pygments_lexer": "ipython3",
   "version": "3.7.8"
  }
 },
 "nbformat": 4,
 "nbformat_minor": 1
}
