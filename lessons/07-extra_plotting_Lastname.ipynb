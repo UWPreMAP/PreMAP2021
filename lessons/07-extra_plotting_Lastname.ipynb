{
 "cells": [
  {
   "cell_type": "markdown",
   "metadata": {},
   "source": [
    "# Extra Plotting Practice: Creating Colour-Magnitude Diagram #\n",
    "\n",
    "## Essential Background Information ##\n",
    "\n",
    "The Hertzsprung-Russell (HR) diagram plots a star's luminosity (or brightness) on the y-axis and its temperature on the x-axis. Astronomers use HR diagrams to classify stars; different types of stars clump together on the HR diagram. You saw the HR diagram in the last example of Lesson 6: Plotting Jupyter Notebook. That HR diagram was an *idealized* representation of distinct groupings of stars, e.g., the Main Sequence, the Horizonal Branch, the Red Giant Branch, etc. So waht about in practice? What does a HR diagram look like with real observational data?\n",
    "\n",
    "<img src=\"images/hr.png\">\n",
    "\n",
    "When astronomers make an HR diagram based off of real data in the night sky, they call it the \"observer's HR diagram\" or **the Color-Magnitude Diagram (CMD)**. This is because instead of luminosity and temperature on the y and x axes, respectively, observers plot the apparent brightness of a star vs. its color. Side note on color for those of you not taking ASTR 101 or 102: color is the difference between a star's brightness in two different color ranges. It is a numerical way to represent actual *colors*. Typically, observers use the B, V, R, I (blue, visible/green, red, infrared) bandpasses, and so will plot V mag vs. B-I mag. \n",
    "\n",
    "To make an HR diagram based off of real observations, we point our telescopes at *stars in stellar clusters* and *observe their brightness in various bandpasses*. There are several reasons why we do this:\n",
    "\n",
    "1) Looking at a stellar cluster ensures that our observer's HR diagram won't have just 10 lonely stars in it, but rather fill the whole parameter space.\n",
    "\n",
    "2) If you observe the apparent brightnesses of stars in the same stellar cluster, they are roughly at the same distance, which means you can compare the brightness of the stars relative to each other in the cluster, no problem. \n",
    "\n",
    "3) Observing the brightnesses of stars in multiple bandpasses or filters allow us to estimate their temperatures. Stars that are hotter will be bluer so they will be brighter in bluer bandpasses relative to redder bandpasses. Stars that are cooler will be redder, so they will be brighter in redder bandpasses relative to blue. For this reason, the relative brightness of an astronomical object between two bandpasses (or the difference in magnitude) is called \"color\". \n",
    "\n",
    "The stellar cluster CMD technique is a powerful tool because it simultaneously tells you the **age** of the cluster and **distance** to that cluster! An \"observed\" HR diagram, or CMD will look different from the idealized HR diagram from Lesson 6! Consider this: stars in the same cluster will have the same age (and composition), since they were born out of the same molecular cloud at the same time. However, because more massive stars fuse hydrogen faster, they evolve off the main sequence faster, and consequently an *older* stellar cluster will have *fewer* massive stars still in the main sequence phase. As the cluster ages, more and more low-mass stars will evolve off the main sequence, and this \"turn-off\" from the main sequence track is called... **\"the main sequence turn off\" (MSTO)**. You can see this effect in the image below. Each panel depicts a snapshot of a stellar cluster at a particular age ($t=0$ when cluster is just born), and shaded region = main sequence.\n",
    "\n",
    "<img src=\"http://pages.uoregon.edu/jimbrau/BrauImNew/Chap20/8th/20_17_Figure_Unanno.jpg\">\n",
    "\n",
    "You can read more about CMDs [here](https://web.njit.edu/~gary/202/Lecture17.html) (optional).\n",
    "\n",
    "## What You Need To Do ##\n",
    "In this exercise, you will create a CMD based off real data of the [M15 cluster](https://en.wikipedia.org/wiki/Messier_15) astronomers collected! Make sure to **comment your code**.\n",
    "\n",
    "### First, you will read in the ascii data file that contains the B, V, and I magnitudes of stars. ### \n",
    "\n",
    "The data file you need is already in your PreMAP2019 directory (`data/m15.tsv`). Read it in using functions you learned in Lesson 6. Note the file `m15.tsv` has ;-separated values, so when you apply the function you will have to specify keyword argument `delimiter=';'`.\n"
   ]
  },
  {
   "cell_type": "code",
   "execution_count": null,
   "metadata": {},
   "outputs": [],
   "source": [
    "#Copy import statement from notebook 06\n",
    "import matplotlib.pyplot as plt \n",
    "\n",
    "# We'll also read some data using astropy, so let's import that\n",
    "import numpy as np \n",
    "from astropy.io import ascii\n",
    "\n",
    "# I'm also using this \"magic\" function to make my plots appear in this notebook\n",
    "# Only do this when working with Jupyter notebooks\n",
    "%matplotlib inline"
   ]
  },
  {
   "cell_type": "code",
   "execution_count": null,
   "metadata": {},
   "outputs": [],
   "source": [
    "# Write code to read in the contents of the ascii file here\n",
    "#Read in data file using astropy.ascii with delimiter=;\n",
    "#read in using same syntax we used to import galaxy table in notebook 06\n",
    "m15 = ascii.read('data/m15.tsv',delimiter=';') \n",
    "\n",
    "#Add in the delimiter: this is the character that separates values in different columns of the table\n",
    "#If you are unsure what the delimiter should be, you can open the file (in the ./data/ folder) and see!\n",
    "m15[:3] #check out the first three lines of the table to see column names\n",
    "\n",
    "\n",
    "# Don't forget to comment code! "
   ]
  },
  {
   "cell_type": "markdown",
   "metadata": {},
   "source": [
    "### Next, make a plot with B-I colour on the x-axis, and V magnitude on the y-axis. ###\n",
    "\n",
    "Make sure you give the proper x, y axis labels (with units), and make sure the limits of the y-axis is correct (remember the bigger the magnitude, the fainter an object)."
   ]
  },
  {
   "cell_type": "code",
   "execution_count": null,
   "metadata": {},
   "outputs": [],
   "source": [
    "# Write code to make & prettify the plot, use either plt.plot or plt.scatter\n",
    "\n",
    "#Make plot larger to make it easier to see.\n",
    "#Note: you need to run this command before your plotting commands!\n",
    "\n",
    "\n",
    "#Plot B-I as the x value and V as the y value. Give '.' to plot as points not connected with lines.\n",
    "#Adjust markersize and make points translucent with alpha=0.5 so you can see where the points pile up\n",
    "\n",
    "\n",
    "#Flip y-axis so that you're plotting Vmag from fainter (bigger mag value) to brighter (smaller mag value)\n",
    "\n",
    "\n",
    "#Add axis labels:\n",
    "\n",
    "\n",
    "#Make numbers on axes larger to make plot easier to read\n",
    "\n",
    "#Add background grid lines\n",
    "plt.grid()\n",
    "# Don't forget to comment code!"
   ]
  },
  {
   "cell_type": "markdown",
   "metadata": {},
   "source": [
    "### Finally, let's interpret the pretty plot you've made! ###\n",
    "\n",
    "\n",
    "1) Locate at least 3 \"groups\" of stars in your CMD and label them accordingly.  \n",
    "\n",
    "2) Based on your CMD, is M15 an old cluster or young cluster... how did you come to this conclusion? \n",
    "\n",
    "3) Why are there so many data points that are scattered everywhere, and don't look like they belong in the idealized HR diagram?"
   ]
  },
  {
   "cell_type": "code",
   "execution_count": null,
   "metadata": {},
   "outputs": [],
   "source": [
    "# Copy and paste your plotting code, and modify it to address question 1.\n"
   ]
  },
  {
   "cell_type": "code",
   "execution_count": null,
   "metadata": {},
   "outputs": [],
   "source": [
    "# Answer questions 2 and 3 here"
   ]
  }
 ],
 "metadata": {
  "kernelspec": {
   "display_name": "Python 3",
   "language": "python",
   "name": "python3"
  },
  "language_info": {
   "codemirror_mode": {
    "name": "ipython",
    "version": 3
   },
   "file_extension": ".py",
   "mimetype": "text/x-python",
   "name": "python",
   "nbconvert_exporter": "python",
   "pygments_lexer": "ipython3",
   "version": "3.7.8"
  }
 },
 "nbformat": 4,
 "nbformat_minor": 1
}
