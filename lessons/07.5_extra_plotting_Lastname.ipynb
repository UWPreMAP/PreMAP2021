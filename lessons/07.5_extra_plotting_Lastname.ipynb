{
 "cells": [
  {
   "cell_type": "markdown",
   "id": "9424d25c",
   "metadata": {},
   "source": [
    "## Scatter Plots "
   ]
  },
  {
   "cell_type": "code",
   "execution_count": null,
   "id": "c18c2f8f",
   "metadata": {},
   "outputs": [],
   "source": [
    "import numpy as np\n",
    "import matplotlib.pyplot as plt\n",
    "from astropy.io import ascii\n",
    "\n",
    "%matplotlib inline"
   ]
  },
  {
   "cell_type": "code",
   "execution_count": null,
   "id": "88b45009",
   "metadata": {},
   "outputs": [],
   "source": [
    "# first let's read in some data to use for plotting\n",
    "galaxy_table = ascii.read('data/mygalaxy.dat')\n",
    "\n",
    "# Let's look at what this data looks like\n",
    "print(galaxy_table)\n",
    "\n",
    "# How to call a particular column\n",
    "print(galaxy_table['col2'])"
   ]
  },
  {
   "cell_type": "code",
   "execution_count": null,
   "id": "1904f36b",
   "metadata": {},
   "outputs": [],
   "source": [
    "# simple scatter plot\n",
    "plt.scatter(galaxy_table['col1'],galaxy_table['col2'])"
   ]
  },
  {
   "cell_type": "markdown",
   "id": "09489823",
   "metadata": {},
   "source": [
    "**SIDE NOTE:** If you are running things in the IPython environment or from a script you would want to do something like the following to get your plots to show up in a new window:\n",
    "```python\n",
    "plt.scatter(galaxy_table['col1'], galaxy_table['col2'])\n",
    "plt.show()\n",
    "```\n",
    "\n",
    "In a Jupyter Notebook, you will see the plot outputs whether or not you call `plt.show()` because we've used the `%matplotlib inline` magic function."
   ]
  },
  {
   "cell_type": "markdown",
   "id": "db2a9ef0",
   "metadata": {},
   "source": [
    "Let's break down these basic examples:\n",
    "- We are running functions called \"plot\" or \"scatter\" that take specific arguments.\n",
    "- The most basic arguments that these functions take are in the form of (x,y) values for the plot, and we get these from a data table. \n",
    "- We can use more specific arguments like 'o' to customize things like the plot symbol (marker) that we are using. \n",
    "\n",
    "With plt.scatter() you can change things like point color, point size, point edge color and point type. The argument syntax for adding these options are as follows: \n",
    "\n",
    "- color = 'colorname'; could be 'b' for blue, 'k' for black, 'r' for red, or [more detailed names](https://matplotlib.org/stable/gallery/color/named_colors.html) like 'Salmon'\n",
    "- s = number; changes marker size\n",
    "- markeredgecolor = `None` or 'colorname'\n",
    "- marker = 'symbolname', i.e. `'s'` for square, `'o'` for circle, `'+'` for cross, `'x'` for x, `'*'` for star, `'^'` for triangle, etc.\n",
    "\n",
    "Let's do an example:"
   ]
  },
  {
   "cell_type": "code",
   "execution_count": null,
   "id": "3e4eb17a",
   "metadata": {},
   "outputs": [],
   "source": [
    "# Use a scatter plot to re-make the galaxy table plot but use different arguments \n",
    "# such as color and marker size, define your own alpha, color, and markerSize\n",
    "alpha = \n",
    "color = \n",
    "markersize = \n",
    "\n",
    "plt.scatter(galaxy_table['col1'],galaxy_table['col2'],color=color,s = markersize,edgecolor='None',alpha=alpha)"
   ]
  },
  {
   "cell_type": "code",
   "execution_count": null,
   "id": "78aecd50",
   "metadata": {},
   "outputs": [],
   "source": [
    "# Here we can test the equivalent statement using plt.plot(), \n",
    "# note that the syntax is a little different \n",
    "plt.plot(galaxy_table['col1'],galaxy_table['col2'],'o',color=color,markersize=markersize,markeredgecolor='None',alpha=alpha)"
   ]
  },
  {
   "cell_type": "markdown",
   "id": "e8b9ba2e",
   "metadata": {},
   "source": [
    "The plot is starting to look better, but there is one really important thing that is missing: **axis labels.** These are very easy to put in in matplotlib using ```plt.xlabel() and plt.ylabel().``` These functions take strings as their arguments for the labels, but can also take other arguments that case the text format: "
   ]
  },
  {
   "cell_type": "code",
   "execution_count": null,
   "id": "86ea7561",
   "metadata": {},
   "outputs": [],
   "source": [
    "plt.scatter(galaxy_table['col1'],galaxy_table['col2'],color=color,s = markersize,edgecolor='None',alpha=alpha)\n",
    "\n",
    "plt.xlabel('Galactic Longitude [degrees]',fontweight='bold',fontsize=16)\n",
    "plt.ylabel('Galactic Latitude [degrees]',fontweight='bold',fontsize=16)"
   ]
  },
  {
   "cell_type": "markdown",
   "id": "8dd5a367",
   "metadata": {},
   "source": [
    "We can also change things like the axis limits with ```plt.xlim()``` and ```plt.ylim().``` For these we just want to feed it a range of values for each axis: "
   ]
  },
  {
   "cell_type": "code",
   "execution_count": null,
   "id": "3d79da18",
   "metadata": {},
   "outputs": [],
   "source": [
    "plt.scatter(galaxy_table['col1'],galaxy_table['col2'],color=color,s = markersize,edgecolor='None',alpha=alpha)\n",
    "\n",
    "plt.xlabel('Galactic Longitude [degrees]',fontweight='bold',fontsize=16)\n",
    "plt.ylabel('Galactic Latitude [degrees]',fontweight='bold',fontsize=16)\n",
    "\n",
    "plt.xlim(-100,-25)\n",
    "plt.ylim(-60,-20)"
   ]
  },
  {
   "cell_type": "markdown",
   "id": "d5e892f9",
   "metadata": {},
   "source": [
    "The axis labels are easy to read, but the numbers and tick marks on the axis are pretty small. We can tweak lots of little things about how the tick marks look, how they are spaced, and if we want to have a grid to guide the reader's eyes. I will give just a couple of examples here: "
   ]
  },
  {
   "cell_type": "code",
   "execution_count": null,
   "id": "435a2f3b",
   "metadata": {},
   "outputs": [],
   "source": [
    "# Create the scatter plot\n",
    "plt.scatter(galaxy_table['col1'],galaxy_table['col2'],color=color,s = markersize,edgecolor='None',alpha=alpha)\n",
    "\n",
    "# Set labels and sizing\n",
    "plt.xlabel('Galactic Longitude [degrees]',fontweight='bold',fontsize=16)\n",
    "plt.ylabel('Galactic Latitude [degrees]',fontweight='bold',fontsize=16)\n",
    "\n",
    "# Set axis range\n",
    "plt.xlim(-180,180)\n",
    "plt.ylim(-90,-90)\n",
    "\n",
    "# Set axis tick sizes\n",
    "plt.xticks(range(-180,210,60),fontsize=16,fontweight='bold')\n",
    "plt.yticks(range(-90,120,30),fontsize=16,fontweight='bold')\n",
    "\n",
    "# Set minor ticks\n",
    "plt.minorticks_on()\n",
    "\n",
    "# Turn on background grid\n",
    "plt.grid()"
   ]
  },
  {
   "cell_type": "markdown",
   "id": "c4666298",
   "metadata": {},
   "source": [
    "By default the figure is square, but maybe this is not the best way to represent our data. If this is the case we can change the size of the figure: "
   ]
  },
  {
   "cell_type": "code",
   "execution_count": null,
   "id": "0a2b4016",
   "metadata": {},
   "outputs": [],
   "source": [
    "# Change figure size\n",
    "plt.figure(figsize=(10,4))\n",
    "\n",
    "# Create the scatter plot\n",
    "plt.scatter(galaxy_table['col1'],galaxy_table['col2'],color=color,s = markersize,edgecolor='None',alpha=alpha)\n",
    "\n",
    "# Plot data labels\n",
    "plt.text(-90,-50, 'LMC',fontsize=20)\n",
    "plt.text(-60,-60, 'SMC',fontsize=20)\n",
    "plt.text(0,-30,'Central MW Bulge',fontsize=20)\n",
    "\n",
    "\n",
    "# Set labels and sizing\n",
    "plt.xlabel('Galactic Longitude [degrees]',fontweight='bold',fontsize=16)\n",
    "plt.ylabel('Galactic Latitude [degrees]',fontweight='bold',fontsize=16)\n",
    "\n",
    "# Set axis range\n",
    "plt.xlim(-180,180)\n",
    "plt.ylim(-90,-90)\n",
    "\n",
    "# Set axis tick sizes\n",
    "plt.xticks(range(-180,210,60),fontsize=16,fontweight='bold')\n",
    "plt.yticks(range(-90,120,30),fontsize=16,fontweight='bold')\n",
    "\n",
    "# Set minor ticks\n",
    "plt.minorticks_on()\n",
    "\n",
    "# Turn on background grid\n",
    "plt.grid()"
   ]
  },
  {
   "cell_type": "code",
   "execution_count": null,
   "id": "6b45c733",
   "metadata": {},
   "outputs": [],
   "source": []
  }
 ],
 "metadata": {
  "kernelspec": {
   "display_name": "Python 3",
   "language": "python",
   "name": "python3"
  },
  "language_info": {
   "codemirror_mode": {
    "name": "ipython",
    "version": 3
   },
   "file_extension": ".py",
   "mimetype": "text/x-python",
   "name": "python",
   "nbconvert_exporter": "python",
   "pygments_lexer": "ipython3",
   "version": "3.8.11"
  }
 },
 "nbformat": 4,
 "nbformat_minor": 5
}
