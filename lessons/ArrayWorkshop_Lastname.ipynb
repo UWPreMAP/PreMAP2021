{
 "cells": [
  {
   "cell_type": "code",
   "execution_count": null,
   "id": "3367bf03",
   "metadata": {},
   "outputs": [],
   "source": [
    "import matplotlib.pyplot as plt\n",
    "import numpy as np\n",
    "import pandas as pd"
   ]
  },
  {
   "cell_type": "markdown",
   "id": "7394a8a3",
   "metadata": {},
   "source": [
    "# What is LLST?"
   ]
  },
  {
   "cell_type": "markdown",
   "id": "5ab75a8c",
   "metadata": {},
   "source": [
    "# What is simulated data?"
   ]
  },
  {
   "cell_type": "code",
   "execution_count": null,
   "id": "dc0f980c",
   "metadata": {},
   "outputs": [],
   "source": [
    "# DO NOT EDIT THIS CELL, JUST RUN IT\n",
    "data = pd.read_csv(\"SimData.csv\")\n",
    "\n",
    "# Trigonometric parallax (in milli-arcseconds)\n",
    "parallax_obs = data['piObs'].values \n",
    "\n",
    "# Error in trigonometric parallax (in milli-arcseconds)\n",
    "parallax_err = data['piErr'].values\n",
    "\n",
    "# Get stellar galactic location (1 = disk, 2 = halo)\n",
    "star_locations = data['P'].values\n",
    "\n",
    "# \"Name\" each star with a number, starting with 0\n",
    "star_labels = data['label'].values"
   ]
  },
  {
   "cell_type": "markdown",
   "id": "609ef812",
   "metadata": {},
   "source": [
    "Explain what parallax_obs, parallax_err, and star_location arrays represent"
   ]
  },
  {
   "cell_type": "code",
   "execution_count": null,
   "id": "2a170b6e",
   "metadata": {},
   "outputs": [],
   "source": []
  },
  {
   "cell_type": "markdown",
   "id": "61a2f611",
   "metadata": {},
   "source": [
    "Explain large goal (we have a list of a bunch of stars, some are in the galactic disk and some are in the galactic halo. If we limit that list to just stars that are easily observable, where will those stars be?)"
   ]
  },
  {
   "cell_type": "markdown",
   "id": "3fde485e",
   "metadata": {},
   "source": [
    "## Where are all the stars?\n",
    "\n",
    "We can't just go straight to the large goal though, we need to get to know our dataset better. We especially need to be able to know how to cross-reference the name/label of a star in ```star_labels``` with its corresponding location given in ```star_locations```"
   ]
  },
  {
   "cell_type": "markdown",
   "id": "7f61fd6a",
   "metadata": {},
   "source": [
    "<b>1). In the cell below, define a variable called ```num_stars_tot``` that is the total number of stars in ```star_labels```. Please print ```num_stars_tot``` as well</b>"
   ]
  },
  {
   "cell_type": "code",
   "execution_count": null,
   "id": "3af38410",
   "metadata": {},
   "outputs": [],
   "source": []
  },
  {
   "cell_type": "markdown",
   "id": "eacaba27",
   "metadata": {},
   "source": [
    "<b>1). In the cell below, print whether star 44 is located in the galactic disk or the galactic halo.</b>"
   ]
  },
  {
   "cell_type": "code",
   "execution_count": null,
   "id": "f8a55d3c",
   "metadata": {},
   "outputs": [],
   "source": []
  },
  {
   "cell_type": "markdown",
   "id": "01b3ec27",
   "metadata": {},
   "source": [
    "<b>In the cell below, define a variable called ```tot_stars_disk``` that is the total number of stars in the galactic disk.</b>"
   ]
  },
  {
   "cell_type": "code",
   "execution_count": null,
   "id": "949a3501",
   "metadata": {},
   "outputs": [],
   "source": []
  },
  {
   "cell_type": "markdown",
   "id": "5ceef287",
   "metadata": {},
   "source": [
    "<b>In the cell below, define a variable called ```tot_stars_halo``` that is the total number of stars in the galactic halo.</b>"
   ]
  },
  {
   "cell_type": "code",
   "execution_count": null,
   "id": "12c935b9",
   "metadata": {},
   "outputs": [],
   "source": []
  },
  {
   "cell_type": "markdown",
   "id": "26184972",
   "metadata": {},
   "source": [
    "## How do we quantify if a star is easily observable?\n",
    "\n",
    "Define signal-to-noise ratio, we'll say an easily observable star is one with a SNR greater than 10. We'll also cross-reference the name/label of a star in ```star_labels``` with its corresponding parallax value measurement in ```parallax_obs``` and the error on that measurement in ```parallax_err```"
   ]
  },
  {
   "cell_type": "markdown",
   "id": "145f79de",
   "metadata": {},
   "source": [
    "<b>2). In the cell below, print the observed parallax value for star 44</b>"
   ]
  },
  {
   "cell_type": "code",
   "execution_count": null,
   "id": "0e0f1044",
   "metadata": {},
   "outputs": [],
   "source": []
  },
  {
   "cell_type": "markdown",
   "id": "0a253c76",
   "metadata": {},
   "source": [
    "<b>3). In the cell below, print the observed parallax value for the 44th star in the ```star_labels``` array"
   ]
  },
  {
   "cell_type": "code",
   "execution_count": null,
   "id": "46d4db87",
   "metadata": {},
   "outputs": [],
   "source": []
  },
  {
   "cell_type": "markdown",
   "id": "b33a1ffe",
   "metadata": {},
   "source": [
    "<b>4). In the cell below, print the error of the observed parallax value for star 44</b>"
   ]
  },
  {
   "cell_type": "code",
   "execution_count": null,
   "id": "6fdd39ea",
   "metadata": {},
   "outputs": [],
   "source": []
  },
  {
   "cell_type": "markdown",
   "id": "a69ce679",
   "metadata": {},
   "source": [
    "<b>5). In the cell below, print the error of the observed parallax value for the 44th star in the ```star_labels``` array"
   ]
  },
  {
   "cell_type": "code",
   "execution_count": null,
   "id": "6faeff01",
   "metadata": {},
   "outputs": [],
   "source": []
  },
  {
   "cell_type": "markdown",
   "id": "52141c14",
   "metadata": {},
   "source": [
    "<b>6). In the cell below, calculate the signal-to-noise ratio for star 44. Store the result of that calculation in a variable called ```SNR_star44```</b>"
   ]
  },
  {
   "cell_type": "code",
   "execution_count": null,
   "id": "87cc5ede",
   "metadata": {},
   "outputs": [],
   "source": []
  },
  {
   "cell_type": "markdown",
   "id": "bbdbe969",
   "metadata": {},
   "source": [
    "Given the value of ```SNR_star42``` would you consider star 42 to be easily observable? Write why or why not in the text cell below"
   ]
  },
  {
   "cell_type": "markdown",
   "id": "2a9bd663",
   "metadata": {},
   "source": []
  },
  {
   "cell_type": "markdown",
   "id": "f54f9045",
   "metadata": {},
   "source": [
    "## Making an array of all easily observable stars\n",
    "\n",
    "For this sub-goal, we'll want to make an array that contains the labels of all of the easily observable stars. This array will be a subset of all of the stars, and only list the ones that are calculated to be easily observable."
   ]
  },
  {
   "cell_type": "markdown",
   "id": "a3987458",
   "metadata": {},
   "source": [
    "### Making an array of all SNR values"
   ]
  },
  {
   "cell_type": "markdown",
   "id": "047e80ea",
   "metadata": {},
   "source": [
    "<b>7). In the cell below, create a numpy array called ```SNR_array```. Each element of that array should correspond to that star's signal-to-noise value (e.g., star 44's signal-to-noise ratio should be stored at SNR_array[44])</b>\n",
    "\n",
    "Hint: You will need to use ```np.abs()``` to take the absolute value of the signal-to-noise ratio when doing the signal-to-noise calculation because some parallax values are negative.\n",
    "\n",
    "<b>Before doing this problem, sit and think about what ```SNR_array``` should look like. Think about (and even write down on a piece of paper) what you'll need to do to make all the signal-to-noise values and how you'll put them into ```SNR_array```. There are many different ways to do this.</b>"
   ]
  },
  {
   "cell_type": "code",
   "execution_count": null,
   "id": "9a5cfac4",
   "metadata": {},
   "outputs": [],
   "source": []
  },
  {
   "cell_type": "markdown",
   "id": "3428bbc3",
   "metadata": {},
   "source": [
    "<b>8). Print the type of ```SNR_array``` in the cell below. If ```SNR_array```'s type is a python list, make it into a numpy array in the cell below.</b>"
   ]
  },
  {
   "cell_type": "code",
   "execution_count": null,
   "id": "df77b9e7",
   "metadata": {},
   "outputs": [],
   "source": []
  },
  {
   "cell_type": "markdown",
   "id": "929ea785",
   "metadata": {},
   "source": [
    "### Which SNR values correspond to easily observable stars?\n",
    "\n",
    "What we're also asking here is, which elements of ```SNR_array``` have values larger than 10?"
   ]
  },
  {
   "cell_type": "markdown",
   "id": "d90a3c90",
   "metadata": {},
   "source": [
    "<b>9). In the cell below, using ```SNR_array```, create a boolean array called ```bool_observable_stars``` that tells you whether each element of ```SNR_array``` is greater than 10.</b>"
   ]
  },
  {
   "cell_type": "code",
   "execution_count": null,
   "id": "55756329",
   "metadata": {},
   "outputs": [],
   "source": []
  },
  {
   "cell_type": "markdown",
   "id": "e2c30425",
   "metadata": {},
   "source": [
    "<b>10). In the cell below, index into the ```star_labels``` array with ```bool_observable_stars```. Define a new array called ```observable_stars``` that is the result of this indexing.</b>\n",
    "\n",
    "Hint: If you're confused about indexing into an array with a boolean array, check out Exercise 4 in lesson 04-numpy_Lastname.ipynb"
   ]
  },
  {
   "cell_type": "code",
   "execution_count": null,
   "id": "f70d851f",
   "metadata": {},
   "outputs": [],
   "source": []
  },
  {
   "cell_type": "markdown",
   "id": "c23cc38d",
   "metadata": {},
   "source": [
    "This new array, ```observable_stars``` represents the label of every star that is easily observable (i.e., has a signal-to-noise ratio above 10)."
   ]
  },
  {
   "cell_type": "markdown",
   "id": "c9343a7d",
   "metadata": {},
   "source": [
    "<b>11). In the cell below, define a variable called ```num_stars_observable``` that is the total number of stars in ```observable_stars```. Please print ```num_stars_observable``` as well</b>"
   ]
  },
  {
   "cell_type": "code",
   "execution_count": null,
   "id": "ad7f4847",
   "metadata": {},
   "outputs": [],
   "source": []
  },
  {
   "cell_type": "markdown",
   "id": "bea7ceec",
   "metadata": {},
   "source": [
    "<b>12). In the cell below, calculate what percent of the total number of stars are in ```observable_stars```.</b>\n",
    "\n",
    "Hint: you'll need to use ```num_stars_tot``` which you defined in problem 1."
   ]
  },
  {
   "cell_type": "markdown",
   "id": "189ac777",
   "metadata": {},
   "source": [
    "## Where are all the observable stars?\n",
    "\n",
    "Making the ```observable_stars``` array was a big step! Now, we're almost to our final goal, we just need to calculate the percentage of easily observable stars that are in the disk, and compare that to the percentage of total stars that are in the disk."
   ]
  },
  {
   "cell_type": "markdown",
   "id": "9ac611f7",
   "metadata": {},
   "source": [
    "<b>13). In the cell below, print the name/label of the first star in ```observable_stars```"
   ]
  },
  {
   "cell_type": "code",
   "execution_count": null,
   "id": "231423dc",
   "metadata": {},
   "outputs": [],
   "source": []
  },
  {
   "cell_type": "markdown",
   "id": "e029e979",
   "metadata": {},
   "source": [
    "<b>14). In the cell below, print whether the first star in ```observable_stars``` is in the galactic disk or halo.</b>"
   ]
  },
  {
   "cell_type": "code",
   "execution_count": null,
   "id": "2f38e340",
   "metadata": {},
   "outputs": [],
   "source": []
  },
  {
   "cell_type": "markdown",
   "id": "997f9398",
   "metadata": {},
   "source": [
    "<b>15). In the cell below, index into the ```star_locations``` array with ```bool_observable_stars```. Define a new array called ```observable_star_locations``` that is the result of this indexing.</b>\n"
   ]
  },
  {
   "cell_type": "code",
   "execution_count": null,
   "id": "33331835",
   "metadata": {},
   "outputs": [],
   "source": []
  },
  {
   "cell_type": "markdown",
   "id": "751c3dc6",
   "metadata": {},
   "source": [
    "<b>16). In the cell below, define a variable called ```observable_stars_disk``` that is the total number of stars in the galactic disk.</b>"
   ]
  },
  {
   "cell_type": "code",
   "execution_count": null,
   "id": "3be86452",
   "metadata": {},
   "outputs": [],
   "source": []
  },
  {
   "cell_type": "markdown",
   "id": "f18ef42a",
   "metadata": {},
   "source": [
    "<b>17). In the cell below, define a variable called ```observable_stars_halo``` that is the total number of stars in the galactic halo.</b>"
   ]
  },
  {
   "cell_type": "code",
   "execution_count": null,
   "id": "35ae9856",
   "metadata": {},
   "outputs": [],
   "source": []
  },
  {
   "cell_type": "markdown",
   "id": "fec6e970",
   "metadata": {},
   "source": [
    "<b>18). In the cell below, calculate the percentage of total stars that are in the disk.</b>"
   ]
  },
  {
   "cell_type": "code",
   "execution_count": null,
   "id": "b76b4eba",
   "metadata": {},
   "outputs": [],
   "source": []
  },
  {
   "cell_type": "markdown",
   "id": "529ee965",
   "metadata": {},
   "source": [
    "<b>19). In the cell below, turn the code you wrote above for number 18 into a function called ```CalculateProportions``` that has two arguments: ```num_halo_stars``` and ```num_disk_stars```. Given those two arguments, the function will return the percentage of disk stars.</b>"
   ]
  },
  {
   "cell_type": "code",
   "execution_count": null,
   "id": "1d2bd8d1",
   "metadata": {},
   "outputs": [],
   "source": []
  },
  {
   "cell_type": "markdown",
   "id": "1a87b7f4",
   "metadata": {},
   "source": [
    "<b>20). In the cell below, use the ```CalculateProportions``` function you wrote above to calculate the percentage of total stars that are in the disk. You should get the same percentage you calculated in 18</b>"
   ]
  },
  {
   "cell_type": "code",
   "execution_count": null,
   "id": "7f32f4ec",
   "metadata": {},
   "outputs": [],
   "source": []
  },
  {
   "cell_type": "markdown",
   "id": "0f555ad9",
   "metadata": {},
   "source": [
    "<b>21). In the cell below, use the ```CalculateProportions``` function you wrote in 19 to calculate the percentage of observable stars that are in the disk. Is this percentage greater than or less than the percentage of total stars that are in the disk?</b>"
   ]
  },
  {
   "cell_type": "code",
   "execution_count": null,
   "id": "14d888ba",
   "metadata": {},
   "outputs": [],
   "source": []
  }
 ],
 "metadata": {
  "kernelspec": {
   "display_name": "Python 3",
   "language": "python",
   "name": "python3"
  },
  "language_info": {
   "codemirror_mode": {
    "name": "ipython",
    "version": 3
   },
   "file_extension": ".py",
   "mimetype": "text/x-python",
   "name": "python",
   "nbconvert_exporter": "python",
   "pygments_lexer": "ipython3",
   "version": "3.8.11"
  }
 },
 "nbformat": 4,
 "nbformat_minor": 5
}
