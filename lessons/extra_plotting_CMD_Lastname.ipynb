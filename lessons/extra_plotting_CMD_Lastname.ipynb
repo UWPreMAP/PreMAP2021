{
 "cells": [
  {
   "cell_type": "markdown",
   "metadata": {},
   "source": [
    "# Extra Plotting Practice: Creating Colour-Magnitude Diagram #\n",
    "\n",
    "## Essential Background Information ##\n",
    "\n",
    "The Hertzsprung-Russell (HR) diagram plots a star's luminosity (or brightness) on the y-axis and its temperature on the x-axis. Astronomers use HR diagrams to classify stars; different types of stars clump together on the HR diagram. You saw the HR diagram in the last example of Lesson 6: Plotting Jupyter Notebook. That HR diagram was an *idealized* representation of distinct groupings of stars, e.g., the Main Sequence, the Horizonal Branch, the Red Giant Branch, etc. So waht about in practice? What does a HR diagram look like with real observational data?\n",
    "\n",
    "<img src=\"images/hr.png\">\n",
    "\n",
    "When astronomers make an HR diagram based off of real data in the night sky, they call it the \"observer's HR diagram\" or **the Color-Magnitude Diagram (CMD)**. This is because instead of luminosity and temperature on the y and x axes, respectively, observers plot the apparent brightness of a star vs. its color. Side note on color for those of you not taking ASTR 101 or 102: color is the difference between a star's brightness in two different color ranges. It is a numerical way to represent actual *colors*. Typically, observers use the B, V, R, I (blue, visible/green, red, infrared) bandpasses, and so will plot V mag vs. B-I mag. \n",
    "\n",
    "To make an HR diagram based off of real observations, we point our telescopes at *stars in stellar clusters* and *observe their brightness in various bandpasses*. There are several reasons why we do this:\n",
    "\n",
    "1) Looking at a stellar cluster ensures that our observer's HR diagram won't have just 10 lonely stars in it, but rather fill the whole parameter space.\n",
    "\n",
    "2) If you observe the apparent brightnesses of stars in the same stellar cluster, they are roughly at the same distance, which means you can compare the brightness of the stars relative to each other in the cluster, no problem. \n",
    "\n",
    "3) Observing the brightnesses of stars in multiple bandpasses or filters allow us to estimate their temperatures. Stars that are hotter will be bluer so they will be brighter in bluer bandpasses relative to redder bandpasses. Stars that are cooler will be redder, so they will be brighter in redder bandpasses relative to blue. For this reason, the relative brightness of an astronomical object between two bandpasses (or the difference in magnitude) is called \"color\". \n",
    "\n",
    "The stellar cluster CMD technique is a powerful tool because it simultaneously tells you the **age** of the cluster and **distance** to that cluster! An \"observed\" HR diagram, or CMD will look different from the idealized HR diagram from Lesson 6! Consider this: stars in the same cluster will have the same age (and composition), since they were born out of the same molecular cloud at the same time. However, because more massive stars fuse hydrogen faster, they evolve off the main sequence faster, and consequently an *older* stellar cluster will have *fewer* massive stars still in the main sequence phase. As the cluster ages, more and more low-mass stars will evolve off the main sequence, and this \"turn-off\" from the main sequence track is called... **\"the main sequence turn off\" (MSTO)**. You can see this effect in the image below. Each panel depicts a snapshot of a stellar cluster at a particular age ($t=0$ when cluster is just born), and shaded region = main sequence.\n",
    "\n",
    "<img src=\"http://pages.uoregon.edu/jimbrau/BrauImNew/Chap20/8th/20_17_Figure_Unanno.jpg\">\n",
    "\n",
    "You can read more about CMDs [here](https://web.njit.edu/~gary/202/Lecture17.html) (optional).\n",
    "\n",
    "## What You Need To Do ##\n",
    "In this exercise, you will create a CMD based off real data of the [M15 cluster](https://en.wikipedia.org/wiki/Messier_15) astronomers collected! Make sure to **comment your code**.\n",
    "\n",
    "### First, you will read in the ascii data file that contains the B, V, and I magnitudes of stars. ### \n",
    "\n",
    "The data file you need is already in your PreMAP2019 directory (`data/m15.tsv`). Read it in using functions you learned in Lesson 6. Note the file `m15.tsv` has ;-separated values, so when you apply the function you will have to specify keyword argument `delimiter=';'`.\n",
    "\n",
    "Other resources to better understand CMDs and the CMD that you will make:\n",
    "<ul>\n",
    "    <li>https://en.wikipedia.org/wiki/Horizontal_branch#/media/File:M5_colour_magnitude_diagram.png</li>\n",
    "    <li>https://en.wikipedia.org/wiki/Globular_cluster#Hertzsprung%E2%80%93Russell_diagrams_of_globular_clusters</li>\n",
    "    <li>https://en.wikipedia.org/wiki/UBV_photometric_system</li>\n",
    "    <li>https://en.wikipedia.org/wiki/Color_index</li>\n",
    "    <li>https://ned.ipac.caltech.edu/level5/Sept01/Krauss2/Figures/figure4.jpg</li>\n",
    "</ul>"
   ]
  },
  {
   "cell_type": "code",
   "execution_count": 2,
   "metadata": {},
   "outputs": [],
   "source": [
    "#Copy import statement from notebook 7\n",
    "import matplotlib.pyplot as plt \n",
    "\n",
    "# We'll also read some data using pandas, so let's import that\n",
    "import numpy as np \n",
    "import pandas as pd\n",
    "\n",
    "# I'm also using this \"magic\" function to make my plots appear in this notebook\n",
    "# Only do this when working with Jupyter notebooks\n",
    "%matplotlib inline"
   ]
  },
  {
   "cell_type": "markdown",
   "metadata": {},
   "source": [
    "Take a look at m15, what is the <b>delimiter</b> here?"
   ]
  },
  {
   "cell_type": "code",
   "execution_count": 7,
   "metadata": {},
   "outputs": [],
   "source": [
    "# Write code to read in the contents of the ascii file here\n",
    "m15_data = pd.read_csv(\"data/m15.tsv\", delimiter = ';')"
   ]
  },
  {
   "cell_type": "code",
   "execution_count": 4,
   "metadata": {},
   "outputs": [
    {
     "data": {
      "text/html": [
       "<div>\n",
       "<style scoped>\n",
       "    .dataframe tbody tr th:only-of-type {\n",
       "        vertical-align: middle;\n",
       "    }\n",
       "\n",
       "    .dataframe tbody tr th {\n",
       "        vertical-align: top;\n",
       "    }\n",
       "\n",
       "    .dataframe thead th {\n",
       "        text-align: right;\n",
       "    }\n",
       "</style>\n",
       "<table border=\"1\" class=\"dataframe\">\n",
       "  <thead>\n",
       "    <tr style=\"text-align: right;\">\n",
       "      <th></th>\n",
       "      <th>_RAJ2000</th>\n",
       "      <th>_DEJ2000</th>\n",
       "      <th>ID</th>\n",
       "      <th>Bmag</th>\n",
       "      <th>e_Bmag</th>\n",
       "      <th>Vmag</th>\n",
       "      <th>e_Vmag</th>\n",
       "      <th>Imag</th>\n",
       "      <th>e_Imag</th>\n",
       "    </tr>\n",
       "  </thead>\n",
       "  <tbody>\n",
       "    <tr>\n",
       "      <th>0</th>\n",
       "      <td>322.65333</td>\n",
       "      <td>12.12536</td>\n",
       "      <td>2</td>\n",
       "      <td>19.514</td>\n",
       "      <td>0.005</td>\n",
       "      <td>19.021</td>\n",
       "      <td>0.007</td>\n",
       "      <td>18.411</td>\n",
       "      <td>0.010</td>\n",
       "    </tr>\n",
       "    <tr>\n",
       "      <th>1</th>\n",
       "      <td>322.65271</td>\n",
       "      <td>12.04764</td>\n",
       "      <td>4</td>\n",
       "      <td>19.382</td>\n",
       "      <td>0.005</td>\n",
       "      <td>17.960</td>\n",
       "      <td>0.004</td>\n",
       "      <td>16.507</td>\n",
       "      <td>0.004</td>\n",
       "    </tr>\n",
       "    <tr>\n",
       "      <th>2</th>\n",
       "      <td>322.65312</td>\n",
       "      <td>12.16878</td>\n",
       "      <td>6</td>\n",
       "      <td>20.279</td>\n",
       "      <td>0.009</td>\n",
       "      <td>19.763</td>\n",
       "      <td>0.011</td>\n",
       "      <td>19.114</td>\n",
       "      <td>0.014</td>\n",
       "    </tr>\n",
       "    <tr>\n",
       "      <th>3</th>\n",
       "      <td>322.65279</td>\n",
       "      <td>12.09572</td>\n",
       "      <td>8</td>\n",
       "      <td>18.317</td>\n",
       "      <td>0.003</td>\n",
       "      <td>17.506</td>\n",
       "      <td>0.003</td>\n",
       "      <td>16.808</td>\n",
       "      <td>0.005</td>\n",
       "    </tr>\n",
       "    <tr>\n",
       "      <th>4</th>\n",
       "      <td>322.65287</td>\n",
       "      <td>12.12203</td>\n",
       "      <td>9</td>\n",
       "      <td>21.250</td>\n",
       "      <td>0.016</td>\n",
       "      <td>20.709</td>\n",
       "      <td>0.026</td>\n",
       "      <td>19.980</td>\n",
       "      <td>0.034</td>\n",
       "    </tr>\n",
       "  </tbody>\n",
       "</table>\n",
       "</div>"
      ],
      "text/plain": [
       "    _RAJ2000  _DEJ2000  ID    Bmag  e_Bmag    Vmag  e_Vmag    Imag  e_Imag\n",
       "0  322.65333  12.12536   2  19.514   0.005  19.021   0.007  18.411   0.010\n",
       "1  322.65271  12.04764   4  19.382   0.005  17.960   0.004  16.507   0.004\n",
       "2  322.65312  12.16878   6  20.279   0.009  19.763   0.011  19.114   0.014\n",
       "3  322.65279  12.09572   8  18.317   0.003  17.506   0.003  16.808   0.005\n",
       "4  322.65287  12.12203   9  21.250   0.016  20.709   0.026  19.980   0.034"
      ]
     },
     "execution_count": 4,
     "metadata": {},
     "output_type": "execute_result"
    }
   ],
   "source": [
    "#Add in the delimiter: this is the character that separates values in different columns of the table\n",
    "#If you are unsure what the delimiter should be, you can open the file (in the ./data/ folder) and see!\n",
    "m15_data.head() #check out the first three lines of the table to see column names\n",
    "\n",
    "\n",
    "# Don't forget to comment code! "
   ]
  },
  {
   "cell_type": "markdown",
   "metadata": {},
   "source": [
    "### Next, make a plot with B-V color on the x-axis, and V magnitude on the y-axis. ###\n",
    "\n",
    "Make sure you give the proper x, y axis labels (with units), and make sure the limits of the y-axis is correct (remember the bigger the magnitude, the fainter an object)."
   ]
  },
  {
   "cell_type": "code",
   "execution_count": 6,
   "metadata": {},
   "outputs": [],
   "source": [
    "# Write code to make & prettify the plot, use either plt.plot or plt.scatter\n",
    "\n",
    "# First define the BminusV array\n",
    "\n",
    "# now run the plot command to plot your BminusV array on the x-axis and the Vmag data on the y-axis\n",
    "\n",
    "# Invert the y axis\n",
    "\n",
    "\n",
    "# Label your axes\n",
    "\n",
    "# Make the numbers on the axes bigger\n",
    "\n",
    "\n",
    "# Limit the x axis on your plot to the range [-.5, 2]\n",
    "\n",
    "\n",
    "#Add background grid lines"
   ]
  },
  {
   "cell_type": "markdown",
   "metadata": {},
   "source": [
    "### Finally, let's interpret the pretty plot you've made! ###\n",
    "\n",
    "\n",
    "1) Where is the horizontal branch on your diagram? Where is the main sequence?  \n",
    "\n",
    "2) Based on your CMD, is M15 an old cluster or young cluster... how did you come to this conclusion? \n",
    "\n",
    "3) Why are there so many data points that are scattered everywhere, and don't look like they belong in the idealized HR diagram?"
   ]
  },
  {
   "cell_type": "code",
   "execution_count": null,
   "metadata": {},
   "outputs": [],
   "source": [
    "# Copy and paste your plotting code, and modify it to address question 1.\n"
   ]
  },
  {
   "cell_type": "code",
   "execution_count": null,
   "metadata": {},
   "outputs": [],
   "source": [
    "# Answer questions 2 and 3 here"
   ]
  }
 ],
 "metadata": {
  "kernelspec": {
   "display_name": "Python 3",
   "language": "python",
   "name": "python3"
  },
  "language_info": {
   "codemirror_mode": {
    "name": "ipython",
    "version": 3
   },
   "file_extension": ".py",
   "mimetype": "text/x-python",
   "name": "python",
   "nbconvert_exporter": "python",
   "pygments_lexer": "ipython3",
   "version": "3.8.11"
  }
 },
 "nbformat": 4,
 "nbformat_minor": 1
}
