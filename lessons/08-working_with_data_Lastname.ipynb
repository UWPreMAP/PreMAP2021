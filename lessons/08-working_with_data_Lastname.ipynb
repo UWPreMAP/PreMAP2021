{
 "cells": [
  {
   "cell_type": "markdown",
   "id": "8b1efced",
   "metadata": {},
   "source": [
    "[Pre-MAP Course Website](http://depts.washington.edu/premap/seminar/cohort-17-2021-seminar/) | [Pre-MAP GitHub](https://github.com/UWPreMAP/PreMAP2021) | [Google](https://www.google.com)\n",
    "\n",
    "### Each time you access the PreMAP2021 directory make sure your files are up to date\n",
    "1. Open up a terminal tab (New -> Terminal). Change directories into the PreMAP2021 directory, then do:\n",
    "```bash\n",
    "cd PreMAP2021\n",
    "```\n",
    "2. Update the directory to get any newly added files by running in the terminal:\n",
    "```bash\n",
    "git pull\n",
    "```\n",
    "3. Type in your terminal:\n",
    "```bash\n",
    "cd lessons\n",
    "```\n",
    "4. If you're on the AstroLab computer, type in your terminal:\n",
    "```bash\n",
    "jupyter notebook\n",
    "```\n",
    "This will open a webpage that has the lessons on them. You can select this lesson and then edit and run the cells to follow along with the lesson. Remember to change \"Lastname\" to your last name."
   ]
  },
  {
   "cell_type": "markdown",
   "id": "41771f86",
   "metadata": {},
   "source": [
    "Plan: Pandas (just how to get data/read a csv file, how to add a column to a dataframeb) -> Subplots (for people who haven't done it yet) -> "
   ]
  },
  {
   "cell_type": "code",
   "execution_count": 16,
   "id": "75ae2d29",
   "metadata": {},
   "outputs": [],
   "source": [
    "import numpy as np\n",
    "import matplotlib.pyplot as plt\n",
    "\n",
    "%matplotlib inline"
   ]
  },
  {
   "cell_type": "markdown",
   "id": "cd69398a",
   "metadata": {},
   "source": [
    "# Python dictionary\n",
    "\n",
    "Before we talk about working with data, we're going to learn a new python type, the dictionary!\n",
    "\n",
    "A dictionary in python is kind of like a dictionary in the real world, it is an object that associates a reference to a value. This is similar to how a dictionary associates a word with a definition. \n",
    "\n",
    "In python, we can declare a dictionary with curly brackets {}. Inside the curly brackets, we write out keys and values, as so:"
   ]
  },
  {
   "cell_type": "code",
   "execution_count": 2,
   "id": "ee4dc250",
   "metadata": {},
   "outputs": [],
   "source": [
    "SampleDictionary = {\"Aardvark\": \"A type of animal\", \"Bear\": \"A kind of scary furry mammal\"}"
   ]
  },
  {
   "cell_type": "markdown",
   "id": "42e4be27",
   "metadata": {},
   "source": [
    "Dictionaries have two types of things in them, <b>keys</b> and <b>values</b>. Each <b>values</b> is associated with a <b>key</b>. When defining a dictionary, the key is on the left of the colon, and the value is on the right. Keys and values can be any type, in the example above both our keys and our values are strings, but they could be ints, or floats, or even lists.\n",
    "\n",
    "You can access the values from the dictionary by \"indexing\" into the dictionary with the key that is associated with that value, for example to see the definition for a \"Bear\" we type:"
   ]
  },
  {
   "cell_type": "code",
   "execution_count": 3,
   "id": "9e33d9b2",
   "metadata": {},
   "outputs": [
    {
     "data": {
      "text/plain": [
       "'A kind of scary furry mammal'"
      ]
     },
     "execution_count": 3,
     "metadata": {},
     "output_type": "execute_result"
    }
   ],
   "source": [
    "SampleDictionary[\"Bear\"]"
   ]
  },
  {
   "cell_type": "markdown",
   "id": "85d615c8",
   "metadata": {},
   "source": [
    "You can add a key, value pair to a dictionary by assigning that value to the key like a variable, as so:"
   ]
  },
  {
   "cell_type": "code",
   "execution_count": 5,
   "id": "f952d3e2",
   "metadata": {},
   "outputs": [
    {
     "name": "stdout",
     "output_type": "stream",
     "text": [
      "{'Aardvark': 'A type of animal', 'Bear': 'A kind of scary furry mammal', 'Fish': 'A swimming not-mammal'}\n"
     ]
    }
   ],
   "source": [
    "SampleDictionary[\"Fish\"] = \"A swimming not-mammal\"\n",
    "print(SampleDictionary)"
   ]
  },
  {
   "cell_type": "markdown",
   "id": "b467cd5d",
   "metadata": {},
   "source": [
    "Finally, you can print all of the keys or values for a dictionary by running `SampleDictionary.keys()` or `SampleDictionary.values()`"
   ]
  },
  {
   "cell_type": "code",
   "execution_count": 7,
   "id": "fff41634",
   "metadata": {},
   "outputs": [
    {
     "name": "stdout",
     "output_type": "stream",
     "text": [
      "dict_keys(['Aardvark', 'Bear', 'Fish'])\n",
      "dict_values(['A type of animal', 'A kind of scary furry mammal', 'A swimming not-mammal'])\n"
     ]
    }
   ],
   "source": [
    "print(SampleDictionary.keys())\n",
    "print(SampleDictionary.values())"
   ]
  },
  {
   "cell_type": "markdown",
   "id": "0ac2656b",
   "metadata": {},
   "source": [
    "## Example 1: Making your own dictionary\n",
    "\n",
    "A common code that people will use is to assign a number to each letter of the alphabet, such that A = 1, B = 2, etc. \n",
    "\n",
    "In the cell below, make your own dictionary where the keys are the first 5 letters of the alphabet, and the values is that letter's corresponding numerical value. Print out the dictionary, and access some of the values in the dictionary using the letters as keys."
   ]
  },
  {
   "cell_type": "code",
   "execution_count": null,
   "id": "cf51ec08",
   "metadata": {},
   "outputs": [],
   "source": []
  },
  {
   "cell_type": "markdown",
   "id": "273076dc",
   "metadata": {},
   "source": [
    "# Working with data and pandas\n",
    "\n",
    "`pandas` is a package that heavily builds upon this concept of a dictionary that we use to manage data.\n",
    "\n",
    "Run the cell below to import it. A common way to abbreviate `pandas` (like `numpy` as `np`) is as `pd`."
   ]
  },
  {
   "cell_type": "code",
   "execution_count": 2,
   "id": "9c2fdaac",
   "metadata": {},
   "outputs": [],
   "source": [
    "import pandas as pd"
   ]
  },
  {
   "cell_type": "markdown",
   "id": "4ec7d788",
   "metadata": {},
   "source": [
    "## The pandas dataframe\n",
    "\n",
    "`pandas` introduces a new type called a `dataframe`. If it helps, you can kind of think of it like an excel sheet, because it organizes data into columns and each column has a name. Thinking of it like a dictionary, the column name is the key and the column is the value.\n",
    "\n",
    "We can load a dataframe from a text file using the `read_csv` function in pandas. Run the cell below to load the `PlanetEvolution` file into a pandas dataframe. \n",
    "\n",
    "(Quick note here, a .csv file is a way to organize data, csv stands for comma-separated values. This means that the columns in the data are separated by commas, the `read_csv` function knows this and can tell which column is which by looking for those commas."
   ]
  },
  {
   "cell_type": "code",
   "execution_count": 3,
   "id": "e726993b",
   "metadata": {},
   "outputs": [],
   "source": [
    "data = pd.read_csv(\"data/PlanetEvolution.csv\")"
   ]
  },
  {
   "cell_type": "markdown",
   "id": "fec99d6a",
   "metadata": {},
   "source": [
    "So now we have this variable data that contains the `pandas` dataframe that holds the data from \"PlanetEvolution.csv\". Whenever we load a dataframe we want to get a feel for the data. The best way to do this is with the `.head()` function that every dataframe has access to. This will give us the first 5 rows of the data, try running the cell below to see what this function does.\n",
    "\n",
    "Getting a feel for the data\n",
    "Getting what you want from the dataframe"
   ]
  },
  {
   "cell_type": "code",
   "execution_count": 4,
   "id": "913b5aca",
   "metadata": {},
   "outputs": [
    {
     "data": {
      "text/html": [
       "<div>\n",
       "<style scoped>\n",
       "    .dataframe tbody tr th:only-of-type {\n",
       "        vertical-align: middle;\n",
       "    }\n",
       "\n",
       "    .dataframe tbody tr th {\n",
       "        vertical-align: top;\n",
       "    }\n",
       "\n",
       "    .dataframe thead th {\n",
       "        text-align: right;\n",
       "    }\n",
       "</style>\n",
       "<table border=\"1\" class=\"dataframe\">\n",
       "  <thead>\n",
       "    <tr style=\"text-align: right;\">\n",
       "      <th></th>\n",
       "      <th>Time</th>\n",
       "      <th>SurfWaterMass</th>\n",
       "      <th>EruptionRate</th>\n",
       "      <th>TMan</th>\n",
       "      <th>MagMom</th>\n",
       "    </tr>\n",
       "  </thead>\n",
       "  <tbody>\n",
       "    <tr>\n",
       "      <th>0</th>\n",
       "      <td>0.00</td>\n",
       "      <td>1.864983</td>\n",
       "      <td>3.221604e+15</td>\n",
       "      <td>2976.163000</td>\n",
       "      <td>0.0</td>\n",
       "    </tr>\n",
       "    <tr>\n",
       "      <th>1</th>\n",
       "      <td>0.01</td>\n",
       "      <td>1.657204</td>\n",
       "      <td>4.227407e+10</td>\n",
       "      <td>2515.928065</td>\n",
       "      <td>0.0</td>\n",
       "    </tr>\n",
       "    <tr>\n",
       "      <th>2</th>\n",
       "      <td>0.02</td>\n",
       "      <td>1.445770</td>\n",
       "      <td>2.338786e+10</td>\n",
       "      <td>2488.819349</td>\n",
       "      <td>0.0</td>\n",
       "    </tr>\n",
       "    <tr>\n",
       "      <th>3</th>\n",
       "      <td>0.03</td>\n",
       "      <td>1.234176</td>\n",
       "      <td>1.716540e+10</td>\n",
       "      <td>2472.629132</td>\n",
       "      <td>0.0</td>\n",
       "    </tr>\n",
       "    <tr>\n",
       "      <th>4</th>\n",
       "      <td>0.04</td>\n",
       "      <td>1.022522</td>\n",
       "      <td>1.395316e+10</td>\n",
       "      <td>2461.071795</td>\n",
       "      <td>0.0</td>\n",
       "    </tr>\n",
       "  </tbody>\n",
       "</table>\n",
       "</div>"
      ],
      "text/plain": [
       "   Time  SurfWaterMass  EruptionRate         TMan  MagMom\n",
       "0  0.00       1.864983  3.221604e+15  2976.163000     0.0\n",
       "1  0.01       1.657204  4.227407e+10  2515.928065     0.0\n",
       "2  0.02       1.445770  2.338786e+10  2488.819349     0.0\n",
       "3  0.03       1.234176  1.716540e+10  2472.629132     0.0\n",
       "4  0.04       1.022522  1.395316e+10  2461.071795     0.0"
      ]
     },
     "execution_count": 4,
     "metadata": {},
     "output_type": "execute_result"
    }
   ],
   "source": [
    "data.head()"
   ]
  },
  {
   "cell_type": "markdown",
   "id": "09714fcf",
   "metadata": {},
   "source": [
    "Another helpful thing to get familiar with the data (especially if there are a lot of columns) is the `.columns` variable that every dataframe has available. This will return a numpy array that tells you all the columns in that dataframe. Run the cell below to see what it does."
   ]
  },
  {
   "cell_type": "code",
   "execution_count": 7,
   "id": "0137bfc9",
   "metadata": {},
   "outputs": [
    {
     "data": {
      "text/plain": [
       "Index(['Time', 'SurfWaterMass', 'EruptionRate', 'TMan', 'MagMom'], dtype='object')"
      ]
     },
     "execution_count": 7,
     "metadata": {},
     "output_type": "execute_result"
    }
   ],
   "source": [
    "data.columns"
   ]
  },
  {
   "cell_type": "markdown",
   "id": "d3acbd5e",
   "metadata": {},
   "source": [
    "Finally, let's get data from this dataframe. Pandas dataframes work very similarly to a python dictionary, you get the data in the column by \"indexing\" into the dataframe with the name of the column, like below:"
   ]
  },
  {
   "cell_type": "code",
   "execution_count": 8,
   "id": "65033aa7",
   "metadata": {},
   "outputs": [
    {
     "name": "stdout",
     "output_type": "stream",
     "text": [
      "0      0.00\n",
      "1      0.01\n",
      "2      0.02\n",
      "3      0.03\n",
      "4      0.04\n",
      "       ... \n",
      "446    4.46\n",
      "447    4.47\n",
      "448    4.48\n",
      "449    4.49\n",
      "450    4.50\n",
      "Name: Time, Length: 451, dtype: float64\n"
     ]
    }
   ],
   "source": [
    "print(data[\"Time\"])"
   ]
  },
  {
   "cell_type": "markdown",
   "id": "a4fb740c",
   "metadata": {},
   "source": [
    "Notice that this looks a little different to a numpy array, this is actually a `pandas` <b>Series</b> (which you can read more about <a href=\"https://pandas.pydata.org/docs/reference/api/pandas.Series.html\">here</a> and <a href=\"https://towardsdatascience.com/a-practical-introduction-to-pandas-series-9915521cdc69\">here</a>. A Series works a little differently than a numpy array does, but it's easy to get the numpy array from the series, just use the `.values` command that is part of every Series."
   ]
  },
  {
   "cell_type": "code",
   "execution_count": 11,
   "id": "0b2cde85",
   "metadata": {},
   "outputs": [
    {
     "name": "stdout",
     "output_type": "stream",
     "text": [
      "<class 'pandas.core.series.Series'>\n",
      "<class 'numpy.ndarray'>\n"
     ]
    }
   ],
   "source": [
    "print(type(data[\"Time\"]))\n",
    "print(type(data[\"Time\"].values))"
   ]
  },
  {
   "cell_type": "markdown",
   "id": "e10675f0",
   "metadata": {},
   "source": [
    "## Example 2: Getting data from a pandas dataframe\n",
    "\n",
    "Print the Time column of the data, and the SurfWaterMass column. Then, plot the SurfWaterMass column by the Time column."
   ]
  },
  {
   "cell_type": "code",
   "execution_count": null,
   "id": "8b02790f",
   "metadata": {},
   "outputs": [],
   "source": []
  }
 ],
 "metadata": {
  "kernelspec": {
   "display_name": "Python 3",
   "language": "python",
   "name": "python3"
  },
  "language_info": {
   "codemirror_mode": {
    "name": "ipython",
    "version": 3
   },
   "file_extension": ".py",
   "mimetype": "text/x-python",
   "name": "python",
   "nbconvert_exporter": "python",
   "pygments_lexer": "ipython3",
   "version": "3.8.11"
  }
 },
 "nbformat": 4,
 "nbformat_minor": 5
}
