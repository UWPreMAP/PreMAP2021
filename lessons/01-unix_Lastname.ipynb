{
 "cells": [
  {
   "cell_type": "markdown",
   "metadata": {},
   "source": [
    "# Introduction to Unix"
   ]
  },
  {
   "cell_type": "markdown",
   "metadata": {},
   "source": [
    "Very general question time: What is it that computers *do*? Computers can interact with us, store information for us, run programs, etc. Computers can help us do science! We, as scientists, interact with computers in a couple of basic ways, through the **command line interface (CLI)** or a **graphical user interface (GUI)**. What are some examples of GUIs? Well, almost everything you're used to using is a GUI! Word, Excel, etc. GUIs are great because they require no memorization of syntax or knowledge of programming--you can simply use menus and icons to move, delete, or open a file. So why bother with CLI at all? Because it can be very convenient, powerful, and sometimes will be the only way you can interact with the computer.\n",
    "\n",
    "**COMMAND SHELL**: The command shell is a program that helps you communicate with your computer. You type a something into the terminal, and then the shell takes this and figures out what commands the computer needs to run and then orders the computer to do so. A commonly used shell for Unix is the Bash shell. Let's start off with some very basic shell commands. NOTE: Because I'm in this python notebook environment I need to include this first line with the percentage signs. It is called a magic function and it just helps me simulate being in the shell environment. You DO NOT need to use this.  "
   ]
  },
  {
   "cell_type": "markdown",
   "metadata": {},
   "source": [
    "## Vocab for Today\n",
    "<ul>\n",
    "    <li>Terminal</li>\n",
    "    <li>Terminal Command</li>\n",
    "    <li>Filesystem</li>\n",
    "    <li>Flag</li>\n",
    "    <li>Extension</li>\n",
    "    <li>Directory</li>\n",
    "    <li>Textfile</li>\n",
    "</ul>"
   ]
  },
  {
   "cell_type": "markdown",
   "metadata": {},
   "source": [
    "## Basic Unix Commands (Navigating the Filesystem)"
   ]
  },
  {
   "cell_type": "markdown",
   "metadata": {},
   "source": [
    "### Where am I?"
   ]
  },
  {
   "cell_type": "markdown",
   "metadata": {},
   "source": [
    "When you're working with a command line interface, you're still working with your computer, you're just looking at it in a different way than you're used to.\n",
    "\n",
    "The most important thing is to know where you are in your computer, you can do this with **```pwd```**"
   ]
  },
  {
   "cell_type": "code",
   "execution_count": null,
   "metadata": {},
   "outputs": [],
   "source": [
    "%%bash\n",
    "pwd"
   ]
  },
  {
   "cell_type": "markdown",
   "metadata": {},
   "source": [
    "From the **```pwd```** command we can see which directory we are currently working in. This means I am in the lessons folder, which is a itself within the PreMAP2021 folder on my computer, and so on. /Users/rodolfogarcia/ refers to my so-called \"home directory,\" if you're on an astrolab computer your home directory will look something like this \"/astro/users/rodolfog\", albeit with a different username (your uwnetid)."
   ]
  },
  {
   "cell_type": "markdown",
   "metadata": {},
   "source": [
    "You can reach this location by typing **```cd /astro/users/YOURNETID/PreMAP2021/lessons```**"
   ]
  },
  {
   "cell_type": "markdown",
   "metadata": {},
   "source": [
    "This PreMAP2021/lessons folder is the exact same folder as the one that's on the Github!"
   ]
  },
  {
   "cell_type": "markdown",
   "metadata": {},
   "source": [
    "### What's here?"
   ]
  },
  {
   "cell_type": "markdown",
   "metadata": {},
   "source": [
    "So, you can know what folder you're in with **```pwd```**, but what's in that folder? The **```ls```** command <b>l</b>i<b>s</b>ts what is in the current working directory. Let's see what's in this folder"
   ]
  },
  {
   "cell_type": "code",
   "execution_count": null,
   "metadata": {
    "scrolled": true
   },
   "outputs": [],
   "source": [
    "%%bash\n",
    "ls"
   ]
  },
  {
   "cell_type": "markdown",
   "metadata": {},
   "source": [
    "Wow, there's a lot of stuff here! Spoilers for future lessons! You can see that there are lots of different types of files here, based on their ending (called an <b>extension</b>), such as .py, .txt, and .pdf files. But what are those things that don't have an extension?\n",
    "\n",
    "Now, remember that we're navigating a Filesystem here, which means we'll have folders inside of folders inside of folders. You can see if there are folders inside your current location by typing **```ls -F```**"
   ]
  },
  {
   "cell_type": "code",
   "execution_count": null,
   "metadata": {},
   "outputs": [],
   "source": [
    "%%bash\n",
    "ls -F"
   ]
  },
  {
   "cell_type": "markdown",
   "metadata": {},
   "source": [
    "ddCheck it out! By adding a <b>flag</b> (-F) to **```ls```**, we can see that there are a few folders in this folder. The computer science word for a folder is a <b>directory</b>"
   ]
  },
  {
   "cell_type": "markdown",
   "metadata": {},
   "source": [
    "So now we see a lot more stuff! I added this trailing \"-F\" <b>flag</b> to **```ls```** to make it more clear which things are directories (adds trailing \"/\" to directories) and which things are files."
   ]
  },
  {
   "cell_type": "markdown",
   "metadata": {},
   "source": [
    "-F is not the only flag you can have for **```ls```**. A common flag is \"-lh\" (<b>l</b>ong, <b>h</b>uman-readable), let's see what that looks like."
   ]
  },
  {
   "cell_type": "code",
   "execution_count": null,
   "metadata": {},
   "outputs": [],
   "source": [
    "%%bash\n",
    "ls -lh"
   ]
  },
  {
   "cell_type": "markdown",
   "metadata": {},
   "source": [
    "There's a lot going on here, it's intimidating but we can handle it! The most relevant thing for y'all will be the last four columns which are the size of the file/directory (in Bytes, Kilobytes, MegaBytes, or GigaBytes), the date and time the file/directory was last modified, and the name of the file/directory."
   ]
  },
  {
   "cell_type": "markdown",
   "metadata": {},
   "source": [
    "You can also combine flags, let's tell the Terminal to explicitly show which of these are folders with **```ls -F```** while also getting the size of each file and folder with **```ls -lh```**"
   ]
  },
  {
   "cell_type": "code",
   "execution_count": null,
   "metadata": {},
   "outputs": [],
   "source": [
    "%%bash\n",
    "ls -F -lh"
   ]
  },
  {
   "cell_type": "markdown",
   "metadata": {},
   "source": [
    "### How do I go to a different directory?\n",
    "\n",
    "So, we've been having fun in /lessons/, but let's go to where we want to be for the rest of the lesson. I've made a lot of files for us to work with, but they're not here. They're actually in /lessons/UnixIntro/. But how do we get there?\n",
    "\n",
    "We can <b>c</b>hange our <b>d</b>irectory using the **```cd```** command! We just need to name which directory we want to change to."
   ]
  },
  {
   "cell_type": "code",
   "execution_count": null,
   "metadata": {},
   "outputs": [],
   "source": [
    "pwd"
   ]
  },
  {
   "cell_type": "code",
   "execution_count": null,
   "metadata": {},
   "outputs": [],
   "source": [
    "cd UnixIntro"
   ]
  },
  {
   "cell_type": "code",
   "execution_count": null,
   "metadata": {},
   "outputs": [],
   "source": [
    "pwd"
   ]
  },
  {
   "cell_type": "markdown",
   "metadata": {},
   "source": [
    "Check it out, now we're in the UnixIntro directory! Whenever you move to a new directory it's always nice to see what's in that directory, remember you can do this with ls."
   ]
  },
  {
   "cell_type": "code",
   "execution_count": null,
   "metadata": {},
   "outputs": [],
   "source": [
    "%%bash\n",
    "ls -F"
   ]
  },
  {
   "cell_type": "markdown",
   "metadata": {},
   "source": [
    "There's a few directories in here. Let's leave astr192 alone (that directory's relevant to your homework). Go ahead and cd into the directory that sounds most interesting to you! What's in that directory?"
   ]
  },
  {
   "cell_type": "code",
   "execution_count": null,
   "metadata": {},
   "outputs": [],
   "source": [
    "cd Exoplanets"
   ]
  },
  {
   "cell_type": "markdown",
   "metadata": {},
   "source": [
    "### Looking at text files"
   ]
  },
  {
   "cell_type": "markdown",
   "metadata": {},
   "source": [
    "You should find that there's a definition <b>text file</b> in the directory you're in. But what does that 'Definition.txt' file say? We can read text files by using **```less```** or **```cat```**. Try using both of these (you can exit **```less```** by pressing 'q'). \n",
    "\n",
    "What is the difference between both of these? Can you think of a situation where it would be more useful to read a file by using **```less```**, how about where it would be more useful to read a file by using **```cat```**?"
   ]
  },
  {
   "cell_type": "markdown",
   "metadata": {},
   "source": [
    "Now, let's all go into the stars directory, (if you're already there, nice! Stars are cool!). But wait, to do that we have to go back to the UnixIntro directory.\n",
    "\n",
    "To go \"up\" to the directory above the one you are currently in, you can just type **```cd ..```**"
   ]
  },
  {
   "cell_type": "code",
   "execution_count": null,
   "metadata": {},
   "outputs": [],
   "source": [
    "pwd"
   ]
  },
  {
   "cell_type": "code",
   "execution_count": null,
   "metadata": {},
   "outputs": [],
   "source": [
    "cd .."
   ]
  },
  {
   "cell_type": "code",
   "execution_count": null,
   "metadata": {
    "scrolled": true
   },
   "outputs": [],
   "source": [
    "cd Stars"
   ]
  },
  {
   "cell_type": "markdown",
   "metadata": {},
   "source": [
    "There's an extra file here called \"StarNames.txt\". This is a list of the 26 brightest stars in the sky. When you have a long textfile, you can look at the beginning or end of the textfile using **```head```** or **```tail```**."
   ]
  },
  {
   "cell_type": "markdown",
   "metadata": {},
   "source": [
    "Hey, wait, there's a file that doesn't belong here. What's it called and where should it go?"
   ]
  },
  {
   "cell_type": "markdown",
   "metadata": {},
   "source": [
    "### Moving Files"
   ]
  },
  {
   "cell_type": "markdown",
   "metadata": {},
   "source": [
    "To <b>m</b>o<b>v</b>e a file, we use the **```mv```** command. To use **```mv```** we have to type **```mv FILENAME LOCATIONNAME```**. So, try moving the file that doesn't belong in the Stars directory to the correct directory."
   ]
  },
  {
   "cell_type": "markdown",
   "metadata": {},
   "source": [
    "Note that when you move a file, you haven't changed what directory you're in"
   ]
  },
  {
   "cell_type": "code",
   "execution_count": null,
   "metadata": {},
   "outputs": [],
   "source": [
    "pwd"
   ]
  },
  {
   "cell_type": "markdown",
   "metadata": {},
   "source": [
    "The **```mv```** command has a secret double-usage. You can use it to rename a file. To do this, you would type **```mv OLDFILENAME NEWFILENAME```**. Try renaming StarNames.txt to ClosestStars.txt (remember to include the extension!)"
   ]
  },
  {
   "cell_type": "markdown",
   "metadata": {},
   "source": [
    "When you **```mv```** a file, you are moving it to a new location. If you want to <b>c</b>o<b>p</b>y a file instead, you can use the **```cp```** command."
   ]
  },
  {
   "cell_type": "markdown",
   "metadata": {},
   "source": [
    "Try copying the definition.txt file from the Stars directory into the Cosmology directory. What happens when you do this? What commands did you use to see what happened when you did this?"
   ]
  },
  {
   "cell_type": "markdown",
   "metadata": {},
   "source": [
    "### Creating stuff!"
   ]
  },
  {
   "cell_type": "markdown",
   "metadata": {},
   "source": [
    "Now comes an incredibly powerful part. We're going to learn how to create stuff using the command-line. This is personally why I use a command-line more than a GUI, because creating files and folders is much faster for me on a command-line than it is in Finder."
   ]
  },
  {
   "cell_type": "markdown",
   "metadata": {},
   "source": [
    "Let's make a new field of Astronomy, and call it PreMAP! First we'll need to go up to the UnixIntro directory."
   ]
  },
  {
   "cell_type": "code",
   "execution_count": null,
   "metadata": {},
   "outputs": [],
   "source": [
    "cd .."
   ]
  },
  {
   "cell_type": "code",
   "execution_count": null,
   "metadata": {},
   "outputs": [],
   "source": [
    "ls -F"
   ]
  },
  {
   "cell_type": "markdown",
   "metadata": {},
   "source": [
    "Now, to <b>m</b>a<b>k</b>e a new <b>dir</b>ectory, we use the **```mkdir```** command."
   ]
  },
  {
   "cell_type": "code",
   "execution_count": null,
   "metadata": {},
   "outputs": [],
   "source": [
    "mkdir PreMAP"
   ]
  },
  {
   "cell_type": "code",
   "execution_count": null,
   "metadata": {},
   "outputs": [],
   "source": [
    "ls -F"
   ]
  },
  {
   "cell_type": "markdown",
   "metadata": {},
   "source": [
    "Check it out, we made a new directory! Is there anything in there?"
   ]
  },
  {
   "cell_type": "code",
   "execution_count": null,
   "metadata": {},
   "outputs": [],
   "source": [
    "cd PreMAP"
   ]
  },
  {
   "cell_type": "markdown",
   "metadata": {
    "collapsed": true
   },
   "source": [
    "Of course, since this is a new field of Astronomy, it needs a definition text file. We can create a new file by using the **```touch```** command. You can do this by saying **```touch FILENAME```** (don't forget the file extension!)\n",
    "\n",
    "Please make a definition text file for PreMAP."
   ]
  },
  {
   "cell_type": "markdown",
   "metadata": {},
   "source": [
    "[NANO TANGENT HERE]"
   ]
  },
  {
   "cell_type": "markdown",
   "metadata": {},
   "source": [
    "### Let's remove stuff\n",
    "\n",
    "Okay, we've had our fun in the Astronomy fields. But, let's go back to our lessons folder, because I thought I saw something weird there"
   ]
  },
  {
   "cell_type": "code",
   "execution_count": null,
   "metadata": {},
   "outputs": [],
   "source": [
    "cd .."
   ]
  },
  {
   "cell_type": "code",
   "execution_count": null,
   "metadata": {},
   "outputs": [],
   "source": [
    "cd .."
   ]
  },
  {
   "cell_type": "code",
   "execution_count": null,
   "metadata": {},
   "outputs": [],
   "source": [
    "ls"
   ]
  },
  {
   "cell_type": "markdown",
   "metadata": {},
   "source": [
    "I think this UselessFolder is probably useless, but let's double check."
   ]
  },
  {
   "cell_type": "code",
   "execution_count": null,
   "metadata": {},
   "outputs": [],
   "source": [
    "cd UselessFolder"
   ]
  },
  {
   "cell_type": "code",
   "execution_count": null,
   "metadata": {},
   "outputs": [],
   "source": [
    "ls"
   ]
  },
  {
   "cell_type": "code",
   "execution_count": null,
   "metadata": {},
   "outputs": [],
   "source": [
    "cat uselesstext.txt"
   ]
  },
  {
   "cell_type": "markdown",
   "metadata": {},
   "source": [
    "Yea, this folder looks useless. Let's get rid of it! First, let's get rid of this useless textfile."
   ]
  },
  {
   "cell_type": "markdown",
   "metadata": {},
   "source": [
    "Now, we can <b>r</b>e<b>m</b>ove something with the **```rm```** command. <b>You should be very careful when using rm, this is not like throwing something into the Trash, it actually completely deletes whatever you are removing</b>."
   ]
  },
  {
   "cell_type": "code",
   "execution_count": null,
   "metadata": {},
   "outputs": [],
   "source": [
    "rm uselesstext.txt"
   ]
  },
  {
   "cell_type": "code",
   "execution_count": null,
   "metadata": {},
   "outputs": [],
   "source": [
    "ls"
   ]
  },
  {
   "cell_type": "markdown",
   "metadata": {},
   "source": [
    "And now it's gone! We can remove the whole file with the -r (<b>r</b>ecursive) flag. This will remove a file and everything in it."
   ]
  },
  {
   "cell_type": "code",
   "execution_count": null,
   "metadata": {},
   "outputs": [],
   "source": [
    "cd .."
   ]
  },
  {
   "cell_type": "code",
   "execution_count": null,
   "metadata": {},
   "outputs": [],
   "source": [
    "rm -r UselessFolder"
   ]
  },
  {
   "cell_type": "code",
   "execution_count": null,
   "metadata": {},
   "outputs": [],
   "source": [
    "ls"
   ]
  },
  {
   "cell_type": "markdown",
   "metadata": {},
   "source": [
    "And it's gone! Removing something is very useful, but you need to be very very careful when doing it. Remember, a computer is not smart, it will do exactly what you tell it to do. So the computer doesn't know that you don't care about UselessFolder but that you care a lot about UnixIntro."
   ]
  }
 ],
 "metadata": {
  "kernelspec": {
   "display_name": "Python 3",
   "language": "python",
   "name": "python3"
  },
  "language_info": {
   "codemirror_mode": {
    "name": "ipython",
    "version": 3
   },
   "file_extension": ".py",
   "mimetype": "text/x-python",
   "name": "python",
   "nbconvert_exporter": "python",
   "pygments_lexer": "ipython3",
   "version": "3.8.11"
  }
 },
 "nbformat": 4,
 "nbformat_minor": 1
}
