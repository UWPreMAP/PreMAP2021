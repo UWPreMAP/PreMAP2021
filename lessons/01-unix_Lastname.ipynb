{
 "cells": [
  {
   "cell_type": "markdown",
   "metadata": {},
   "source": [
    "# Introduction to Unix"
   ]
  },
  {
   "cell_type": "markdown",
   "metadata": {},
   "source": [
    "Very general question time: What is it that computers *do*? Computers can interact with us, store information for us, run programs, etc. Computers can help us do science! We, as scientists, interact with computers in a couple of basic ways, through the **command line interface (CLI)** or a **graphical user interface (GUI)**. What are some examples of GUIs? Well, almost everything you're used to using is a GUI! Word, Excel, etc. GUIs are great because they require no memorization of syntax or knowledge of programming--you can simply use menus and icons to move, delete, or open a file. So why bother with CLI at all? Because it can be very convenient and powerful, and we will learn how! \n",
    "\n",
    "**COMMAND SHELL**: The command shell is a program that helps you communicate with your computer. You type a something into the terminal, and then the shell takes this and figures out what commands the computer needs to run and then orders the computer to do so. A commonly used shell for Unix is the Bash shell. Let's start off with some very basic shell commands. NOTE: Because I'm in this python notebook environment I need to include this first line with the percentage signs. It is called a magic function and it just helps me simulate being in the shell environment. You DO NOT need to use this.  "
   ]
  },
  {
   "cell_type": "markdown",
   "metadata": {},
   "source": [
    "## First a little computer set-up..."
   ]
  },
  {
   "cell_type": "markdown",
   "metadata": {},
   "source": [
    "Before we begin the lesson, we need to do a little bit of set-up. Do not worry about what this command means for now, just know that it is helping you to correctly set up things on your computer so that things like printing, running this notebook, and using python will work. Simply type the following on the command line of your terminal: "
   ]
  },
  {
   "cell_type": "markdown",
   "metadata": {},
   "source": [
    "```~premapta/setup```"
   ]
  },
  {
   "cell_type": "markdown",
   "metadata": {},
   "source": [
    "To make sure this has worked, try a couple of things. First type the following and you should see an interactive environment for python come up. "
   ]
  },
  {
   "cell_type": "markdown",
   "metadata": {},
   "source": [
    "```ipython```"
   ]
  },
  {
   "cell_type": "markdown",
   "metadata": {},
   "source": [
    "To exit this session use \"Ctrl-D\". Next use the commands below and you should see a web browser pop up from which you can access this notebook. "
   ]
  },
  {
   "cell_type": "markdown",
   "metadata": {},
   "source": [
    "```cd Lectures/UnixIntro```\n",
    "\n",
    "```ipython notebook UnixIntro.ipynb```"
   ]
  },
  {
   "cell_type": "markdown",
   "metadata": {},
   "source": [
    "To kill the ipython notebook server use \"Ctrl-C.\""
   ]
  },
  {
   "cell_type": "markdown",
   "metadata": {},
   "source": [
    "## Basic Unix Commands"
   ]
  },
  {
   "cell_type": "markdown",
   "metadata": {},
   "source": [
    "We can ask the computer who the current user is using **``` whoami```** \n",
    "or we can print the working directory (where we are) using **```pwd```**\n",
    "In both cases the shell finds the program (either **```whoami```** or **``` pwd```**), runs that program, and then displays the output for us. \n"
   ]
  },
  {
   "cell_type": "code",
   "execution_count": 1,
   "metadata": {},
   "outputs": [
    {
     "name": "stdout",
     "output_type": "stream",
     "text": [
      "premapta\n"
     ]
    }
   ],
   "source": [
    "%%bash \n",
    "whoami"
   ]
  },
  {
   "cell_type": "code",
   "execution_count": 2,
   "metadata": {},
   "outputs": [
    {
     "name": "stdout",
     "output_type": "stream",
     "text": [
      "/astro/users/premapta/Lectures/UnixIntro\n"
     ]
    }
   ],
   "source": [
    "%%bash\n",
    "pwd"
   ]
  },
  {
   "cell_type": "markdown",
   "metadata": {},
   "source": [
    "From the **```pwd```** command we can see which directory we are currently working in. This means I am in the UnixIntro folder, which is a itself within the Lectures folder on my computer, and so on. /astro/users/premapta refers to my so-called \"home directory,\" so if you're on an astrolab computer your home directory will look something like this, albeit with a different username (your uwnetid). It is probably easiest to think of these directories and subdirectories as a tree folder. My home directory, for example, can contain the folder \"Lectures\", but can also contain other folders or files. If you are not in this folder in your directory, change to it now by typing **```cd ~/Lectures/UnixIntro```**. We'll worry about what this command means later. Let's investigate what is in our current working directory:"
   ]
  },
  {
   "cell_type": "code",
   "execution_count": 3,
   "metadata": {},
   "outputs": [
    {
     "name": "stdout",
     "output_type": "stream",
     "text": [
      "UnixIntro.ipynb\n",
      "alpha.dat\n",
      "bar.txt\n",
      "baz.txt\n",
      "bio.txt\n",
      "foo.txt\n",
      "helloworld.py\n",
      "wordcount.txt\n"
     ]
    }
   ],
   "source": [
    "%%bash\n",
    "ls "
   ]
  },
  {
   "cell_type": "markdown",
   "metadata": {},
   "source": [
    "The **```ls```** command LISTS what is in the current working directory. This is not very exciting right now, because all I have in here is this notebook and a few other files. Let's move to another directory to check out more stuff. You can either follow this command (change to my home directory) or insert your own uwnetid instead of my username: "
   ]
  },
  {
   "cell_type": "code",
   "execution_count": 4,
   "metadata": {
    "scrolled": true
   },
   "outputs": [
    {
     "name": "stdout",
     "output_type": "stream",
     "text": [
      "#EmacsBio.txt#\n",
      "#EmacsBio_testcopy.txt#\n",
      "Assignments/\n",
      "Astro192/\n",
      "Desktop/\n",
      "Documents/\n",
      "Downloads/\n",
      "EmacsBio.txt\n",
      "EmacsBio_testcopy.txt\n",
      "EmacsBio_testcopy_2.txt\n",
      "Lectures/\n",
      "Music/\n",
      "OldFiles/\n",
      "Pictures/\n",
      "Public/\n",
      "StarData/\n",
      "StarData.tar.gz\n",
      "StarHeader.txt\n",
      "Templates/\n",
      "Videos/\n",
      "bios/\n",
      "idl/\n",
      "idl.tar.gz\n",
      "idlstuff/\n",
      "ngc3368_k250.fits*\n",
      "old/\n",
      "python/\n",
      "python.tar.gz\n",
      "quickfix\n",
      "readcol.py*\n",
      "setup*\n",
      "setup~*\n",
      "tmp.dat\n"
     ]
    }
   ],
   "source": [
    "%%bash\n",
    "cd /astro/users/premapta\n",
    "ls -F"
   ]
  },
  {
   "cell_type": "markdown",
   "metadata": {},
   "source": [
    "So now we see a lot more stuff! I also added this trailing \"-F\" flag to **```ls```** to make it more clear which things are directories (adds trailing \"/\" to directories) and which things are files. We can tell what type of files all the files are by their extensions (i.e. names are \".pdf\" or the like). How did I change to this directory? I used the **```cd```** command to change directories, followed by the PATH to the new destination directory. The **```cd```** command can be followed by a variety of other characters to move around our file system. Let's look at a couple: "
   ]
  },
  {
   "cell_type": "code",
   "execution_count": 7,
   "metadata": {},
   "outputs": [
    {
     "name": "stdout",
     "output_type": "stream",
     "text": [
      "/astro/users/premapta/Lectures/UnixIntro\n",
      "/astro/users/premapta/Lectures/UnixIntro\n",
      "/astro/users/premapta/Lectures\n",
      "/astro/users/premapta\n"
     ]
    }
   ],
   "source": [
    "%%bash\n",
    "pwd\n",
    "cd .\n",
    "pwd\n",
    "cd .. \n",
    "pwd \n",
    "cd ~\n",
    "pwd"
   ]
  },
  {
   "cell_type": "markdown",
   "metadata": {},
   "source": [
    "So what did we do? We print our working directory (/astro/users/premapta/Lectures/UnixIntro), then I changed to the \".\" directory, then printed that directory (still UnixIntro), then changed to the \"..\" directory, then printed that directory (Lectures), then changed to the home directory (/astro/users/premapta) and printed it. So what are the \".\", \"..\", and \"~\" directories? These characters the current directory, the parent directory, and the home directory, respectively. We can get them to show up when we use a special flag with our **```ls```** command: "
   ]
  },
  {
   "cell_type": "code",
   "execution_count": 8,
   "metadata": {
    "scrolled": true
   },
   "outputs": [
    {
     "name": "stdout",
     "output_type": "stream",
     "text": [
      ".\n",
      "..\n",
      ".ipynb_checkpoints\n",
      "UnixIntro.ipynb\n",
      "alpha.dat\n",
      "bar.txt\n",
      "baz.txt\n",
      "bio.txt\n",
      "foo.txt\n",
      "helloworld.py\n",
      "wordcount.txt\n"
     ]
    }
   ],
   "source": [
    "%%bash \n",
    "ls -a"
   ]
  },
  {
   "cell_type": "markdown",
   "metadata": {},
   "source": [
    "This stands for \"list all.\" Now I want everyone to take a moment to do some exploring. If you type **```cd```** without a path to any directory, what happens? If you use the \"-s\" flag with **```ls```** what output do you get? "
   ]
  },
  {
   "cell_type": "markdown",
   "metadata": {},
   "source": [
    "Now that we've seen how to navigate through the directory structure and see what is inside directories, let's see how to create things. Navigate back to your home directory--**```cd /astro/users/your_uwnetid_here```**--so that you will be able to create directories and write files. If we want to make a new directory we will use the following command: "
   ]
  },
  {
   "cell_type": "code",
   "execution_count": 9,
   "metadata": {},
   "outputs": [],
   "source": [
    "%%bash\n",
    "mkdir bio"
   ]
  },
  {
   "cell_type": "markdown",
   "metadata": {},
   "source": [
    "The **```mkdir```** command stands for \"make directory\" so with this we have created a new directory that I named bio. If you move into this directory and try to see what is in it you will see that it is empty. Go ahead and do that now. The next thing we'll want to do is create a file in this new directory. Let's make this a draft file. To create a file we will use the **```touch```** command followed by the name of the file we want to create. (More on creating files with text editors later on). "
   ]
  },
  {
   "cell_type": "code",
   "execution_count": 10,
   "metadata": {},
   "outputs": [
    {
     "name": "stdout",
     "output_type": "stream",
     "text": [
      "draft.txt\n"
     ]
    }
   ],
   "source": [
    "%%bash \n",
    "cd bio\n",
    "touch draft.txt\n",
    "ls"
   ]
  },
  {
   "cell_type": "markdown",
   "metadata": {},
   "source": [
    "So we can see that we have created a \"draft.txt\" file in our bio directory, but this file is empty. Let's say we want to make a copy of a this file and move in to another directory. To make copies of files we use the **```cp```** command. To move files we will use **```mv```** command. NOTE: I am only doing the **```cd bio```** command again because this notebook automatically reverts me back to the \"/astro/users/premaptap/Lectures/UnixIntro\" directory when I start a new cell. In the terminal you would NOT need to do this. "
   ]
  },
  {
   "cell_type": "code",
   "execution_count": 9,
   "metadata": {},
   "outputs": [
    {
     "name": "stdout",
     "output_type": "stream",
     "text": [
      "draft.txt\n",
      "draftcopy.txt\n",
      "draft.txt\n"
     ]
    }
   ],
   "source": [
    "%%bash\n",
    "cd bio\n",
    "cp draft.txt draftcopy.txt\n",
    "ls\n",
    "mv draftcopy.txt ..\n",
    "ls"
   ]
  },
  {
   "cell_type": "markdown",
   "metadata": {},
   "source": [
    "So let's see what we have done with this series of commands. We have copied \"draft.txt\" into a new file called \"draftcopy.txt.\" By using the **```ls```** command I can see that both these files exist in the directory. Next I use the **```mv```** command followed by the destination (recall from earlier) to move this copy file to one directory up. Now if I do **```ls```** again I see that ONLY \"draft.txt\" remains in this directory. Now let's say that I only want \"draftcopy.txt\" and so I decided to remove the whole bio directory. The command to remove something is **```rm```** (Note: be careful since removing is PERMANENT). Does this command work? Why or why not? "
   ]
  },
  {
   "cell_type": "markdown",
   "metadata": {},
   "source": [
    "You should find that it does not work since the directory is not empty. There are several things you could do here. You could go into the \"bio\" directory and remove the file using **```rm draft.txt```** and then subsequently delete the empty directory, or you could use one of the following commands:"
   ]
  },
  {
   "cell_type": "code",
   "execution_count": 10,
   "metadata": {},
   "outputs": [
    {
     "name": "stderr",
     "output_type": "stream",
     "text": [
      "rmdir: bio: No such file or directory\n"
     ]
    }
   ],
   "source": [
    "%%bash\n",
    "rm -r bio\n",
    "rmdir bio"
   ]
  },
  {
   "cell_type": "markdown",
   "metadata": {},
   "source": [
    "The first command tells it to delete everything in the directory and then delete the directory itself (\"r\" stands for \"recursive\"), while the second command is the equivalent of **```rm```** for a directory (in that it will delete the whole directory). Again, be VERY careful when doing this. Deleting is permanent. "
   ]
  },
  {
   "cell_type": "markdown",
   "metadata": {},
   "source": [
    "The next thing to look at is how we can combine existing programs (commands) to do powerful things from the command line. Let's imagine that I have a very crowded directory with lots of different files, how will I find just the files of a certain type? We can use something called the wildcard to accomplish this. For example, let's say I only want to look at \".txt\" files. Here's how we might accomplish that: "
   ]
  },
  {
   "cell_type": "code",
   "execution_count": 14,
   "metadata": {},
   "outputs": [
    {
     "name": "stdout",
     "output_type": "stream",
     "text": [
      "bar.txt\n",
      "baz.txt\n"
     ]
    }
   ],
   "source": [
    "%%bash\n",
    "ls ba?.txt"
   ]
  },
  {
   "cell_type": "markdown",
   "metadata": {},
   "source": [
    "This \"wildcard\" symbol matches one or more characters. The \"?\" wildcard matches a single character. You can use these in combination with one another to get at more specific file names. For example, what would **```ls b*.txt```** output versus **```ls ?a*```** versus **```ls ba?.txt```** Try these out to see what you get! Note that the wildcard can be used with any other shell command, for example **```rm  *```**. DON'T DO THIS. It's a bad idea to delete everything."
   ]
  },
  {
   "cell_type": "markdown",
   "metadata": {},
   "source": [
    "Let's say I want to write some of my output from the shell to a file. Let's use the ```wc``` command to count the number of lines,words, and characters in each file and then redirect that to a new file called \"wordcount.txt.\""
   ]
  },
  {
   "cell_type": "code",
   "execution_count": 15,
   "metadata": {
    "collapsed": true
   },
   "outputs": [],
   "source": [
    "%%bash\n",
    "wc *.txt > wordcount.txt"
   ]
  },
  {
   "cell_type": "markdown",
   "metadata": {},
   "source": [
    "The greater than symbol tells the computer to redirect the shell output to a file instead of printing it to a screen. If we want to see what is in this new file \"wordcount.txt,\" we can use the ```cat``` command, which stands for \"concatenate\" and instructs the computer to print the contents of the file."
   ]
  },
  {
   "cell_type": "code",
   "execution_count": 16,
   "metadata": {},
   "outputs": [
    {
     "name": "stdout",
     "output_type": "stream",
     "text": [
      "  3  19  93 bar.txt\n",
      "  1  14  70 baz.txt\n",
      "  4  88 565 bio.txt\n",
      "  2  12  57 foo.txt\n",
      "  4  16  80 wordcount.txt\n",
      " 14 149 865 total\n"
     ]
    }
   ],
   "source": [
    "%%bash \n",
    "cat wordcount.txt"
   ]
  },
  {
   "cell_type": "markdown",
   "metadata": {},
   "source": [
    "Imagine that I had to do this for a REALLY large file. Would I want all the output printed directly to my screen? Probably not. Imagine I only care about that summary line at the end. In order to get at just the first or last few lines of a file we can use the **```head```** or **```tail```** commands as follows:"
   ]
  },
  {
   "cell_type": "code",
   "execution_count": 18,
   "metadata": {},
   "outputs": [
    {
     "name": "stdout",
     "output_type": "stream",
     "text": [
      "  3  19  93 bar.txt\n",
      " 14 149 865 total\n"
     ]
    }
   ],
   "source": [
    "%%bash\n",
    "head -1 wordcount.txt\n",
    "tail -1 wordcount.txt"
   ]
  },
  {
   "cell_type": "markdown",
   "metadata": {},
   "source": [
    "The \"-1\" means either first line, or last line, respectively. We could change these numbers to get the first three lines, or last three lines, for example. Let's look at how we could search for instances of specific words in lines in files: "
   ]
  },
  {
   "cell_type": "code",
   "execution_count": 36,
   "metadata": {},
   "outputs": [
    {
     "name": "stdout",
     "output_type": "stream",
     "text": [
      "bar.txt:1:Here is another dummy file.\n",
      "bar.txt:2:This is the second dummy file I made.\n",
      "baz.txt:1:Here is another dummy file I made, but with only one line this time. \n",
      "foo.txt:1:This is a dummy file.\n",
      "foo.txt:2:There are two lines in this file. \n"
     ]
    }
   ],
   "source": [
    "%%bash\n",
    "grep -n \"file\" *.txt"
   ]
  },
  {
   "cell_type": "markdown",
   "metadata": {},
   "source": [
    "The vertical bar is referred to as a \"pipe\". It tells the shell to take the output of the command on the left as the input to the command on the right. **```grep```** is a command that finds lines in files that match a particular pattern. It is a contraction of \"global/regular expression/print.\" The \"-n\" flag means to print the line number where the expression we are searching for occurs. There are many other flag options to go along with **```grep,```** which you can find by doing **```man grep```** (which stands for manual). There are also lots of other ways to search for specific \"regular expressions\" using **```grep```**. As one example, let's look at what the following does: "
   ]
  },
  {
   "cell_type": "code",
   "execution_count": 27,
   "metadata": {},
   "outputs": [
    {
     "name": "stdout",
     "output_type": "stream",
     "text": [
      "Here is another dummy file.\n",
      "Here is another dummy file I made, but with only one line this time. \n"
     ]
    }
   ],
   "source": [
    "%%bash\n",
    "cat *.txt | grep '^Here'"
   ]
  },
  {
   "cell_type": "markdown",
   "metadata": {},
   "source": [
    "When we add in the carrot this prints out the file contents of only those files that have lines beginning with \"Here.\""
   ]
  },
  {
   "cell_type": "markdown",
   "metadata": {},
   "source": [
    "We can also use the **```sort```** command on files. Here I will show an example of doing an alphabetical sort, but note that it is possible to do a numerical sort as well (you will try this later for yourselves). What if I tried this with **```sort -k 2 alpha.dat```** instead?"
   ]
  },
  {
   "cell_type": "code",
   "execution_count": 31,
   "metadata": {
    "scrolled": true
   },
   "outputs": [
    {
     "name": "stdout",
     "output_type": "stream",
     "text": [
      "b a\n",
      "z j\n",
      "a n\n",
      "n o\n",
      "g y\n"
     ]
    }
   ],
   "source": [
    "%%bash\n",
    "sort -k 2 alpha.dat"
   ]
  },
  {
   "cell_type": "markdown",
   "metadata": {},
   "source": [
    "## Logging onto machines from home"
   ]
  },
  {
   "cell_type": "markdown",
   "metadata": {},
   "source": [
    "There are even more Unix commands (not covered here) that are listed on the Unix Cheat Sheet that you have. This includes things like how to download a file from the internet (given a web address of the file), how to create a tarball, how to copy things between machines, etc. Now that we've gone over these basic commands today I'll show you one last thing, which is how to remotely log into your machines. This command is also covered on the Unix Cheat Sheet, but requires a little set-up. If you have your laptop with you open up a terminal on your laptop and type the following command in your home directory: "
   ]
  },
  {
   "cell_type": "markdown",
   "metadata": {},
   "source": [
    "```scp UWNETID@astrolabXX.washington.edu:~/.ssh/config ~/.ssh/```"
   ]
  },
  {
   "cell_type": "markdown",
   "metadata": {},
   "source": [
    "This should prompt you for your password, and if it works it will copy the \"config\" file into the \".ssh/\" folder in your home directory. You need to change the relevant fields in the config file (open it up with something like gedit, vim or emacs) and put in your UWNETID where it says UWNETID and astrolab computer number where it says XX. Once you have this file all set up (again ON your laptop), you should be able to remotely log into an astrolab computer with the following command (also on the Unix Cheat Sheet):"
   ]
  },
  {
   "cell_type": "markdown",
   "metadata": {},
   "source": [
    "```ssh astrolabXX```"
   ]
  },
  {
   "cell_type": "markdown",
   "metadata": {},
   "source": [
    "Next time we will cover a brief bit of astro background, talk about using text editors (to more easily create and edit files), and then get started on our first Unix assignment! "
   ]
  },
  {
   "cell_type": "code",
   "execution_count": null,
   "metadata": {
    "collapsed": true
   },
   "outputs": [],
   "source": []
  }
 ],
 "metadata": {
  "kernelspec": {
   "display_name": "Python 3",
   "language": "python",
   "name": "python3"
  },
  "language_info": {
   "codemirror_mode": {
    "name": "ipython",
    "version": 3
   },
   "file_extension": ".py",
   "mimetype": "text/x-python",
   "name": "python",
   "nbconvert_exporter": "python",
   "pygments_lexer": "ipython3",
   "version": "3.8.11"
  }
 },
 "nbformat": 4,
 "nbformat_minor": 1
}
