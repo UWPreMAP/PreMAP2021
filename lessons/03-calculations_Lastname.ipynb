{
 "cells": [
  {
   "cell_type": "markdown",
   "metadata": {},
   "source": [
    "### Each time you access the PreMAP2021 directory make sure your files are up to date\n",
    "1. Open up a terminal tab (New -> Terminal). Change directories into the PreMAP2021 directory, then do:\n",
    "```bash\n",
    "cd PreMAP2021\n",
    "```\n",
    "2. Update the directory to get any newly added files by running in the terminal:\n",
    "```bash\n",
    "git pull\n",
    "```\n",
    "3. Type in your terminal:\n",
    "```bash\n",
    "cd lessons\n",
    "```\n",
    "4. If you're on the AstroLab computer, type in your terminal:\n",
    "```bash\n",
    "jupyter notebook\n",
    "```\n",
    "This will open a webpage that has the lessons on them. You can select this lesson and then edit and run the cells to follow along with the lesson "
   ]
  },
  {
   "cell_type": "markdown",
   "metadata": {},
   "source": [
    "### Vocab for today\n",
    "<ul><b>\n",
    "    <li>int</li>\n",
    "    <li>float</li>\n",
    "    <li>string</li>\n",
    "    <li>type</li>\n",
    "    <li>casting</li>\n",
    "    <li>operator</li>\n",
    "    <li>boolean</li>\n",
    "    <li>modulus</li>\n",
    "    <li>comment</li>\n",
    "    <li>whitespace</li>\n",
    "    <li>list</li>\n",
    "    <li>element</li>\n",
    "    <li>slice</li>\n",
    "    </b>\n",
    "</ul>"
   ]
  },
  {
   "cell_type": "markdown",
   "metadata": {},
   "source": [
    "[Pre-MAP Course Website](http://depts.washington.edu/premap/seminar/cohort-17-2021-seminar/) | [Pre-MAP GitHub](https://github.com/UWPreMAP/PreMAP2021) | [Google](https://www.google.com)\n",
    "\n",
    "# Python as a calculator\n",
    "\n",
    "Math in Python works like most scientific calculators, but Python can do a lot more than your calculator. In this lesson, we'll do some math. \n",
    "\n",
    "### Example 1: Math in a cell\n",
    "\n",
    "You can type some basic math in a cell, execute the cell (`Ctrl + Enter`), and math will be returned below the cell. This works whether or not you put the math in a `print` command. Try `2+2` in the cell below:"
   ]
  },
  {
   "cell_type": "code",
   "execution_count": null,
   "metadata": {},
   "outputs": [],
   "source": []
  },
  {
   "cell_type": "markdown",
   "metadata": {},
   "source": [
    "The symbol for multiplication is `*`. Do `2 * 2` below: "
   ]
  },
  {
   "cell_type": "code",
   "execution_count": null,
   "metadata": {},
   "outputs": [],
   "source": []
  },
  {
   "cell_type": "markdown",
   "metadata": {},
   "source": [
    "Exponentiation uses two asterisks `**` (_not_ the caret symbol `^`), like this: \n",
    "\n",
    "```python\n",
    "print(2**2)\n",
    "```\n",
    "\n",
    "Try calculating 10 to the power of 5 in the cell below"
   ]
  },
  {
   "cell_type": "code",
   "execution_count": null,
   "metadata": {},
   "outputs": [],
   "source": []
  },
  {
   "cell_type": "markdown",
   "metadata": {},
   "source": [
    "Calculating powers of 10 is so useful that python has a specific way to do that.\n",
    "\n",
    "If you want to represent a large number with scientific notation, you can do that with a small `e`, like this: \n",
    "```python\n",
    "two_times_ten_to_the_fifth = 2e5\n",
    "```\n",
    "where the above is $2 \\times 10^5$."
   ]
  },
  {
   "cell_type": "code",
   "execution_count": null,
   "metadata": {},
   "outputs": [],
   "source": [
    "print(2e5)"
   ]
  },
  {
   "cell_type": "markdown",
   "metadata": {
    "collapsed": true
   },
   "source": [
    "### Inplace addition\n",
    "If you already have a variable, you can add, subtract, multiply, divide onto that existing variable in two ways. One is like this: "
   ]
  },
  {
   "cell_type": "code",
   "execution_count": null,
   "metadata": {},
   "outputs": [],
   "source": [
    "class_number = 192\n",
    "print(class_number)\n",
    "\n",
    "class_number = class_number + 1\n",
    "print(class_number)"
   ]
  },
  {
   "cell_type": "markdown",
   "metadata": {},
   "source": [
    "Or, you can do it like this"
   ]
  },
  {
   "cell_type": "code",
   "execution_count": null,
   "metadata": {},
   "outputs": [],
   "source": [
    "class_number = 192\n",
    "print(class_number)\n",
    "\n",
    "class_number += 1\n",
    "print(class_number)"
   ]
  },
  {
   "cell_type": "markdown",
   "metadata": {},
   "source": [
    "This second way is often better because you don't have to type ``class_number`` a third time"
   ]
  },
  {
   "cell_type": "markdown",
   "metadata": {},
   "source": [
    "## Types\n",
    "\n",
    "The numbers we've used so far are all integers, or `int`'s. Python can store numbers as `int`s or `float`s. A float is a decimal number. You can check what <b>type</b> a number is by using the `type` function: \n",
    "\n",
    "```python\n",
    "type(5)\n",
    "```\n",
    "\n",
    "### Example 2: Types\n",
    "\n",
    "Print the types of the following things in the cell below: \n",
    "* `1`\n",
    "* `1.0`\n",
    "* `\"hello, world\"`"
   ]
  },
  {
   "cell_type": "code",
   "execution_count": null,
   "metadata": {},
   "outputs": [],
   "source": [
    "print(type(1))"
   ]
  },
  {
   "cell_type": "code",
   "execution_count": null,
   "metadata": {},
   "outputs": [],
   "source": [
    "print(type(1.0))"
   ]
  },
  {
   "cell_type": "code",
   "execution_count": null,
   "metadata": {},
   "outputs": [],
   "source": [
    "print(type(\"hello, world\"))"
   ]
  },
  {
   "cell_type": "markdown",
   "metadata": {},
   "source": [
    "You can also print the type of a variable"
   ]
  },
  {
   "cell_type": "code",
   "execution_count": null,
   "metadata": {},
   "outputs": [],
   "source": [
    "chalkboard_text = \"The Simpsons\"\n",
    "print(type(chalkboard_text))"
   ]
  },
  {
   "cell_type": "markdown",
   "metadata": {},
   "source": [
    "Python is very flexible with <b>types</b>, you can sometimes change a variable's type by <b>casting</b> it, for example:"
   ]
  },
  {
   "cell_type": "code",
   "execution_count": null,
   "metadata": {},
   "outputs": [],
   "source": [
    "print(type(2.0))\n",
    "\n",
    "print(int(2.0))\n",
    "\n",
    "print(type(int(2.0)))"
   ]
  },
  {
   "cell_type": "code",
   "execution_count": null,
   "metadata": {},
   "outputs": [],
   "source": [
    "print(type(2))\n",
    "\n",
    "print(float(2))\n",
    "\n",
    "print(type(float(2)))"
   ]
  },
  {
   "cell_type": "code",
   "execution_count": null,
   "metadata": {},
   "outputs": [],
   "source": [
    "str(2.0)"
   ]
  },
  {
   "cell_type": "code",
   "execution_count": null,
   "metadata": {},
   "outputs": [],
   "source": [
    "type(\"1\")"
   ]
  },
  {
   "cell_type": "code",
   "execution_count": null,
   "metadata": {},
   "outputs": [],
   "source": [
    "int(\"1\")"
   ]
  },
  {
   "cell_type": "markdown",
   "metadata": {},
   "source": [
    "Casting something gives you a lot of power so it can be very useful."
   ]
  },
  {
   "cell_type": "code",
   "execution_count": null,
   "metadata": {},
   "outputs": [],
   "source": [
    "int(\"Hello world\")"
   ]
  },
  {
   "cell_type": "markdown",
   "metadata": {},
   "source": [
    "*** \n",
    "\n",
    "Types can fool you sometimes when you're dividing two numbers. If you divide with one division sign (`/`) you will get a `float` result, which is the way Python represents decimals. If you divide with two division signs (`//`) you will always get an integer result. \n",
    "\n",
    "### Example 2: Integer vs. float division\n",
    "\n",
    "Try dividing three by five using `/`, and then with `//`. What's the difference? What is the `type` of each result? "
   ]
  },
  {
   "cell_type": "code",
   "execution_count": null,
   "metadata": {},
   "outputs": [],
   "source": []
  },
  {
   "cell_type": "markdown",
   "metadata": {},
   "source": [
    "### Example 3: Inequalities, booleans\n",
    "\n",
    "You can also use Python to compute inequalities. The <b>operators</b> used in inequalities are: \n",
    "\n",
    "| Inequality               | Symbol| \n",
    "|--------------------------|-------|\n",
    "| Equal to                 | `==`  |\n",
    "| Not equal to             | `!=`  |\n",
    "| Greater than             | `>`   |\n",
    "| Greater than or equal to | `>=`  | \n",
    "| Less than                | `<`   | \n",
    "| Less than or equal to    | `<=`  |\n",
    "\n",
    "**Note**: you can check if something is equal to something else with the double equals `==`. You can't use single equals, because that's how you define a variable. \n",
    "\n",
    "So using a single equals sets the variable `x` to the value `5`: \n",
    "```python\n",
    "x = 5\n",
    "```\n",
    "while using a double equals asks if `x` is equal to 5: \n",
    "```python\n",
    "x == 5\n",
    "```\n",
    "\n",
    "\n",
    "\n",
    "What is returned when you evaluate an inequality like `3 >= 5`? What is the type of this object?"
   ]
  },
  {
   "cell_type": "code",
   "execution_count": null,
   "metadata": {},
   "outputs": [],
   "source": []
  },
  {
   "cell_type": "markdown",
   "metadata": {},
   "source": [
    "### Example 4: Other operators\n",
    "\n",
    "Another operator that's useful is the <b>modulus</b> operator, represented with the symbol `%`. The modulus of two numbers is the remainder after dividing the first number by the second. So for example, `4 % 2` is zero, because four divided by two is 2 with no remainder. But `9 % 4` is one, because nine goes into four two times with one leftover. \n",
    "\n",
    "This gets used sometimes to search for multiples, since if `x` is a multiple of three, then $x \\,\\% \\,3 = 0$. \n",
    "\n",
    "In the cell below, determine whether or not 12417 is an even multiple of three:"
   ]
  },
  {
   "cell_type": "code",
   "execution_count": null,
   "metadata": {},
   "outputs": [],
   "source": []
  },
  {
   "cell_type": "markdown",
   "metadata": {},
   "source": [
    "*** \n",
    "\n",
    "## Comments \n",
    "\n",
    "So far we've been writing only a few lines of code at a time in each cell, but soon you'll be writing lots of lines. The more code you write, the harder it can be to remember what each step was. That's why we write lots of <b>comments</b> in our code. \n",
    "\n",
    "A comment is a note you wrote in code, which Python doesn't do anything with. It's just text for human readers. You designate a comment with a `#` symbol - anything after the `#` gets ignored by Python. For example: \n",
    "\n",
    "```python\n",
    "# Here, I'm going to calculate the force on a 10kg block: \n",
    "mass = 10  # kilograms\n",
    "acceleration = 5  # meters per sec^2\n",
    "force = mass * acceleration  # I <3 Newton\n",
    "print(force)\n",
    "```\n",
    "\n",
    "### Example 5: Comments welcome\n",
    "\n",
    "If the price of the computer you're working on was $1000 and the sales tax in Seattle is 9.6%, how much did it cost after tax? \n",
    "\n",
    "Do this calculation by creating variables for the tax rate, the price of the computer before tax, and the final price, and leave comments throughout explaining the units and the calculation that you're doing. See the example above for hints."
   ]
  },
  {
   "cell_type": "code",
   "execution_count": null,
   "metadata": {},
   "outputs": [],
   "source": []
  },
  {
   "cell_type": "markdown",
   "metadata": {},
   "source": [
    "*** \n",
    "\n",
    "In Python, you have to be careful about putting spaces or tabs in front of a line. We call spaces and/or tabs collectively <b>whitespace</b>. \n",
    "\n",
    "You can put as many spaces as you want in a line (though one at a time is the right number to use most of the time), like this:\n",
    "```python\n",
    "this_is_ok = 2 + 2\n",
    "this_is_bad_but_it_works = 2   +  2+2\n",
    "```\n",
    "\n",
    "However you can't put stray spaces in the beginning of a line. For example, if you do this: \n",
    "\n",
    "```python\n",
    "starts_no_indent = 0\n",
    "  starts_with_an_indent = 5\n",
    "```\n",
    "...an error will be raised.\n",
    "\n",
    "### Example 6: Significant whitespace\n",
    "\n",
    "Try the above example or one like it, and note the type of error that it raises:"
   ]
  },
  {
   "cell_type": "code",
   "execution_count": null,
   "metadata": {},
   "outputs": [],
   "source": []
  },
  {
   "cell_type": "markdown",
   "metadata": {},
   "source": [
    "It will become clear later why this isn't allowed - indentation is used to represent specific things."
   ]
  },
  {
   "cell_type": "markdown",
   "metadata": {},
   "source": [
    "*** \n",
    "\n",
    "## Style\n",
    " \n",
    "When you start your research project, you'll write code that you'll use for the rest of the quarter. If you can't read your own code, then you'll have difficulty understanding what you did at the end of the quarter. Readability is really important for making your work understandable and reproducible. Just like you wouldn't turn in your scratch paper version of your math homework, you shouldn't allow yourself to write illegible code.\n",
    "\n",
    "\n",
    "As scientists, we share our work with one another and review each other's answers. I'll share an example of a poorly written code. \n",
    "\n",
    "Together we'll ask: \n",
    "\n",
    "* Can we figure out what they were trying to accomplish with my code?\n",
    "* Do the variable names make sense to us?\n",
    "* Did they use appropriate whitespace to make the code easy to read?\n",
    "* Did they write enough comments to guide you through what was being doing? \n",
    "\n",
    "Here are some tips on naming variables to remember: \n",
    "* Variable names should use lowercase letters and numbers\n",
    "* If there's more than one word in your variable name, separate the words with underscores\n",
    "* Longer names are better than shorter names! No one ever got mad that someone else's code was _too_ readable \n",
    "\n",
    "There are lots more tips about how to write Python code \"correctly\" in the [style guide, often called \"PEP8\"](https://www.python.org/dev/peps/pep-0008/), which I'll leave a link to here for future reference. \n",
    "\n",
    "### Example 7: Variable names\n",
    "\n",
    "Can you improve your variable names and style in Example 5? If so, get to it!\n",
    "\n",
    "*** "
   ]
  },
  {
   "cell_type": "markdown",
   "metadata": {},
   "source": [
    "## Lists\n",
    "\n",
    "You can now use Python as a calculator, but it's more useful than a handheld calculator only when you have lots of numbers to work with. You can store a group of numbers, or groups of other things, in a type called a `list`. \n",
    "\n",
    "A list is a collection of things (they can have any type, including `int`s, `float`s, `str`s. They are separated by commas and bracketed with square brackets (`[` and `]`), like this: \n",
    "```python\n",
    "shopping_list = ['apple', 'banana', 'cherry']\n",
    "```\n",
    "\n",
    "Each individual thing in a list is called an <b>element</b> of that list.\n",
    "\n",
    "Can a few people tell us their heights? We can create a list of these heights, and print the list: "
   ]
  },
  {
   "cell_type": "code",
   "execution_count": null,
   "metadata": {},
   "outputs": [],
   "source": [
    "class_heights = [] # list of heights in inches\n",
    "print(class_heights)"
   ]
  },
  {
   "cell_type": "markdown",
   "metadata": {},
   "source": [
    "With these heights, we've created data! Lists are a common way to store data, because they give us a way to order numbers. A list is just like a single column in a spreadsheet."
   ]
  },
  {
   "cell_type": "markdown",
   "metadata": {},
   "source": [
    "Many times you'll want to check how many elements are in your list, which you do with the `len` function, like this: \n",
    "```python\n",
    "len(class_heights)\n",
    "```\n",
    "Try that in the cell below: "
   ]
  },
  {
   "cell_type": "code",
   "execution_count": null,
   "metadata": {},
   "outputs": [],
   "source": []
  },
  {
   "cell_type": "markdown",
   "metadata": {},
   "source": [
    "Python has a _function_ for taking the `sum` of the numbers in a list. Let's take the sum of the heights with the following command: \n",
    "```python\n",
    "sum(class_heights)\n",
    "```\n",
    "### Example 8: Sum of a list\n",
    "\n",
    "How many inches tall would our class be if we all stood one on top of each other (take the sum of the heights)? Store the answer in a variable with a sensible name (remember guidelines from above!), and print the result: "
   ]
  },
  {
   "cell_type": "code",
   "execution_count": null,
   "metadata": {},
   "outputs": [],
   "source": []
  },
  {
   "cell_type": "markdown",
   "metadata": {
    "collapsed": true
   },
   "source": [
    "*** \n",
    "\n",
    "## Adding items to a list\n",
    "\n",
    "Let's say someone new transferred into the class, and you want to add their age to the `class_heights` list. We can do that with the `append` function, which you call like this:\n",
    "```python\n",
    "new_height = 65\n",
    "class_heights.append(new_height)\n",
    "print(class_heights)\n",
    "```\n",
    "In the second line, `class_heights` is the list that we're _appending_ a new number to, `.append()` says to append the number in parentheses onto `class_heights`.\n",
    "\n",
    "Copy and paste the code above into the cell below **and execute the cell once**, to see the output."
   ]
  },
  {
   "cell_type": "code",
   "execution_count": null,
   "metadata": {},
   "outputs": [],
   "source": []
  },
  {
   "cell_type": "markdown",
   "metadata": {},
   "source": [
    "### Example 9:\n",
    "\n",
    "What would happen if you executed the cell above a second time? Try it and check your answer."
   ]
  },
  {
   "cell_type": "code",
   "execution_count": null,
   "metadata": {},
   "outputs": [],
   "source": []
  },
  {
   "cell_type": "markdown",
   "metadata": {},
   "source": [
    "## List indexing and slicing\n",
    "\n",
    "Often you'll want to be able to take a single *element*, or a few elements out of a list. To do that, you do what we call *indexing* or *slicing*. \n",
    "\n",
    "Let's work with a list using your name rather than `class_heights`.\n",
    "\n",
    "To get a specific element from the list `full_name`, we put square brackets next to the name of the list, and we put the _index_ of the element that we want inside the brackets. The index starts at **zero for the first element**, one for the second element, etc.: \n",
    "```python\n",
    "first_element = full_name[0]\n",
    "print(first_element)\n",
    "```\n",
    "\n",
    "To help you remember, that python starts at 0 (so the first element is indexed by 0):\n",
    "```python\n",
    "# Index =   0    1    2    3    4    5    6    7    8    9 \n",
    "astr192 = ['P', 'r', 'e', 'M', 'A', 'P', '2', '0', '2', '1']\n",
    "```\n",
    "\n",
    "### Example 10: Zero-based indexing\n",
    "\n",
    "1. Type your full name in a string, store it in the variable `full_name`\n",
    "2. You can cast that string into a list of strings by doing this: \n",
    "```python\n",
    "full_name = \"Pre-MAP\"\n",
    "name_list = list(name)\n",
    "print(name_list)\n",
    "```\n",
    "which yields `['P', 'r', 'e', '-', 'M', 'A', 'P']`. Do this to make a list out of your name.\n",
    "3. Get the second letter in your name using indexing."
   ]
  },
  {
   "cell_type": "code",
   "execution_count": null,
   "metadata": {},
   "outputs": [],
   "source": [
    "# Set your full name to a variable, and make that variable into a list\n",
    "name = \"Rodolfo Antonio Garcia\"\n",
    "name_list = list(name)\n",
    "print(name_list)"
   ]
  },
  {
   "cell_type": "code",
   "execution_count": null,
   "metadata": {},
   "outputs": [],
   "source": [
    "# Get the second letter in your name"
   ]
  },
  {
   "cell_type": "markdown",
   "metadata": {},
   "source": [
    "What happens if you ask for the 100th element of the list (the 100th letter in your name)?"
   ]
  },
  {
   "cell_type": "code",
   "execution_count": null,
   "metadata": {},
   "outputs": [],
   "source": []
  },
  {
   "cell_type": "markdown",
   "metadata": {},
   "source": [
    "### Give me everything starting from\n",
    "\n",
    "Sometimes you might want to select multiple elements of a list, rather than just one. You can get all elements starting with, for example, the third element by doing `name_list[2:]`. Try getting all the letters in your name starting from the second letter in your name."
   ]
  },
  {
   "cell_type": "code",
   "execution_count": null,
   "metadata": {},
   "outputs": [],
   "source": [
    "# Get every letter in your name starting from the second letter in your name"
   ]
  },
  {
   "cell_type": "markdown",
   "metadata": {},
   "source": [
    "### Give me everything up to\n",
    "\n",
    "In the opposite case, you can get every element of a list up to (but not including) an element by putting the index of the element you want everything up to after the colon, like so: `name_list[:5]` gives me all the letters of my name, up to (but not including) the sixth letter in my name. Try getting all the letters in your name up to but not including the tenth letter of your name."
   ]
  },
  {
   "cell_type": "code",
   "execution_count": null,
   "metadata": {},
   "outputs": [],
   "source": [
    "# Get every letter in your name up to the tenth letter in your name with slicing"
   ]
  },
  {
   "cell_type": "markdown",
   "metadata": {},
   "source": [
    "### Give me everything starting from and up to\n",
    "\n",
    "You can combine the above two statements to get a range of elements in a list. Try getting the letters in your name starting from the second letter in your name up to (but not including) the tenth letter of your name."
   ]
  },
  {
   "cell_type": "code",
   "execution_count": null,
   "metadata": {},
   "outputs": [],
   "source": [
    "# Get every letter in your name starting from the second letter up to tenth letter with slicing"
   ]
  },
  {
   "cell_type": "markdown",
   "metadata": {},
   "source": []
  }
 ],
 "metadata": {
  "kernelspec": {
   "display_name": "Python 3",
   "language": "python",
   "name": "python3"
  },
  "language_info": {
   "codemirror_mode": {
    "name": "ipython",
    "version": 3
   },
   "file_extension": ".py",
   "mimetype": "text/x-python",
   "name": "python",
   "nbconvert_exporter": "python",
   "pygments_lexer": "ipython3",
   "version": "3.8.11"
  }
 },
 "nbformat": 4,
 "nbformat_minor": 1
}
