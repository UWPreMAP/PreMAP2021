{
 "cells": [
  {
   "cell_type": "markdown",
   "metadata": {},
   "source": [
    "# ! Make sure to change the filename so that you save your work!"
   ]
  },
  {
   "cell_type": "markdown",
   "metadata": {},
   "source": [
    "## Let's set up our computers!"
   ]
  },
  {
   "cell_type": "markdown",
   "metadata": {},
   "source": [
    "Before we begin the lesson, we need to do a little bit of set-up. Do not worry about what all of the following commands mean for now."
   ]
  },
  {
   "cell_type": "markdown",
   "metadata": {},
   "source": [
    "1. Log into the astrolab computer using your UW net ID and password.\n",
    "2. In a web browser go to https://github.com/UWPreMAP/PreMAP2021\n",
    "3. Click the green button that says \"Clone or Download\"\n",
    "4. Copy the web address to your computer's clipboard (right click copy or control-C): https://github.com/UWPreMAP/PreMAP2021.git\n",
    "5. Open the Terminal application on your astrolab computer (Applications->Terminal)\n",
    "6. In the terminal, type:\n",
    "```bash\n",
    "git clone https://github.com/UWPreMAP/PreMAP2021.git\n",
    "```\n",
    "7. This will download the PreMAP files that I've created\n",
    "8. In the terminal type:\n",
    "```bash\n",
    "cd PreMAP2021\n",
    "```\n",
    "9. Then in the terminal type the following command. This will copy the file `premap_cshrc` to your home directory and rename it `.cshrc`\n",
    "```bash\n",
    "cp premap_cshrc ../.cshrc\n",
    "```\n",
    "10. Next type the following command. This will copy the file `setup-nbserver` into your home directory\n",
    "```bash\n",
    "cp setup-nbserver ..\n",
    "```\n",
    "11. Now move into your home directory with the following command:\n",
    "```bash\n",
    "cd\n",
    "```\n",
    "12. List all the files in your home directory (including hidden ones like you `.cshrc` file) with the following command. Just make sure that your `.cshrc` file is there and that you have a file called `setup-nbserver`, which should be listed in green.:\n",
    "```bash\n",
    "ls -a\n",
    "```\n",
    "13. The first thing you need to do is \"source\" your `.cshrc` file, which means to make your computer read its contents.\n",
    "```bash\n",
    "source .cshrc\n",
    "```\n",
    "14. Then execute the `setup-nbserver` script to setup your Jupyter notebook server:\n",
    "```bash\n",
    "./setup-nbserver\n",
    "```\n",
    "15. The ```setup-nbserver``` script will prompt you to enter a password. **PLEASE WRITE THIS PASSWORD DOWN AND DO NOT USE A PASSWORD YOU'RE USING SOMEWHERE ELSE** as you will not be able to reset it (or at least I have no clue how to). You will need to enter this password as an extra security measure when you are opening a Jupyter notebook from another computer. Please write it down wherever you keep passwords on your computer.\n",
    "16. Then type the following command to source your `cshrc` file, which will point to all the places your computer needs to know about to run python:\n",
    "\n"
   ]
  },
  {
   "cell_type": "markdown",
   "metadata": {},
   "source": [
    "### Confirm that things are working:"
   ]
  },
  {
   "cell_type": "markdown",
   "metadata": {},
   "source": [
    "To make sure this has worked, let's try two things. First let's just open python to make sure you're running the correction version. In your terminal, type:"
   ]
  },
  {
   "cell_type": "markdown",
   "metadata": {},
   "source": [
    "```bash\n",
    "python\n",
    "```"
   ]
  },
  {
   "cell_type": "markdown",
   "metadata": {},
   "source": [
    "You should see that you are running version 3.5.2. To get out of python just type:\n",
    "```bash\n",
    "exit()\n",
    "```"
   ]
  },
  {
   "cell_type": "markdown",
   "metadata": {},
   "source": [
    "Next, let's just test that you are able to open a Jupyter notebook. Type the following command in your terminal:\n",
    "```bash\n",
    "notebook\n",
    "```\n",
    "<br>\n",
    "You should see some output that says a Jupyter notebook server is running. If so, it worked! For now, just exit out of this by typing \"control-C\" and then \"y\" when it asks you if you really want to shut down the server."
   ]
  },
  {
   "cell_type": "markdown",
   "metadata": {},
   "source": [
    "### Each time you log on to your astrolab account (either in the lab or remotely) make sure your files are up to date\n",
    "1. Get into the PreMAP2019 directory\n",
    "```bash\n",
    "cd PreMAP2019\n",
    "```\n",
    "2. Update the directory to get any newly added files\n",
    "```bash\n",
    "git pull\n",
    "```"
   ]
  },
  {
   "cell_type": "markdown",
   "metadata": {},
   "source": [
    "## Opening a Jupyter notebook\n",
    "\n",
    "This will work whether you are on an astrolab machine or remotely logged in from your personal computer (see instructions below).<br>\n",
    "1. In your terminal (logged in to an astrolab computer) type the following command:<br>\n",
    "```bash\n",
    "notebook\n",
    "``` \n",
    "(Note, I have created a shortcut for you that allows this to work. On an astrolab machine, you can type ```jupyter notebook```,  but that won't work when you are logged in remotely.)<br>\n",
    "2. You will see a lot of output but some of it should look like this:<br>\n",
    "```bash\n",
    "[I 09:48:21.554 NotebookApp] [nb_conda_kernels] enabled, 5 kernels found\n",
    "[I 09:48:21.560 NotebookApp] Writing notebook server cookie secret to /run/user/703148/jupyter/notebook_cookie_secret\n",
    "[I 09:48:26.941 NotebookApp] [nb_anacondacloud] enabled\n",
    "[I 09:48:26.985 NotebookApp] [nb_conda] enabled\n",
    "[I 09:48:28.316 NotebookApp] ✓ nbpresent HTML export ENABLED\n",
    "[W 09:48:28.316 NotebookApp] ✗ nbpresent PDF export DISABLED: No module named 'nbbrowserpdf'\n",
    "[I 09:48:28.328 NotebookApp] Serving notebooks from local directory: /astro/users/mlazz\n",
    "[I 09:48:28.328 NotebookApp] 0 active kernels \n",
    "[I 09:48:28.329 NotebookApp] The Jupyter Notebook is running at: https://[all ip addresses on your system]:8888/```\n",
    "3. The line you care about is the one that starts with ```The JupyterNotebook is running at:...```\n",
    "4. Where it says ```all ip addresses on your system``` means the ipaddress of the astrolab machine you're either working on or logged into. That address is ```astrolabXX.astro.washington.edu``` where you fill in ```XX``` with the two digit number of the machine you're working on. You will need to also remember the number of the port where your Jupyter notebook is running. The default is 8888, however it will not ALWAYS be 8888, so you need to check!\n",
    "5. Open a web browser and type in the following address to open Jupyter Notebook: https://astrolabXX.astro.washington.edu:8888/ (make sure that the final number, 8888 in this case, matches the one output on your terminal).\n",
    "6. Your web browser will usually put up a screen that lets you know that it doesn't think this is a real website. Click through saying that you want to continue. This will not always happen, so if it goes straight through, don't worry! You will likely be prompted to enter a password. This is the password you set when you ran the `setup-nbserver` script in class (not necessarily your UW netid password).\n",
    "7. You will see a screen that will allow you to click through your computer's file structure. Any file that ends with the extension \".ipynb\" is a Jupyter Notebook file, which means you can open it and code directly in it.\n",
    "8. Note, when you open a notebook, it may ask you to select a kernal. Make sure to choose Python 3 if you are given an option. If you don't see this pop up, don't worry!\n",
    "9. For homework assignments, you will be opening up Jupyter notebooks in the `PreMAP2021/homework/` directory. Each homework assignment will contain instructions for how to turn it in."
   ]
  },
  {
   "cell_type": "markdown",
   "metadata": {},
   "source": [
    "# Logging onto machines from home"
   ]
  },
  {
   "cell_type": "markdown",
   "metadata": {},
   "source": [
    "## For all computer types:"
   ]
  },
  {
   "cell_type": "markdown",
   "metadata": {},
   "source": [
    "To log into your astrolab machines from off campus (or any time you are not on the University of Washington wifi network) you will need to have UW's VPN client running. You need to download and install this application and have it running before you try to `ssh` in from the command line."
   ]
  },
  {
   "cell_type": "markdown",
   "metadata": {},
   "source": [
    "Download HuskyOnNet (aka BIG-IP Edge Client or f5): https://itconnect.uw.edu/connect/uw-networks/about-husky-onnet/ for your operating sysetm. This makes logging in remotely easier because it makes your computer think that you are on the UW campus, which makes it easier to get through the UW network security."
   ]
  },
  {
   "cell_type": "markdown",
   "metadata": {},
   "source": [
    "Once you have HuskyOnNet installed, open it up and log in using your UW net ID and password. The icon for the application looks like this on my Mac and is called 'Big IP Edge Client'. It should look th same and have the same name on Windows, and might look slightly different on a Linux machine."
   ]
  },
  {
   "cell_type": "markdown",
   "metadata": {},
   "source": [
    "<img src=\"images/bigIPedgeclient.png\">"
   ]
  },
  {
   "cell_type": "markdown",
   "metadata": {},
   "source": [
    "## Mac/Linux Users"
   ]
  },
  {
   "cell_type": "markdown",
   "metadata": {},
   "source": [
    "**Once you have HuskyOnNet running**, you can just use the command \"ssh\" to log in to one of the astro lab computers. Try to remember the astro lab computer number you are using in class, or you can just choose a random one. To log into any of the astrolab machines using your UW NET ID, you would type the following (filling in your net ID and the astrolab computer number, of course):"
   ]
  },
  {
   "cell_type": "markdown",
   "metadata": {},
   "source": [
    "```bash\n",
    "ssh -XY netID@astrolabXX.astro.washington.edu\n",
    "```"
   ]
  },
  {
   "cell_type": "markdown",
   "metadata": {},
   "source": [
    "You might see some information output and you might be asked if you want to continue (type \"y\" for yes). Then you will be prompted to enter your password. This is your UW net ID password."
   ]
  },
  {
   "cell_type": "markdown",
   "metadata": {},
   "source": [
    "This should get you in to your home directory on your astrolab machine. Note: it doesn't matter which astro lab machine you log into. Your \"home\" directory is just linked to your UW net ID and password, not the individual machine itself."
   ]
  },
  {
   "cell_type": "markdown",
   "metadata": {},
   "source": [
    "To open up a notebook with one of our lessons, simply follow the directions in the section above to open up a Jupyter notebook."
   ]
  },
  {
   "cell_type": "markdown",
   "metadata": {},
   "source": [
    "To exit a session:\n",
    "1. Save your notebooks using the floppy disk icon or file->save\n",
    "2. Go back to the terminal window where you opened up the notebook originally by typing \"notebook\". Type control-C and then y to close the jupyter notebook session.\n",
    "3. Log out of your remote login by typing ``exit`` into the same terminal window.\n",
    "4. To log back in again, make sure you have HuskyOnNet running, open a terminal and all you have to do is type ``ssh -XY netID@astrolabXX.astro.washington.edu`` again and it will prompt you to enter your password. Then you can start a Jupyter Notebook session again by typing ``notebook`` into the terminal window."
   ]
  },
  {
   "cell_type": "markdown",
   "metadata": {},
   "source": [
    "## For Windows Users"
   ]
  },
  {
   "cell_type": "markdown",
   "metadata": {},
   "source": [
    "### Initial Setup:"
   ]
  },
  {
   "cell_type": "markdown",
   "metadata": {},
   "source": [
    "1. Confirm that you are running Windows 10. To do this select the Start button, type Computer in the search box, right-click on Computer, and then select Properties.\n",
    "2. Go to Control Panel > Programs > Turn Windows Features On and Off and select the check box next to ‘Windows Subsystem for Linux’. Click OK, and then click the button that says you need to restart your computer after doing this."
   ]
  },
  {
   "cell_type": "markdown",
   "metadata": {},
   "source": [
    "<img src=\"images/windows_features.png\">"
   ]
  },
  {
   "cell_type": "markdown",
   "metadata": {},
   "source": [
    "3. After your computer restarts, go to the Microsoft store and search for ‘Ubuntu’. Select: Ubuntu 18.04 LTS and install.\n",
    "4. Launch Ubuntu from the start menu"
   ]
  },
  {
   "cell_type": "markdown",
   "metadata": {},
   "source": [
    "<img src=\"images/Ubuntu1804.png\">"
   ]
  },
  {
   "cell_type": "markdown",
   "metadata": {},
   "source": [
    "5. The first time you open up the terminal, you will be prompted to enter a Linux username and password. These do not have to be the same as your Windows id and password. **Make sure you remember this id and password, you will be using it frequently.**\n",
    "6. Now you can log in remotely to your astrolab computer using the following command:<br>\n",
    "```bash\n",
    "ssh -XY netid@astrolabXX.astro.washington.edu\n",
    "```\n",
    "7. **If you are off campus**, you will need to make sure that you have started the UW VPN client FIRST (the application is generally called Big IP Edge client on your computer)."
   ]
  },
  {
   "cell_type": "markdown",
   "metadata": {},
   "source": [
    "<img src=\"images/TerminalSmall.png\">"
   ]
  },
  {
   "cell_type": "markdown",
   "metadata": {},
   "source": [
    "## Once you have Ubuntu installed and running:\n",
    "1. Make sure you have **Husky OnNet/Big IP Edge Client** running. \n",
    "2. Then you can log into your astrolab machine using the following command: <br>\n",
    "```bash\n",
    "ssh -XY netid@astrolabXX.astro.washington.edu\n",
    "``` <br>\n",
    "Where netid is your net id and XX is the two digit number for the astrolab computer you wish to log into. It doesn't really matter which computer you log into remotely. The astrolab computers range from 01 to 20.\n",
    "3. You can now use the terminal in the same way you use it on the desktop computers in class.\n",
    "4. If you need to use a Jupyter notebook for a homework assignment, you can start up the notebooks the same way we do in class using the directions earlier in this document."
   ]
  }
 ],
 "metadata": {
  "kernelspec": {
   "display_name": "Python 3",
   "language": "python",
   "name": "python3"
  },
  "language_info": {
   "codemirror_mode": {
    "name": "ipython",
    "version": 3
   },
   "file_extension": ".py",
   "mimetype": "text/x-python",
   "name": "python",
   "nbconvert_exporter": "python",
   "pygments_lexer": "ipython3",
   "version": "3.8.11"
  }
 },
 "nbformat": 4,
 "nbformat_minor": 1
}
