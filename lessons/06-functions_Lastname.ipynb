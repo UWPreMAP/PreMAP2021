{
 "cells": [
  {
   "cell_type": "markdown",
   "metadata": {},
   "source": [
    "[Pre-MAP Course Website](http://depts.washington.edu/premap/seminar/cohort-17-2021-seminar/) | [Pre-MAP GitHub](https://github.com/UWPreMAP/PreMAP2021) | [Google](https://www.google.com)\n",
    "\n",
    "### Each time you access the PreMAP2021 directory make sure your files are up to date\n",
    "1. Open up a terminal tab (New -> Terminal). Change directories into the PreMAP2021 directory, then do:\n",
    "```bash\n",
    "cd PreMAP2021\n",
    "```\n",
    "2. Update the directory to get any newly added files by running in the terminal:\n",
    "```bash\n",
    "git pull\n",
    "```\n",
    "3. Type in your terminal:\n",
    "```bash\n",
    "cd lessons\n",
    "```\n",
    "4. If you're on the AstroLab computer, type in your terminal:\n",
    "```bash\n",
    "jupyter notebook\n",
    "```\n",
    "This will open a webpage that has the lessons on them. You can select this lesson and then edit and run the cells to follow along with the lesson. Remember to change \"Lastname\" to your last name."
   ]
  },
  {
   "cell_type": "code",
   "execution_count": null,
   "metadata": {},
   "outputs": [],
   "source": [
    "# Import numpy at the beginning\n",
    "import numpy as np"
   ]
  },
  {
   "cell_type": "markdown",
   "metadata": {
    "collapsed": true
   },
   "source": [
    "## Writing Functions in Python\n",
    "\n",
    "You have already seen how to use built-in modules (e.g. numpy) in python and the functions that accompany them. Now we will learn how to write our own functions.\n",
    "\n",
    "## Functions\n",
    "\n",
    "Functions in python are of the following form: \n",
    "```python \n",
    "def function_name(argument_1, argument_2,..., keyword_argument_1=val1, keyword_argument_2=val2, ...)\n",
    "```\n",
    "\n"
   ]
  },
  {
   "cell_type": "markdown",
   "metadata": {},
   "source": [
    "Where `argument_1` and `argument_2` are \"arguments\" and are required, and `keyword_argument_1` and `keyword_argument_2` are called \"keyword arguments\" and are optional. The names of python functions can be any combination of lowercase letters, numbers and underscores as long as they don't start with a number, and as long as they are not already the name of a built-in keyword (i.e. `print`). Let's look at a very simple example of a function:\n",
    "\n",
    "### First example: the `add` function\n",
    "\n",
    "Let's start with a simple function: "
   ]
  },
  {
   "cell_type": "code",
   "execution_count": null,
   "metadata": {},
   "outputs": [],
   "source": [
    "def add(x, y):\n",
    "    \"\"\"This function adds x to y.\"\"\"\n",
    "    return x + y"
   ]
  },
  {
   "cell_type": "markdown",
   "metadata": {},
   "source": [
    "Notice that when you run this code cell it doesn't actually do anything. That's because you didn't call the function, you just defined it.\n",
    "\n",
    "This function adds the argument `x` to the argument `y`. You indicate that you're _defining_ a function with the `def` statement, then comes the name of the function, then (no spaces here) comes parentheses containing the arguments.\n",
    "\n",
    "The arguments `x` and `y` are symbols -- a user could call the function on variables that they define, which need not be called `x` and `y`. Here, they just define that within the function, you will refer to the first argument as `x` and the second as `y`.\n",
    "\n",
    "The `return` line needs to be indented with respect to the `def` line. Next to the word `return`, you write the result that you want the function to output.\n",
    "\n",
    "The line in triple-quotes is called a _docstring_. It is documentation, or user instructions. Most Python functions contain information in the docstring that will help you figure out how to use the function.\n",
    "\n",
    "We can now _call_ this function like so:"
   ]
  },
  {
   "cell_type": "code",
   "execution_count": null,
   "metadata": {},
   "outputs": [],
   "source": [
    "def add(x, y):\n",
    "    \"\"\"This function adds x to y.\"\"\"\n",
    "    return x + y\n",
    "\n",
    "a = 5\n",
    "b = 10\n",
    "\n",
    "a_plus_b = add(a, b)\n",
    "\n",
    "print(a_plus_b)"
   ]
  },
  {
   "cell_type": "markdown",
   "metadata": {},
   "source": [
    "_Note_ that the variables that are defined within a function (`x` and `y` in this example), cannot be accessed outside of the function. If you try to print `x`, you'll see: "
   ]
  },
  {
   "cell_type": "code",
   "execution_count": null,
   "metadata": {},
   "outputs": [],
   "source": [
    "print(add(a,b))\n",
    "print(x)"
   ]
  },
  {
   "cell_type": "markdown",
   "metadata": {},
   "source": [
    "because the variable name `x` only exists within the function. This concept is called _scope_."
   ]
  },
  {
   "cell_type": "markdown",
   "metadata": {},
   "source": [
    "Another common error you might find with functions is by not giving the function the argument that it expects. For example, let's call the function with a string argument and an int argument."
   ]
  },
  {
   "cell_type": "code",
   "execution_count": null,
   "metadata": {},
   "outputs": [],
   "source": [
    "print(add(\"1\",2))"
   ]
  },
  {
   "cell_type": "markdown",
   "metadata": {},
   "source": [
    "Now we get a ```TypeError``` because python doesn't know how to \"add\" or \"concatenate\" a string with an int.\n",
    "\n",
    "Typically, a function written in python will say in its docstring what types it expects the arguments to be."
   ]
  },
  {
   "cell_type": "markdown",
   "metadata": {},
   "source": [
    "### Exercise 1\n",
    "\n",
    "In the cell below define a multiply function that will multiply two numbers together, and don't forget to change the function name and docstring accordingly."
   ]
  },
  {
   "cell_type": "code",
   "execution_count": null,
   "metadata": {},
   "outputs": [],
   "source": [
    "# Define the function here"
   ]
  },
  {
   "cell_type": "code",
   "execution_count": null,
   "metadata": {},
   "outputs": [],
   "source": [
    "# Run the function here"
   ]
  },
  {
   "cell_type": "markdown",
   "metadata": {},
   "source": [
    "That example is just for demonstration purposes, of course. But there are times when you want to do something more complicated. Let's now make a function that does something more complicated - one that takes a list of numbers as its argument, and returns a list of only the even numbers. \n",
    "\n",
    "### Exercise 2\n",
    "\n",
    "In the cell below, try calling the ```only_evens``` function using a list of numbers that you can create however you like (make it up!). Test that the function works."
   ]
  },
  {
   "cell_type": "code",
   "execution_count": null,
   "metadata": {},
   "outputs": [],
   "source": [
    "# Define the function here\n",
    "def only_evens(list_of_numbers):\n",
    "    \"\"\"Take a list of numbers, and return a list of only the even numbers\"\"\"\n",
    "\n",
    "    # This is an empty list that we'll append the even numbers onto\n",
    "    even_numbers = []\n",
    "\n",
    "    # Go through each number in the list of numbers\n",
    "    for number in list_of_numbers:\n",
    "\n",
    "        # If this number is an even number:\n",
    "        if number % 2 == 0:\n",
    "\n",
    "            # Append it to the list of even numbers\n",
    "            even_numbers.append(number)\n",
    "\n",
    "    # Then return the number\n",
    "    return even_numbers"
   ]
  },
  {
   "cell_type": "code",
   "execution_count": null,
   "metadata": {},
   "outputs": [],
   "source": [
    "# Define your list of numbers here\n",
    "\n",
    "# Call the function on your list here and print the result"
   ]
  },
  {
   "cell_type": "markdown",
   "metadata": {},
   "source": [
    "Now why is it useful to write a function to do this? This is helpful when you need to do the same procedure a bunch of times. If I wanted to get the even numbers out of 20 lists of numbers, I would have to re-write everything in the function above 20 individual times. However, I can call the `only_evens` function with only one line each time that I want to use it, like this:\n",
    "```python\n",
    "evens_1 = only_evens(numbers_1)\n",
    "evens_2 = only_evens(numbers_2)\n",
    "evens_3 = only_evens(numbers_3)\n",
    "...\n",
    "```\n",
    "\n",
    "### Exercise 3: `numpy` review\n",
    "\n",
    "This is a good place to remind you that when you have lists of numbers, you could turn them into numpy *arrays*, and use their special powers to do your work. In Exercise 2, you worked with a program that goes through a list of numbers to tell you which ones are even. You might recall that in the lesson on numpy, in Exercise 5 (putting it all together), we figured out which numbers were even and odd for an entire numpy array at once. \n",
    "\n",
    "Refer back to the numpy lesson, and in the cell below, re-write the `only_evens` function to use numpy, instead of a `for` loop. Call this new function `only_evens_numpy`. Run it on the list of numbers and show that it works. "
   ]
  },
  {
   "cell_type": "code",
   "execution_count": null,
   "metadata": {},
   "outputs": [],
   "source": [
    "# Define the function here"
   ]
  },
  {
   "cell_type": "code",
   "execution_count": null,
   "metadata": {},
   "outputs": [],
   "source": [
    "# Run the function here"
   ]
  },
  {
   "cell_type": "markdown",
   "metadata": {},
   "source": [
    "One of the questions you might be asking yourself is: \"why do we use numpy if we can just write the functions ourselves?\" One reason is that it's usually more efficient to write these operations with numpy (see above, the numpy version has fewer lines of code).\n",
    "\n",
    "The real reason is that **numpy is way faster** than pure Python without numpy. Let's demonstrate that here.\n",
    "\n",
    "### Exercise 4: Timing Your Code\n",
    "\n",
    "We're going to use a function in numpy to make a really big list of numbers for this exercise. In the cell below, execute: \n"
   ]
  },
  {
   "cell_type": "code",
   "execution_count": null,
   "metadata": {},
   "outputs": [],
   "source": [
    "lots_of_numbers = np.random.randint(0, 100, 100000)\n",
    "print(lots_of_numbers)"
   ]
  },
  {
   "cell_type": "markdown",
   "metadata": {},
   "source": [
    "That will create an array of 100,000 random numbers between zero and 100.\n",
    "\n",
    "We're now going to run our two `only_even` and `only_even_numpy` functions on `lots_of_numbers`, to see which one is fastest. To time a function in an iPython Notebook, you use the `%timeit` magic function, like this:\n",
    "```python\n",
    "%timeit only_evens(lots_of_numbers)\n",
    "%timeit only_evens_numpy(lots_of_numbers)\n",
    "```\n",
    "The output tells you how long it takes to run each function (usually in units of ms=milliseconds). \n",
    "\n",
    "How much faster is the numpy version? (This is why we use numpy!)"
   ]
  },
  {
   "cell_type": "code",
   "execution_count": null,
   "metadata": {},
   "outputs": [],
   "source": [
    "# Run %timeit on each function!\n",
    "%timeit only_evens(lots_of_numbers)\n",
    "%timeit only_evens_numpy(lots_of_numbers)"
   ]
  },
  {
   "cell_type": "markdown",
   "metadata": {},
   "source": [
    "### Exercise 5: Modules\n",
    "\n",
    "Let's say `only_evens` and `only_evens_numpy` were complicated functions that took hundreds of lines of code to write. You might want to keep them in their own Python script (their own file), and <b>import</b> them into the notebook where you use them. In this exercise, we'll practice doing that.\n",
    "\n",
    "1. Go back to the tab in your web browser with the list of files (where you opened this notebook)\n",
    "2. Create a new text file by clicking New at the top right of the window and selecting text file.\n",
    "3. Name the file `mymodule.py`.\n",
    "4. Write `import numpy as np` as the first line of your file. Then copy the function definitions for `only_evens` and `only_evens_numpy` into your file.\n",
    "5. Save the file the same way you save your Jupyter notebooks.\n",
    "6. Go back to this Jupyter notebook and in the cell below, run `import mymodule` to import the functions from your _module_ into this python script. *Note: If you make edits to your mymodule.py file after you import it into this notebook, you will need to restart the notebook and import it again for the changes to be recognized.*\n",
    "5. You can now run each function by calling `mymodule.only_evens` or `mymodule.only_evens_numpy` in this notebook. Try that below: "
   ]
  },
  {
   "cell_type": "code",
   "execution_count": null,
   "metadata": {},
   "outputs": [],
   "source": [
    "# Import your modules here"
   ]
  },
  {
   "cell_type": "code",
   "execution_count": null,
   "metadata": {},
   "outputs": [],
   "source": [
    "# Run one of the functions in your module"
   ]
  },
  {
   "cell_type": "markdown",
   "metadata": {},
   "source": [
    "That's how every Python package is written – it's Python code that you <b>import</b> into your notebook or scripts."
   ]
  },
  {
   "cell_type": "markdown",
   "metadata": {
    "collapsed": true
   },
   "source": [
    "### Exercise 6: The Demogorgon Appears\n",
    "\n",
    "Create a function that takes an input *argument*, which will be a string containing the attempted dice roll against the Demogorgon in DnD. The function will *return* the result of roll. \n",
    "\n",
    "Here's one example: \n",
    "\n",
    "```python\n",
    "def demogorgon_battle(dice_roll):\n",
    "    \"\"\"This function returns the result of an attempted dice roll.\"\"\"\n",
    "\n",
    "    if dice_roll > 20:\n",
    "        result = \"Hey! No n-dimensional dice!\"\n",
    "    elif dice_roll == 20:\n",
    "        result = \"You slay the demogorgon!!\"\n",
    "    elif dice_roll > 15:\n",
    "        result = \"You get a good hit on the demogorgon with your sword and it slinks away.\"\n",
    "    elif dice_roll > 10:\n",
    "        result = \"The demogorgon and you are evenly matched. You retreat to get stronger weapons.\"\n",
    "    elif dice_roll > 5:\n",
    "        result = \"The demogorgon slashes you with a claw! You run away!\"\n",
    "    else: \n",
    "        result = \"THE DEMOGORGON EATS YOU.\"\n",
    "\n",
    "    return result\n",
    "\n",
    "dice_roll = 17\n",
    "battle_outcome = demogorgon_battle(dice_roll)\n",
    "print(battle_outcome)\n",
    "```\n",
    "```\n",
    "You get a good hit on the demogorgon with your sword and it slinks away.\n",
    "```\n",
    "\n",
    "Get creative and make your own function, and test that it produces the appropriate output."
   ]
  },
  {
   "cell_type": "code",
   "execution_count": null,
   "metadata": {},
   "outputs": [],
   "source": [
    "# Write your own function!"
   ]
  },
  {
   "cell_type": "markdown",
   "metadata": {},
   "source": [
    "### Exercise 7: Stars, Magnitudes, Oh my\n",
    "\n",
    "In this next example, you'll write a function that converts brightness measurements of stars in *magnitudes* to *solar luminosities* ($L_{\\odot}$). \n",
    "\n",
    "The magnitude system in astronomy derives from a system devised by ancient Greeks (Hipparcus, in particular), who catalogued the brightnesses of stars visually with their eyes. The magnitude system, like the Richter scale for earthquakes or the decibel scale for sound, is a *logarithmic* scale that measures the brightness of astronomical objects. Because of this strange convention, the smaller the value is in magnitude, the brighter an object is: e.g., a -1.5 magnitude star is brighter than a +2 magnitude star. An increase in magnitude by 2.5 means an object is a factor of 10 dimmer.\n",
    "\n",
    "Flux (W/m$^2$, or power per unit area) is a unit of measurement you're familiar with for measuring the brightness of objects; the solar flux, or how bright the sun is at Earth's distance, is 1377 W/m$^2$. \n",
    "\n",
    "Converting between magnitude and flux is easy, although perhaps not intuitive. If two stars have fluxes $F_A$ and $F_B$, their magnitudes $m_A$ and $m_B$ can be related via:\n",
    "\n",
    "$m_A - m_B = -2.5 \\log (F_A/F_B)$\n",
    "\n",
    "If the sun has an apparent magnitude of -26.8 and flux of 1377 W/m$^2$, write a function that returns the magnitude of a mystery object, given an input of its flux. It should have the structure of something like this:\n",
    "\n",
    "```python\n",
    "def flux_to_magnitude(mystery_flux):\n",
    "    \"\"\"This function returns the magnitude of an object given its flux.\"\"\"\n",
    "    \n",
    "    ## Do some awesome coding here\n",
    "\n",
    "    return #the magnitude!\n",
    "```\n",
    "\n",
    "What is brightness of a 100-Watt light bulb when seen from a distance of 10 meters, in magnitudes? <br>\n",
    "(Note: First you'll have to convert power (W) to flux (W/m^2) by dividing the power in Watts by the surface area of a sphere with a radius of 10m)<br>\n",
    "(Second Note: The surface area of a sphere is $4\\times pi \\times radius^{2}$) <br>\n",
    "(Third note: the `log` in the equation above is log base 10, not natural log. If you just use the `np.log()` function, it will assume a natural log. To specify log base 10 you need to use the `np.log10()` function.)"
   ]
  },
  {
   "cell_type": "code",
   "execution_count": null,
   "metadata": {},
   "outputs": [],
   "source": [
    "import numpy as np "
   ]
  },
  {
   "cell_type": "code",
   "execution_count": null,
   "metadata": {},
   "outputs": [],
   "source": [
    "# Define the function\n",
    "def flux_to_magnitude(mystery_flux):\n",
    "    \"\"\"This function returns the magnitude of an object given its flux.\"\"\""
   ]
  },
  {
   "cell_type": "code",
   "execution_count": null,
   "metadata": {},
   "outputs": [],
   "source": [
    "# Calculate F_bulb for a 100 W lightbulb that is 10 m away\n",
    "\n",
    "# Call the flux_to_magnitude function on F_bulb to calculate m_bulb\n",
    "m_bulb = flux_to_magnitude(F_bulb)\n",
    "print(m_bulb)"
   ]
  },
  {
   "cell_type": "markdown",
   "metadata": {
    "collapsed": true
   },
   "source": [
    "### Exercise 8: Reverse, reverse!\n",
    "\n",
    "Now let's do the reverse of what we did in exercise 7. Knowing the magnitude of an object, write a function that returns its flux, compared to the sun (i.e., $F_{\\mathrm{mystery}}/F_{\\odot}$). Hint, you'll have to do a bit of algebra to rewrite the formula in exercise 7. \n",
    "\n",
    "The base of your function should look something like this:\n",
    "\n",
    "```Python\n",
    "def flux_to_magnitude(mystery_magnitude):\n",
    "    \"\"\"This function returns the brightness of object in units of solar flux, given an input magnitude\"\"\"\n",
    "    \n",
    "    ## Serious coding here\n",
    "    \n",
    "    return ##the flux!\n",
    "```\n",
    "\n",
    "Here's a handy table of apparent magnitudes of a few notable objects in the night sky, using the function you wrote, what are their brightnesses in units of solar flux? \n",
    "\n",
    "| Object | Apparent Magnitude   |\n",
    "|------|------|\n",
    "|   Sun  | -26.8|\n",
    "| Sirius | -1.47|\n",
    "|Deneb |1.26|\n",
    "|Altair |0.77|\n",
    "|Betegeuse |0.45|\n",
    "|Vega |0.03|\n",
    "|Arcturus |-0.06|\n",
    "|Canopus| -0.72|\n"
   ]
  },
  {
   "cell_type": "code",
   "execution_count": null,
   "metadata": {},
   "outputs": [],
   "source": []
  },
  {
   "cell_type": "code",
   "execution_count": null,
   "metadata": {},
   "outputs": [],
   "source": []
  }
 ],
 "metadata": {
  "anaconda-cloud": {},
  "kernelspec": {
   "display_name": "Python 3",
   "language": "python",
   "name": "python3"
  },
  "language_info": {
   "codemirror_mode": {
    "name": "ipython",
    "version": 3
   },
   "file_extension": ".py",
   "mimetype": "text/x-python",
   "name": "python",
   "nbconvert_exporter": "python",
   "pygments_lexer": "ipython3",
   "version": "3.8.11"
  }
 },
 "nbformat": 4,
 "nbformat_minor": 1
}
