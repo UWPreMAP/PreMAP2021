{
 "cells": [
  {
   "cell_type": "markdown",
   "metadata": {},
   "source": [
    "[Pre-MAP Course Website](http://depts.washington.edu/premap/seminar/cohort-17-2021-seminar/) | [Pre-MAP GitHub](https://github.com/UWPreMAP/PreMAP2021) | [Google](https://www.google.com)\n",
    "\n",
    "### Each time you access the PreMAP2021 directory make sure your files are up to date\n",
    "1. Open up a terminal tab (New -> Terminal). Change directories into the PreMAP2021 directory, then do:\n",
    "```bash\n",
    "cd PreMAP2021\n",
    "```\n",
    "2. Update the directory to get any newly added files by running in the terminal:\n",
    "```bash\n",
    "git pull\n",
    "```\n",
    "3. Type in your terminal:\n",
    "```bash\n",
    "cd lessons\n",
    "```\n",
    "4. If you're on the AstroLab computer, type in your terminal:\n",
    "```bash\n",
    "jupyter notebook\n",
    "```\n",
    "This will open a webpage that has the lessons on them. You can select this lesson and then edit and run the cells to follow along with the lesson. Remember to change \"Lastname\" to your last name."
   ]
  },
  {
   "cell_type": "markdown",
   "metadata": {},
   "source": [
    "# Control flow/logic\n",
    "### Control flow statements literally control the flow of your code!\n",
    "There are a few basic types of control flow statements that we will learn. These are as follows: \n",
    "- **if:** do something _if_ some condition is `True`\n",
    "- **for:** do something repeatedly _for_ some number of times, or on some number of items\n",
    "- **while:** do something _while_ some condition is `True`\n",
    "\n",
    "Let's look at some examples. **Notice that indentation (whitespace preceding code) matters in Python**! Blocks of text following a `for`, `while` or `if` statement must be indented to run properly. You can think of the indent as saying \"do\"."
   ]
  },
  {
   "cell_type": "markdown",
   "metadata": {},
   "source": [
    "## Boolean review\n",
    "\n",
    "Remember that a boolean is a special data type in python that has two possible values, `True` or `False`.\n",
    "\n",
    "When we type a statement in python that results in a Boolean, we are essentially asking if that statement is `True` or `False`. For example"
   ]
  },
  {
   "cell_type": "code",
   "execution_count": 27,
   "metadata": {},
   "outputs": [
    {
     "name": "stdout",
     "output_type": "stream",
     "text": [
      "True\n",
      "False\n"
     ]
    }
   ],
   "source": [
    "number = 5\n",
    "\n",
    "print(number > 2)\n",
    "print(number < 2)"
   ]
  },
  {
   "cell_type": "markdown",
   "metadata": {},
   "source": [
    "This doesn't just hold for numbers, we can check if a variable is equal to a string as well. Remember that when we want to check if two things are equal, we use `==`."
   ]
  },
  {
   "cell_type": "code",
   "execution_count": 29,
   "metadata": {},
   "outputs": [
    {
     "name": "stdout",
     "output_type": "stream",
     "text": [
      "False\n"
     ]
    }
   ],
   "source": [
    "chalkboard_text = \"The Simpsons\"\n",
    "\n",
    "print(chalkboard_text == \"Futurama\")"
   ]
  },
  {
   "cell_type": "markdown",
   "metadata": {},
   "source": [
    "This will come in handy today as we learn how to write code that only runs sometimes to handle multiple cases."
   ]
  },
  {
   "cell_type": "markdown",
   "metadata": {},
   "source": [
    "## The `if` statement\n",
    "\n",
    "When you need a program to do something more complicated than arithmetic, you'll sometimes need the code to do something _if_ some condition is met, otherwise it should do something else.\n",
    "\n",
    "One basic example is checking a password. _If_ someone submits the right password, then tell them they're welcome, _else_ (otherwise) give them a warning to get away. Here's how we can do that in Python:\n"
   ]
  },
  {
   "cell_type": "code",
   "execution_count": 25,
   "metadata": {},
   "outputs": [
    {
     "name": "stdout",
     "output_type": "stream",
     "text": [
      "Enter.\n"
     ]
    }
   ],
   "source": [
    "password = 'friend'\n",
    "\n",
    "if password == 'friend':\n",
    "    # This indented code will only run if the above condition is True\n",
    "    print('Enter.')\n",
    "else:\n",
    "    # This indented code will only run if the above condition is False\n",
    "    print('You shall not pass!')"
   ]
  },
  {
   "cell_type": "markdown",
   "metadata": {},
   "source": [
    "The above example has only two possible outcomes - either the password is correct or incorrect. Sometimes, you'll want more possible outcomes, and for those occasions you can use the `elif` statement, meaning \"else-if\". For example, let's create a program that tells a you how someone might react to a gift of skittles:\n",
    "\n",
    "Run the code in the cell below and see what happens when you change the value of the `skittles_gifted` variable."
   ]
  },
  {
   "cell_type": "code",
   "execution_count": 34,
   "metadata": {},
   "outputs": [
    {
     "name": "stdout",
     "output_type": "stream",
     "text": [
      "I would love some more skittles if you'll share.\n"
     ]
    }
   ],
   "source": [
    "skittles_gifted = 3\n",
    "\n",
    "if skittles_gifted < 5:\n",
    "    print(\"I would love some more skittles if you'll share.\")\n",
    "elif skittles_gifted < 10:\n",
    "    print(\"Maybe one more skittle please.\")\n",
    "elif skittles_gifted < 50: \n",
    "    print(\"Thank you, but this is too many skittles.\")\n",
    "else:\n",
    "    print(\"Oh no! I'm buried in skittles now.\")"
   ]
  },
  {
   "cell_type": "markdown",
   "metadata": {},
   "source": [
    "### Example 1\n",
    "\n",
    "In the cell below, explain the sequence of events in the code starting from the first line, when `course_number = 601`, in comments: "
   ]
  },
  {
   "cell_type": "code",
   "execution_count": 10,
   "metadata": {},
   "outputs": [
    {
     "name": "stdout",
     "output_type": "stream",
     "text": [
      "Runaway!\n"
     ]
    }
   ],
   "source": [
    "course_number = 601\n",
    "\n",
    "if course_number < 200:\n",
    "    print(\"This course is going to be fun.\")\n",
    "elif course_number < 300:\n",
    "    print(\"This course is going to be hard.\")\n",
    "elif course_number < 400:\n",
    "    print(\"You might want to wait for this course.\")\n",
    "else:\n",
    "    print(\"Runaway!\")"
   ]
  },
  {
   "cell_type": "markdown",
   "metadata": {},
   "source": [
    "### Example 2\n",
    "\n",
    "In the cell below, create a program that checks that the user paid the correct amount for a product. You should make two variables, `customer_paid` for how much the customer gave you, and `price` for how much the produce costs. Then your program will do one of three things: \n",
    "1. If the customer pays exactly the price, print \"thanks!\"\n",
    "2. If the customer pays more than the price, print \"thanks!!!\"\n",
    "3. If the customer pays less than the price, print \"try again\""
   ]
  },
  {
   "cell_type": "code",
   "execution_count": null,
   "metadata": {},
   "outputs": [],
   "source": []
  },
  {
   "cell_type": "markdown",
   "metadata": {},
   "source": [
    "## The `while` loop\n",
    "\n",
    "The `while` command is the first type of _loop_ we'll use. A loop is a snippet of code that gets run repeatedly. Let's see an example below, where we use a `while` loop to add 1 to `number` for as many times as necessary until `number` is greater than or equal to 10:\n",
    "\n",
    "Run the code in the cell below. What gets printed and why?"
   ]
  },
  {
   "cell_type": "code",
   "execution_count": 35,
   "metadata": {},
   "outputs": [
    {
     "name": "stdout",
     "output_type": "stream",
     "text": [
      "0\n",
      "1\n",
      "2\n",
      "3\n",
      "4\n",
      "5\n",
      "6\n",
      "7\n",
      "8\n",
      "9\n"
     ]
    }
   ],
   "source": [
    "number = 0\n",
    "\n",
    "while number < 10:\n",
    "    print(number)\n",
    "    number += 1"
   ]
  },
  {
   "cell_type": "markdown",
   "metadata": {},
   "source": [
    "### Example 4\n",
    "\n",
    "Using the example above as a template, create a variable `counter = 5000`, and use a `while` loop to subtract 10 from `counter` until `counter` is less than -5000. \n",
    "\n",
    "Print `counter` after the loop is complete, so you can see the result."
   ]
  },
  {
   "cell_type": "code",
   "execution_count": 12,
   "metadata": {
    "scrolled": true
   },
   "outputs": [
    {
     "name": "stdout",
     "output_type": "stream",
     "text": [
      "-5000\n"
     ]
    }
   ],
   "source": [
    "counter = 5000\n",
    "\n",
    "while counter > -5000: \n",
    "    counter -= 10\n",
    "    \n",
    "print(counter)"
   ]
  },
  {
   "cell_type": "markdown",
   "metadata": {},
   "source": [
    "***\n",
    "\n",
    "It's possible to accidentally create a loop that has no end. For example, if you wrote the above loop like this,\n",
    "```python\n",
    "counter = 5000\n",
    "\n",
    "while counter < 6000:\n",
    "    counter -= 10\n",
    "```\n",
    "the `counter` will always be less than 6000, so the condition `counter < 6000` will always be `True`, and the loop will never end. That's called an _infinite loop_. If you create an infinite loop, the program will keep running forever, unless you _kill_ it. You can kill a Python cell in an iPython Notebook by pressing the Stop button in the toolbar at the top of the page. \n",
    "\n",
    "### Example 5\n",
    "\n",
    "In this example, we'll create an infinite loop that doesn't go on forever, because it terminates with a `break` statement. `break` forces python to end a loop.\n",
    "\n",
    "Let's start a `counter` at 10, and iteratively subtract one from `counter`. We could make the `while` loop terminate when `counter == 1` by writing the loop like this\n",
    "```python\n",
    "counter = 10\n",
    "\n",
    "while counter > 1:\n",
    "    counter -=1\n",
    "    \n",
    "print(counter)\n",
    "```\n",
    "Or, we could `break` out of an infinite loop:\n",
    "```python\n",
    "counter = 10\n",
    "\n",
    "# This loop is infinite on purpose:\n",
    "while True:\n",
    "    counter -= 1\n",
    "    \n",
    "    # When counter is equal to one, break out of the loop:\n",
    "    if counter == 1:\n",
    "        break\n",
    "\n",
    "print(counter)\n",
    "```\n",
    "\n",
    "### Example 6\n",
    "\n",
    "1. Copy and paste the loop with the `break` from above into the cell below, and check that it works.\n",
    "\n",
    "2. Modify the loop so that it terminates when the `counter` is at negative one million (reminder: you can use `e` for scientific notation)\n",
    "\n",
    "3. Now modify the loop so that it counts down from 10 to negative one million by twos."
   ]
  },
  {
   "cell_type": "code",
   "execution_count": null,
   "metadata": {},
   "outputs": [],
   "source": []
  },
  {
   "cell_type": "markdown",
   "metadata": {
    "collapsed": true
   },
   "source": [
    "### The `for` loop\n",
    "\n",
    "The `for` loop is trickier to learn than the other statements we've learned so far, but it's worth the trouble!\n",
    "\n",
    "Let's say you have a list of the names, and a list of the orbital periods of the solar system planets that you want to work on. Let's print them:"
   ]
  },
  {
   "cell_type": "code",
   "execution_count": 22,
   "metadata": {},
   "outputs": [
    {
     "name": "stdout",
     "output_type": "stream",
     "text": [
      "['Mercury', 'Venus', 'Earth', 'Mars', 'Jupiter', 'Saturn', 'Uranus', 'Neptune', 'Pluto'] [0.24, 0.62, 1.0, 1.88, 11.86, 29.46, 84.01, 164.8, 247.7]\n"
     ]
    }
   ],
   "source": [
    "planet_names = ['Mercury', 'Venus', 'Earth', 'Mars', 'Jupiter', 'Saturn', 'Uranus', 'Neptune', 'Pluto']\n",
    "\n",
    "# Orbital periods in units of years:\n",
    "orbital_periods = [0.24, 0.62, 1.0, 1.88, 11.86, 29.46, 84.01, 164.8, 247.7]\n",
    "\n",
    "print(planet_names, orbital_periods)"
   ]
  },
  {
   "cell_type": "markdown",
   "metadata": {},
   "source": [
    "Note that the lists are printed sequentially. It would be a lot easier to read this like a table, with a column of planet names, and a column of orbital periods. We could get a table-like output by printing with a `for` loop.\n",
    "\n",
    "Let's start by printing each name in the `planet_names` list with a `for` loop: "
   ]
  },
  {
   "cell_type": "code",
   "execution_count": 23,
   "metadata": {},
   "outputs": [
    {
     "name": "stdout",
     "output_type": "stream",
     "text": [
      "Mercury\n",
      "Venus\n",
      "Earth\n",
      "Mars\n",
      "Jupiter\n",
      "Saturn\n",
      "Uranus\n",
      "Neptune\n",
      "Pluto\n"
     ]
    }
   ],
   "source": [
    "for name in planet_names: # Think about this as saying \"for each name in planet_names: do\"\n",
    "    print(name)"
   ]
  },
  {
   "cell_type": "markdown",
   "metadata": {
    "collapsed": true
   },
   "source": [
    "Let's break it down. `planet_names` is the list that we're going to _iterate_ over, or _loop_ over. When you say `for name in planet_names`, here's what happens: \n",
    "* the `for` says you're going to start a `for` loop\n",
    "* `name` is a new variable that you're specifying, which the `for` loop is going to give values to. You can name this variable whatever you want\n",
    "* `in` says that each `name` is going to come from an element of the `planet_names` list\n",
    "* `planet_names` is the list that you're going to pull elements from\n",
    "\n",
    "Here's what is going to happen when the `for` loop is run:\n",
    "1. The `for` loop sets the variable `name` equal to the first item in `planet_names` (which is `\"Mercury\"`)\n",
    "2. The indented code is executed\n",
    "3. The `for` loop sets `name` equal to the second item in `planet_names` (which is `\"Venus\"`)\n",
    "4. The indented code is executed\n",
    "5. The `for` loop sets `name` equal to the third item in `planet_names` (which is `\"Earth\"`)\n",
    "6. Repeat until you've iterated over every element in `planet_names`\n",
    "\n",
    "You could write code that gives you the same output, but it would be really redundant:\n",
    "```python\n",
    "name = planet_names[0]\n",
    "print(name)\n",
    "\n",
    "name = planet_names[1]\n",
    "print(name)\n",
    "\n",
    "name = planet_names[2]\n",
    "print(name)\n",
    "...\n",
    "```\n",
    "\n",
    "### Example 7\n",
    "\n",
    "In the cell below, use the `for` loop above as a template to create a `for` loop that prints the name and orbital period of each planet."
   ]
  },
  {
   "cell_type": "code",
   "execution_count": null,
   "metadata": {},
   "outputs": [],
   "source": []
  },
  {
   "cell_type": "markdown",
   "metadata": {},
   "source": [
    "Now we're going to use a new function called `range`, which is useful in `for` loops. Let's see what it does"
   ]
  },
  {
   "cell_type": "code",
   "execution_count": 20,
   "metadata": {},
   "outputs": [
    {
     "name": "stdout",
     "output_type": "stream",
     "text": [
      "0\n",
      "1\n",
      "2\n",
      "3\n",
      "4\n"
     ]
    }
   ],
   "source": [
    "for i in range(5):\n",
    "    print(i)"
   ]
  },
  {
   "cell_type": "markdown",
   "metadata": {},
   "source": [
    "The `for` loop is first setting `i=0`, then `i=1`, then `i=2`, etc. The range function is producing a series of consecutive integers just like `np.arange` did. The argument `5` tells `range` to produce the numbers from zero to four.\n",
    "\n",
    "Now, let's recall how indexing of lists works. If we want to see the first element of the `planet_names` list we would write `planet_names[0]`, or `planet_names[1]` for the second element of the list. In order to print out each element of the list one at a time, we could write something like this: \n",
    "```python\n",
    "i = 0\n",
    "print(planet_names[i])\n",
    "\n",
    "i = 1\n",
    "print(planet_names[i])\n",
    "\n",
    "i = 2\n",
    "print(planet_names[i])\n",
    "...\n",
    "```\n",
    "or we could let the `for` loop do it for us without repeating any code like this: \n",
    "```python\n",
    "number_of_planets = len(planet_names)\n",
    "\n",
    "for i in range(number_of_planets):\n",
    "    print(planet_names[i])\n",
    "```\n",
    "This loop will do the same thing as the longer code that we wrote above, but we only had to write the `print` statement line one time. \n",
    "\n",
    "Note that we had to figure out the length of the `planet_names` list in order to figure out at  which number `range` should end.\n",
    "\n",
    "### Example 8\n",
    "\n",
    "Copy and paste the last `for` loop above into the cell below, and inspect its output. \n",
    "\n",
    "Modify the code so that now it prints each planet name one at a time, **and** each orbital period.\n",
    "\n",
    "**Heads up:** this is the toughest coding we've done so far, and it's going to be confusing. Nobody understands `for` loops the first time that they see them, so don't hesitate to ask for help. Remember to talk with your neighbors, and to raise your hand if you get stuck!"
   ]
  },
  {
   "cell_type": "code",
   "execution_count": null,
   "metadata": {},
   "outputs": [],
   "source": []
  },
  {
   "cell_type": "markdown",
   "metadata": {},
   "source": [
    "### Example 9\n",
    "\n",
    "`for` loops are mostly useful for doing repeated calculations on items of a list. In the cell below, make a `for` loop that prints the number of letters in each planet name. \n",
    "\n",
    "_Hint:_ The `len` (length) function works on strings in the same way that it does on lists."
   ]
  },
  {
   "cell_type": "code",
   "execution_count": null,
   "metadata": {},
   "outputs": [],
   "source": []
  },
  {
   "cell_type": "markdown",
   "metadata": {},
   "source": [
    "So far, we've seen examples where we wanted to get elements out of a list, but we also use `for` loops to add elements to lists. Let's make a list of the number of letters in each planet name. We could do that without a `for` loop like this: \n",
    "```python\n",
    "# Start with an empty list: \n",
    "letters_per_name = []\n",
    "\n",
    "letters_per_name.append(len(planet_names[0]))\n",
    "\n",
    "letters_per_name.append(len(planet_names[1]))\n",
    "\n",
    "letters_per_name.append(len(planet_names[2]))\n",
    "...\n",
    "```\n",
    "\n",
    "Whenever you start doing something like the code above, you should think about using a for loop instead!\n",
    "\n",
    "### Example 10\n",
    "\n",
    "In the cell below, create an empty list called `letters_per_name`, then using a `for` loop, append to it the number of letters in each planet name. Print the completed list. "
   ]
  },
  {
   "cell_type": "code",
   "execution_count": null,
   "metadata": {},
   "outputs": [],
   "source": []
  },
  {
   "cell_type": "markdown",
   "metadata": {},
   "source": [
    "## Combining control flow statements\n",
    "\n",
    "Now let's build on the previous example. Copy and paste the code from the previous cell into the cell below. \n",
    "\n",
    "### Example 11\n",
    "\n",
    "This time, let's only append the letters per name to the list, **if** the number of letters is even. Print the result to check if it worked.\n",
    "\n",
    "**Recall:** if a number is even, the modulus of that number and two is zero, for example `8 % 2 == 0`"
   ]
  },
  {
   "cell_type": "code",
   "execution_count": null,
   "metadata": {},
   "outputs": [],
   "source": []
  },
  {
   "cell_type": "markdown",
   "metadata": {},
   "source": [
    "### Example 12\n",
    "\n",
    "Copy and paste the code in the cell above into the cell below. Modify it to print out the names of the planets with even numbers of letters greater than four letters long. Check that it works successfully.\n",
    "\n",
    "_Hint:_ You might need two `if` statements"
   ]
  },
  {
   "cell_type": "code",
   "execution_count": null,
   "metadata": {},
   "outputs": [],
   "source": []
  }
 ],
 "metadata": {
  "kernelspec": {
   "display_name": "Python 3",
   "language": "python",
   "name": "python3"
  },
  "language_info": {
   "codemirror_mode": {
    "name": "ipython",
    "version": 3
   },
   "file_extension": ".py",
   "mimetype": "text/x-python",
   "name": "python",
   "nbconvert_exporter": "python",
   "pygments_lexer": "ipython3",
   "version": "3.8.11"
  }
 },
 "nbformat": 4,
 "nbformat_minor": 1
}
