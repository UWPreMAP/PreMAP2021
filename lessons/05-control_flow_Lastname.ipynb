{
 "cells": [
  {
   "cell_type": "markdown",
   "metadata": {},
   "source": [
    "[Pre-MAP Course Website](http://depts.washington.edu/premap/seminar/cohort-17-2021-seminar/) | [Pre-MAP GitHub](https://github.com/UWPreMAP/PreMAP2021) | [Google](https://www.google.com)\n",
    "\n",
    "### Each time you access the PreMAP2021 directory make sure your files are up to date\n",
    "1. Open up a terminal tab (New -> Terminal). Change directories into the PreMAP2021 directory, then do:\n",
    "```bash\n",
    "cd PreMAP2021\n",
    "```\n",
    "2. Update the directory to get any newly added files by running in the terminal:\n",
    "```bash\n",
    "git pull\n",
    "```\n",
    "3. Type in your terminal:\n",
    "```bash\n",
    "cd lessons\n",
    "```\n",
    "4. If you're on the AstroLab computer, type in your terminal:\n",
    "```bash\n",
    "jupyter notebook\n",
    "```\n",
    "This will open a webpage that has the lessons on them. You can select this lesson and then edit and run the cells to follow along with the lesson. Remember to change \"Lastname\" to your last name."
   ]
  },
  {
   "cell_type": "markdown",
   "metadata": {},
   "source": [
    "# Control flow/logic\n",
    "### Control flow statements literally control the flow of your code!\n",
    "There are a few basic types of control flow statements that we will learn. These are as follows: \n",
    "- **if:** do something _if_ some condition is `True`\n",
    "- **for:** do something repeatedly _for_ some number of times, or on some number of items\n",
    "- **while:** do something _while_ some condition is `True`\n",
    "\n",
    "Let's look at some examples. **Notice that indentation (whitespace preceding code) matters in Python**! Blocks of text following a `for`, `while` or `if` statement must be indented to run properly. You can think of the indent as saying \"do\"."
   ]
  },
  {
   "cell_type": "markdown",
   "metadata": {},
   "source": [
    "## Boolean review\n",
    "\n",
    "Remember that a boolean is a special data type in python that has two possible values, `True` or `False`.\n",
    "\n",
    "When we type a statement in python that results in a Boolean, we are essentially asking if that statement is `True` or `False`. For example"
   ]
  },
  {
   "cell_type": "code",
   "execution_count": 1,
   "metadata": {},
   "outputs": [
    {
     "name": "stdout",
     "output_type": "stream",
     "text": [
      "True\n",
      "False\n"
     ]
    }
   ],
   "source": [
    "number = 5\n",
    "\n",
    "print(number > 2)\n",
    "print(number < 2)"
   ]
  },
  {
   "cell_type": "markdown",
   "metadata": {},
   "source": [
    "This doesn't just hold for numbers, we can check if a variable is equal to a string as well. Remember that when we want to check if two things are equal, we use `==`."
   ]
  },
  {
   "cell_type": "code",
   "execution_count": 2,
   "metadata": {},
   "outputs": [
    {
     "name": "stdout",
     "output_type": "stream",
     "text": [
      "False\n"
     ]
    }
   ],
   "source": [
    "chalkboard_text = \"The Simpsons\"\n",
    "\n",
    "print(chalkboard_text == \"Futurama\")"
   ]
  },
  {
   "cell_type": "markdown",
   "metadata": {},
   "source": [
    "This will come in handy today as we learn how to write code that only runs sometimes to handle multiple cases."
   ]
  },
  {
   "cell_type": "markdown",
   "metadata": {},
   "source": [
    "### `and` and `or`\n",
    "\n",
    "You can make complex statements that result in Booleans by using `and` and `or`. These work as follows:"
   ]
  },
  {
   "cell_type": "code",
   "execution_count": 3,
   "metadata": {},
   "outputs": [],
   "source": [
    "number = 5"
   ]
  },
  {
   "cell_type": "code",
   "execution_count": 4,
   "metadata": {},
   "outputs": [
    {
     "name": "stdout",
     "output_type": "stream",
     "text": [
      "True\n"
     ]
    }
   ],
   "source": [
    "print(number > 0 and number == 5)"
   ]
  },
  {
   "cell_type": "code",
   "execution_count": 5,
   "metadata": {},
   "outputs": [
    {
     "name": "stdout",
     "output_type": "stream",
     "text": [
      "False\n"
     ]
    }
   ],
   "source": [
    "print(number > 0 and number > 10)"
   ]
  },
  {
   "cell_type": "code",
   "execution_count": 6,
   "metadata": {},
   "outputs": [
    {
     "name": "stdout",
     "output_type": "stream",
     "text": [
      "False\n"
     ]
    }
   ],
   "source": [
    "print(number < 0 and number > 10)"
   ]
  },
  {
   "cell_type": "code",
   "execution_count": 7,
   "metadata": {},
   "outputs": [
    {
     "name": "stdout",
     "output_type": "stream",
     "text": [
      "True\n"
     ]
    }
   ],
   "source": [
    "print(number > 0 or number == 5)"
   ]
  },
  {
   "cell_type": "code",
   "execution_count": 8,
   "metadata": {},
   "outputs": [
    {
     "name": "stdout",
     "output_type": "stream",
     "text": [
      "True\n"
     ]
    }
   ],
   "source": [
    "print(number > 0 or number > 10)"
   ]
  },
  {
   "cell_type": "code",
   "execution_count": 9,
   "metadata": {},
   "outputs": [
    {
     "name": "stdout",
     "output_type": "stream",
     "text": [
      "False\n"
     ]
    }
   ],
   "source": [
    "print(number < 0 or number > 10)"
   ]
  },
  {
   "cell_type": "markdown",
   "metadata": {},
   "source": [
    "## The `if` statement\n",
    "\n",
    "When you need a program to do something more complicated than arithmetic, you'll sometimes need the code to do something _if_ some condition is met, otherwise it should do something else.\n",
    "\n",
    "The syntax is as follows\n",
    "\n",
    "```python\n",
    "if STATEMENT:\n",
    "    THING\n",
    "```\n",
    "\n",
    "so, python does the THING if the STATEMENT is true. We can also tell python what to do if STATEMENT is not true, with:\n",
    "\n",
    "```python\n",
    "if STATEMENT:\n",
    "    THING\n",
    "else:\n",
    "    OTHERTHING\n",
    "```\n",
    "\n",
    "One basic example is checking a password. _If_ someone submits the right password, then tell them they're welcome, _else_ (otherwise) give them a warning to get away. Here's how we can do that in Python:\n"
   ]
  },
  {
   "cell_type": "code",
   "execution_count": 10,
   "metadata": {},
   "outputs": [
    {
     "name": "stdout",
     "output_type": "stream",
     "text": [
      "Enter.\n"
     ]
    }
   ],
   "source": [
    "password = 'friend'\n",
    "truePassword = 'friend'\n",
    "\n",
    "if password == truePassword:\n",
    "    # This indented code will only run if the above condition is True\n",
    "    print('Enter.')\n",
    "else:\n",
    "    # This indented code will only run if the above condition is False\n",
    "    print('You shall not pass!')"
   ]
  },
  {
   "cell_type": "markdown",
   "metadata": {},
   "source": [
    "The above example has only two possible outcomes - either the password is correct or incorrect. Sometimes, you'll want more possible outcomes, and for those occasions you can use the `elif` statement, meaning \"else-if\". For example, let's create a program that tells you how someone might react to a gift of skittles:\n",
    "\n",
    "Run the code in the cell below and see what happens when you change the value of the `skittles_gifted` variable."
   ]
  },
  {
   "cell_type": "code",
   "execution_count": 11,
   "metadata": {},
   "outputs": [
    {
     "name": "stdout",
     "output_type": "stream",
     "text": [
      "I would love some more skittles if you'll share.\n"
     ]
    }
   ],
   "source": [
    "skittles_gifted = 3\n",
    "\n",
    "if skittles_gifted < 5:\n",
    "    print(\"I would love some more skittles if you'll share.\")\n",
    "elif skittles_gifted < 10:\n",
    "    print(\"Maybe one more skittle please.\")\n",
    "elif skittles_gifted < 50: \n",
    "    print(\"Thank you, but this is too many skittles.\")\n",
    "else:\n",
    "    print(\"Oh no! I'm buried in skittles now.\")"
   ]
  },
  {
   "cell_type": "markdown",
   "metadata": {},
   "source": [
    "### Example 1\n",
    "\n",
    "In the cell below, explain the sequence of events in the code starting from the first line, when `course_number = 601`, in comments: "
   ]
  },
  {
   "cell_type": "code",
   "execution_count": 12,
   "metadata": {},
   "outputs": [
    {
     "name": "stdout",
     "output_type": "stream",
     "text": [
      "Runaway!\n"
     ]
    }
   ],
   "source": [
    "course_number = 601\n",
    "\n",
    "if course_number < 200:\n",
    "    print(\"This course is going to be fun.\")\n",
    "elif course_number < 300:\n",
    "    print(\"This course is going to be hard.\")\n",
    "elif course_number < 400:\n",
    "    print(\"You might want to wait for this course.\")\n",
    "else:\n",
    "    print(\"Runaway!\")"
   ]
  },
  {
   "cell_type": "markdown",
   "metadata": {},
   "source": [
    "### Example 2\n",
    "\n",
    "In the cell below, create a program that checks that the user paid the correct amount for a product. You should make two variables, `customer_paid` for how much the customer gave you, and `price` for how much the product costs. Then your program will do one of three things: \n",
    "1. If the customer pays exactly the price, print \"thanks!\"\n",
    "2. If the customer pays more than the price, print \"thanks!!!\"\n",
    "3. If the customer pays less than the price, print \"try again\""
   ]
  },
  {
   "cell_type": "code",
   "execution_count": 13,
   "metadata": {},
   "outputs": [
    {
     "name": "stdout",
     "output_type": "stream",
     "text": [
      "try again\n"
     ]
    }
   ],
   "source": [
    "customer_paid = 2# euros\n",
    "price = 3 # euros\n",
    "\n",
    "if customer_paid < price:\n",
    "    print(\"try again\")\n",
    "elif customer_paid == price:\n",
    "    print(\"thanks!\")\n",
    "elif customer_paid > price:\n",
    "    print(\"thanks!!!\")"
   ]
  },
  {
   "cell_type": "markdown",
   "metadata": {},
   "source": [
    "## The `while` loop\n",
    "\n",
    "The `while` command is the first type of _loop_ we'll use. A loop is a snippet of code that gets run repeatedly. \n",
    "\n",
    "The syntax is as follows\n",
    "```python\n",
    "while STATEMENT:\n",
    "    THING\n",
    "```\n",
    "This tells python to do the THING while STATEMENT is true.\n",
    "\n",
    "Let's see an example below, where we use a `while` loop to add 1 to `number` for as many times as necessary until `number` is greater than or equal to 10:\n",
    "\n",
    "Run the code in the cell below. What gets printed and why?"
   ]
  },
  {
   "cell_type": "code",
   "execution_count": 14,
   "metadata": {},
   "outputs": [
    {
     "name": "stdout",
     "output_type": "stream",
     "text": [
      "0\n",
      "1\n",
      "2\n",
      "3\n",
      "4\n",
      "5\n",
      "6\n",
      "7\n",
      "8\n",
      "9\n"
     ]
    }
   ],
   "source": [
    "number = 0\n",
    "\n",
    "while number < 10:\n",
    "    print(number)\n",
    "    number += 1"
   ]
  },
  {
   "cell_type": "markdown",
   "metadata": {},
   "source": [
    "### Example 4\n",
    "\n",
    "Using the example above as a template, create a variable `counter = 5000`, and use a `while` loop to subtract 10 from `counter` until `counter` is less than -5000. \n",
    "\n",
    "Print `counter` after the loop is complete, so you can see the result."
   ]
  },
  {
   "cell_type": "code",
   "execution_count": 15,
   "metadata": {
    "scrolled": true
   },
   "outputs": [
    {
     "name": "stdout",
     "output_type": "stream",
     "text": [
      "-5000\n"
     ]
    }
   ],
   "source": [
    "counter = 5000\n",
    "\n",
    "while counter > -5000:\n",
    "    counter = counter - 10\n",
    "\n",
    "print(counter)"
   ]
  },
  {
   "cell_type": "markdown",
   "metadata": {},
   "source": [
    "***\n",
    "\n",
    "It's possible to accidentally create a loop that has no end. For example, if you wrote the above loop like this,\n",
    "```python\n",
    "counter = 5000\n",
    "\n",
    "while counter < 6000:\n",
    "    counter -= 10\n",
    "```\n",
    "the `counter` will always be less than 6000, so the condition `counter < 6000` will always be `True`, and the loop will never end. That's called an _infinite loop_. If you create an infinite loop, the program will keep running forever, unless you _kill_ it. You can kill a Python cell in an iPython Notebook by pressing the Stop button in the toolbar at the top of the page. \n",
    "\n",
    "### Example 5\n",
    "\n",
    "In this example, we'll create an infinite loop that doesn't go on forever, because it terminates with a `break` statement. `break` forces python to end a loop.\n",
    "\n",
    "Let's start a `counter` at 10, and iteratively subtract one from `counter`. We could make the `while` loop terminate when `counter == 1` by writing the loop like this\n",
    "```python\n",
    "counter = 10\n",
    "\n",
    "while counter > 1:\n",
    "    counter -=1\n",
    "    \n",
    "print(counter)\n",
    "```\n",
    "Or, we could `break` out of an infinite loop:\n",
    "```python\n",
    "counter = 10\n",
    "\n",
    "# This loop is infinite on purpose:\n",
    "while True:\n",
    "    counter -= 1\n",
    "    \n",
    "    # When counter is equal to one, break out of the loop:\n",
    "    if counter == 1:\n",
    "        break\n",
    "\n",
    "print(counter)\n",
    "```\n",
    "\n",
    "### Example 6\n",
    "\n",
    "1. Copy and paste the loop with the `break` from above into the cell below, and check that it works.\n",
    "\n",
    "2. Modify the loop so that it terminates when the `counter` is at negative one million (reminder: you can use `e` for scientific notation)\n",
    "\n",
    "3. Now modify the loop so that it counts down from 10 to negative one million by twos."
   ]
  },
  {
   "cell_type": "code",
   "execution_count": 16,
   "metadata": {},
   "outputs": [
    {
     "name": "stdout",
     "output_type": "stream",
     "text": [
      "1\n"
     ]
    }
   ],
   "source": [
    "counter = 10\n",
    "\n",
    "# This loop is infinite on purpose:\n",
    "while True:\n",
    "    counter -= 1\n",
    "\n",
    "    # When counter is equal to one, break out of the loop:\n",
    "    if counter == 1:\n",
    "        break\n",
    "\n",
    "print(counter)"
   ]
  },
  {
   "cell_type": "markdown",
   "metadata": {
    "collapsed": true
   },
   "source": [
    "### The `for` loop\n",
    "\n",
    "The `for` loop is trickier to learn than the other statements we've learned so far, but it's worth the trouble! \n",
    "\n",
    "A `for` loop is used to do something with every element of a list or array. The syntax is as follows\n",
    "\n",
    "```python\n",
    "for VARNAME in ITERABLE:\n",
    "    DO THING WITH VARNAME\n",
    "```\n",
    "You can give VARNAME whatever name you want. When you do something with that variable name in the for loop, python will do that to every element of ITERABLE.\n",
    "\n",
    "Let's say you have a grocery list of items you want to buy from the store. And let's say that the store publishes a list of prices for each item."
   ]
  },
  {
   "cell_type": "code",
   "execution_count": 17,
   "metadata": {},
   "outputs": [
    {
     "name": "stdout",
     "output_type": "stream",
     "text": [
      "['eggs', 'tofu', 'milk', 'chorizo', 'potatoes', 'tortillas', 'candy'] [1.99, 2.99, 0.99, 3.99, 1.99, 0.99, 5.99]\n"
     ]
    }
   ],
   "source": [
    "grocery_list = ['eggs', 'tofu', 'milk', 'chorizo', 'potatoes', 'tortillas', 'candy']\n",
    "\n",
    "# List is in dollars for (in order): eggs, tofu, milk, bread, candy\n",
    "prices_list = [1.99, 2.99, 0.99, 3.99, 1.99, 0.99, 5.99] \n",
    "\n",
    "print(grocery_list, prices_list)"
   ]
  },
  {
   "cell_type": "markdown",
   "metadata": {},
   "source": [
    "Note that the lists are printed sequentially. It would be a lot easier to read this like a table, with a column of items, and a column of their corresponding prices. We can do that with the code below. "
   ]
  },
  {
   "cell_type": "code",
   "execution_count": 18,
   "metadata": {},
   "outputs": [
    {
     "name": "stdout",
     "output_type": "stream",
     "text": [
      "eggs 1.99\n",
      "tofu 2.99\n",
      "milk 0.99\n",
      "chorizo 3.99\n",
      "potatoes 1.99\n",
      "tortillas 0.99\n",
      "candy 5.99\n"
     ]
    }
   ],
   "source": [
    "print(grocery_list[0], prices_list[0])\n",
    "print(grocery_list[1], prices_list[1])\n",
    "print(grocery_list[2], prices_list[2])\n",
    "print(grocery_list[3], prices_list[3])\n",
    "print(grocery_list[4], prices_list[4])\n",
    "print(grocery_list[5], prices_list[5])\n",
    "print(grocery_list[6], prices_list[6])"
   ]
  },
  {
   "cell_type": "markdown",
   "metadata": {},
   "source": [
    "But that took a lot of typing! And would take even more typing if we had a longer grocery list. We can do this really efficiently with a `for` loop. But we have to build up to it first!\n",
    "\n",
    "Let's start by printing each name in the `grocery_list` list with a `for` loop: "
   ]
  },
  {
   "cell_type": "code",
   "execution_count": 19,
   "metadata": {},
   "outputs": [
    {
     "name": "stdout",
     "output_type": "stream",
     "text": [
      "eggs\n",
      "tofu\n",
      "milk\n",
      "chorizo\n",
      "potatoes\n",
      "tortillas\n",
      "candy\n"
     ]
    }
   ],
   "source": [
    "for grocery in grocery_list: # Think about this as saying \"for each name in grocery_list: do\"\n",
    "    print(grocery)"
   ]
  },
  {
   "cell_type": "markdown",
   "metadata": {
    "collapsed": true
   },
   "source": [
    "Let's break it down. `grocery_list` is the list that we're going to _iterate_ over, or _loop_ over. When you say `for grocery in grocery_list`, here's what happens: \n",
    "* the `for` says you're going to start a `for` loop\n",
    "* `grocery` is a new variable that you're specifying, which the `grocery` loop is going to give values to. You can name this variable whatever you want\n",
    "* `in` says that each `grocery` is going to come from an element of the `grocery_list` list\n",
    "* `grocery_list` is the list that you're going to pull elements from\n",
    "\n",
    "Here's what is going to happen when the `for` loop is run:\n",
    "1. The `for` loop sets the variable `grocery` equal to the first item in `grocery_list` (which is `\"eggs\"`)\n",
    "2. The indented code is executed\n",
    "3. The `for` loop sets `grocery` equal to the second item in `grocery_list` (which is `\"tofu\"`)\n",
    "4. The indented code is executed\n",
    "5. The `for` loop sets `grocery` equal to the third item in `grocery_list` (which is `\"milk\"`)\n",
    "6. Repeat until you've iterated over every element in `grocery_list`\n",
    "\n",
    "### Example 7\n",
    "\n",
    "In the cell below, use the `for` loop above as a template to create a `for` loop that prints the price of each grocery from the `prices_list`."
   ]
  },
  {
   "cell_type": "code",
   "execution_count": 20,
   "metadata": {},
   "outputs": [
    {
     "name": "stdout",
     "output_type": "stream",
     "text": [
      "1.99\n",
      "2.99\n",
      "0.99\n",
      "3.99\n",
      "1.99\n",
      "0.99\n",
      "5.99\n"
     ]
    }
   ],
   "source": [
    "for price in prices_list:\n",
    "    print(price)"
   ]
  },
  {
   "cell_type": "markdown",
   "metadata": {},
   "source": [
    "## Making a table of groceries and their prices"
   ]
  },
  {
   "cell_type": "markdown",
   "metadata": {},
   "source": [
    "So, we want to make a table that has two columns, the first column has the groceries and the second has their prices. You might think, \"if a for loop iterates over one list, then how can we do something with two lists?\"\n",
    "\n",
    "This is where a new function called `range` comes in handy. Let's see what it does in the context of `for` loops."
   ]
  },
  {
   "cell_type": "code",
   "execution_count": 21,
   "metadata": {},
   "outputs": [
    {
     "name": "stdout",
     "output_type": "stream",
     "text": [
      "0\n",
      "1\n",
      "2\n",
      "3\n",
      "4\n"
     ]
    }
   ],
   "source": [
    "for i in range(5):\n",
    "    print(i)"
   ]
  },
  {
   "cell_type": "markdown",
   "metadata": {},
   "source": [
    "The `for` loop is first setting `i=0` and printing `i`, then it sets `i=1` and prints `i`, and keeps going until the last element, 4.\n",
    "\n",
    "The range function is producing a series of consecutive integers just like `np.arange` did. The argument `5` tells `range` to produce the numbers from zero to four.\n",
    "\n",
    "Now, let's recall how indexing of lists works. If we want to see the first element of the `grocery_list` list we would write `grocery_list[0]`, or `grocery_list[1]` for the second element of the list. \n",
    "\n",
    "So, let's print every grocery in the `grocery_list` with a `for` loop and indexing."
   ]
  },
  {
   "cell_type": "code",
   "execution_count": 22,
   "metadata": {},
   "outputs": [
    {
     "name": "stdout",
     "output_type": "stream",
     "text": [
      "7\n"
     ]
    }
   ],
   "source": [
    "number_of_groceries = len(grocery_list)\n",
    "print(number_of_groceries)"
   ]
  },
  {
   "cell_type": "code",
   "execution_count": 23,
   "metadata": {},
   "outputs": [
    {
     "name": "stdout",
     "output_type": "stream",
     "text": [
      "eggs\n",
      "tofu\n",
      "milk\n",
      "chorizo\n",
      "potatoes\n",
      "tortillas\n",
      "candy\n"
     ]
    }
   ],
   "source": [
    "for number in range(number_of_groceries):\n",
    "    print(grocery_list[number])"
   ]
  },
  {
   "cell_type": "markdown",
   "metadata": {},
   "source": [
    "So, you might think \"Hey! This is just the same as the code we wrote above where we said\n",
    "```python\n",
    "for grocery in grocery_list:\n",
    "    print(grocery)\n",
    "```\n",
    "what's the point of doing it a different way?\"\n",
    "\n",
    "Well, in this case, you're not iterating over ``grocery_list``, you're iterating over the indices of ``grocery_list``, and these indices can be used to index into other lists.\n",
    "\n",
    "Let's get back to our goal, printing each grocery and their corresponding price in two columns."
   ]
  },
  {
   "cell_type": "markdown",
   "metadata": {},
   "source": [
    "### Example 8\n",
    "\n",
    "Use a single for loop, the ```range``` function, and indexing to print each grocery and their corresponding price in a two-column format.\n",
    "\n",
    "**Heads up:** this is the toughest coding we've done so far, and it's going to be confusing. Nobody understands `for` loops the first time that they see them, so don't hesitate to ask for help. Remember to talk with your neighbors, and to raise your hand if you get stuck!"
   ]
  },
  {
   "cell_type": "code",
   "execution_count": 24,
   "metadata": {},
   "outputs": [
    {
     "name": "stdout",
     "output_type": "stream",
     "text": [
      "eggs 1.99\n",
      "tofu 2.99\n",
      "milk 0.99\n",
      "chorizo 3.99\n",
      "potatoes 1.99\n",
      "tortillas 0.99\n",
      "candy 5.99\n"
     ]
    }
   ],
   "source": [
    "for number in range(number_of_groceries):\n",
    "    print(grocery_list[number], prices_list[number])"
   ]
  },
  {
   "cell_type": "markdown",
   "metadata": {},
   "source": [
    "### Example 9\n",
    "\n",
    "`for` loops are mostly useful for doing repeated calculations on items of a list. \n",
    "\n",
    "Let's assume that the store is having a sale, and all prices are cut in half!\n",
    "\n",
    "In the cell below, make a `for` loop that prints how much you'll actually pay for each price in ``prices_list``."
   ]
  },
  {
   "cell_type": "code",
   "execution_count": 25,
   "metadata": {},
   "outputs": [
    {
     "name": "stdout",
     "output_type": "stream",
     "text": [
      "0.995\n",
      "1.495\n",
      "0.495\n",
      "1.995\n",
      "0.995\n",
      "0.495\n",
      "2.995\n"
     ]
    }
   ],
   "source": [
    "for price in prices_list:\n",
    "    print(price / 2)"
   ]
  },
  {
   "cell_type": "markdown",
   "metadata": {},
   "source": [
    "### Making a list with for loops"
   ]
  },
  {
   "cell_type": "markdown",
   "metadata": {},
   "source": [
    "So far, we've seen examples where we wanted to get elements out of a list, but we also use `for` loops to add elements to lists. \n",
    "\n",
    "Let's make a new list of prices that represents how much you'll actually pay for each grocery.\n",
    "\n",
    "Without a `for` loop you would do that like this."
   ]
  },
  {
   "cell_type": "code",
   "execution_count": 26,
   "metadata": {},
   "outputs": [
    {
     "name": "stdout",
     "output_type": "stream",
     "text": [
      "[0.995, 1.495, 0.495, 1.995, 0.995, 0.495, 2.995]\n"
     ]
    }
   ],
   "source": [
    "actual_prices = [] # Make an empty list that we will add our discount prices to\n",
    "\n",
    "actual_prices.append(prices_list[0] / 2)\n",
    "actual_prices.append(prices_list[1] / 2)\n",
    "actual_prices.append(prices_list[2] / 2)\n",
    "actual_prices.append(prices_list[3] / 2)\n",
    "actual_prices.append(prices_list[4] / 2)\n",
    "actual_prices.append(prices_list[5] / 2)\n",
    "actual_prices.append(prices_list[6] / 2)\n",
    "\n",
    "print(actual_prices)"
   ]
  },
  {
   "cell_type": "markdown",
   "metadata": {},
   "source": [
    "\n",
    "Whenever you start doing something like the code above, you should think about using a for loop instead. It'll save you a lot of time and space. You can think of a for loop kind of like doing a copy and paste, but being able to slightly change whatever you're pasting each time you paste it."
   ]
  },
  {
   "cell_type": "markdown",
   "metadata": {},
   "source": [
    "### Example 10\n",
    "\n",
    "In the cell below, create an empty list called `actual_prices`, then using a `for` loop, append to it the actual price that you'll pay for each grocery. I.e., turn the too-long code in the cell above into some nice efficient code using a `for` loop."
   ]
  },
  {
   "cell_type": "code",
   "execution_count": 27,
   "metadata": {},
   "outputs": [
    {
     "name": "stdout",
     "output_type": "stream",
     "text": [
      "[0.995, 1.495, 0.495, 1.995, 0.995, 0.495, 2.995]\n"
     ]
    }
   ],
   "source": [
    "actual_prices = []\n",
    "\n",
    "for price in prices_list:\n",
    "    actual_prices.append(price / 2) # Divide price by 2 b/c of sale\n",
    "\n",
    "print(actual_prices)"
   ]
  },
  {
   "cell_type": "markdown",
   "metadata": {},
   "source": [
    "## Combining control flow statements\n",
    "\n",
    "Now let's put everything together!\n",
    "\n",
    "### Example 11\n",
    "\n",
    "Do what you did in example 8, but only print the grocery and its corresponding price from the `actual_prices` list if the grocery's actual price is less than $1.50"
   ]
  },
  {
   "cell_type": "code",
   "execution_count": 28,
   "metadata": {},
   "outputs": [
    {
     "name": "stdout",
     "output_type": "stream",
     "text": [
      "eggs 1.99\n",
      "tofu 2.99\n",
      "milk 0.99\n",
      "potatoes 1.99\n",
      "tortillas 0.99\n"
     ]
    }
   ],
   "source": [
    "for number in range(number_of_groceries):\n",
    "    actual_price = prices_list[number] / 2\n",
    "    \n",
    "    if actual_price < 1.5:\n",
    "        print(grocery_list[number], prices_list[number])"
   ]
  },
  {
   "cell_type": "markdown",
   "metadata": {},
   "source": [
    "### Example 12\n",
    "\n",
    "Now, do you what you did in example 8, but only print the grocery and its corresponding price from the `actual_prices` list if the grocery's actual price is less than $1.50 `or` if that grocery's name is \"candy\""
   ]
  },
  {
   "cell_type": "code",
   "execution_count": 29,
   "metadata": {},
   "outputs": [
    {
     "name": "stdout",
     "output_type": "stream",
     "text": [
      "eggs 1.99\n",
      "tofu 2.99\n",
      "milk 0.99\n",
      "potatoes 1.99\n",
      "tortillas 0.99\n",
      "candy 5.99\n"
     ]
    }
   ],
   "source": [
    "for number in range(number_of_groceries):\n",
    "    actual_price = prices_list[number] / 2\n",
    "    grocery_name = grocery_list[number]\n",
    "    \n",
    "    if actual_price < 1.5 or grocery_name == \"candy\":\n",
    "        print(grocery_list[number], prices_list[number])"
   ]
  }
 ],
 "metadata": {
  "kernelspec": {
   "display_name": "Python 3",
   "language": "python",
   "name": "python3"
  },
  "language_info": {
   "codemirror_mode": {
    "name": "ipython",
    "version": 3
   },
   "file_extension": ".py",
   "mimetype": "text/x-python",
   "name": "python",
   "nbconvert_exporter": "python",
   "pygments_lexer": "ipython3",
   "version": "3.8.11"
  }
 },
 "nbformat": 4,
 "nbformat_minor": 1
}
