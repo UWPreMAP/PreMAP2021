{
 "cells": [
  {
   "cell_type": "markdown",
   "metadata": {},
   "source": [
    "[Pre-MAP Course Website](http://depts.washington.edu/premap/seminar/cohort-17-2021-seminar/) | [Pre-MAP GitHub](https://github.com/UWPreMAP/PreMAP2021) | [Google](https://www.google.com)\n",
    "\n",
    "### Each time you access the PreMAP2021 directory make sure your files are up to date\n",
    "1. Open up a terminal tab (New -> Terminal). Change directories into the PreMAP2021 directory, then do:\n",
    "```bash\n",
    "cd PreMAP2021\n",
    "```\n",
    "2. Update the directory to get any newly added files by running in the terminal:\n",
    "```bash\n",
    "git pull\n",
    "```\n",
    "3. Type in your terminal:\n",
    "```bash\n",
    "cd lessons\n",
    "```\n",
    "4. If you're on the AstroLab computer, type in your terminal:\n",
    "```bash\n",
    "jupyter notebook\n",
    "```\n",
    "This will open a webpage that has the lessons on them. You can select this lesson and then edit and run the cells to follow along with the lesson. Remember to change \"Lastname\" to your last name."
   ]
  },
  {
   "cell_type": "markdown",
   "metadata": {},
   "source": [
    "# Vocabulary for today\n",
    "\n",
    "<b><ul>\n",
    "    <li>spline</li>\n",
    "    <li>resolution</li>\n",
    "    <li>format string</li>\n",
    "    <li>keyword arguments</li>\n",
    "    <li>hex code</li>\n",
    "    <li>linear spacing</li>\n",
    "    <li>logarithmic spacing</li>\n",
    "    <li>subplots</li>\n",
    "    </ul></b>"
   ]
  },
  {
   "cell_type": "markdown",
   "metadata": {},
   "source": [
    "# Plotting with `matplotlib` \n",
    "\n",
    "*examples in this notebook are based on Nicholas Hunt-Walker's [plotting tutorial](https://github.com/nhuntwalker/teaching/blob/master/plotting_in_python.ipynb) and Jake VanderPlas' [matplotlib tutorial](https://github.com/jakevdp/2014_fall_ASTR599/blob/master/notebooks/06_MatplotlibIntro.ipynb) check these out if you want to read more about plotting with matplotlib* \n",
    "\n",
    "In this notebook we will learn how to make basic plots, how to customize these plots to display data the way we want to, how to make log-plots, and how to have many plots at once.\n",
    "\n",
    "`matplotlib` is a huge and incredibly important python library that handles all things plotting. Most of the time you'll only be working with a subset of `matplotlib` called `pyplot`, let's import it!"
   ]
  },
  {
   "cell_type": "code",
   "execution_count": null,
   "metadata": {},
   "outputs": [],
   "source": [
    "import matplotlib.pyplot as plt\n",
    "# Remember that because we imported as plt\n",
    "# then we can call functions with plt.NAME_OF_FUNCTION\n",
    "\n",
    "# I'm also using this \"magic\" function to make my plots appear in this notebook\n",
    "# Only do this when working with Jupyter notebooks\n",
    "%matplotlib inline"
   ]
  },
  {
   "cell_type": "markdown",
   "metadata": {},
   "source": [
    "## Basic Plot Command\n",
    "\n",
    "The fundamental function in matplotlibt is `plt.plot(x,y)`. This will plot points and connect them, where the (x,y) values of the points are given by the values in the arrays `x` and `y`.\n",
    "\n",
    "To start getting plotted let's define an `x` and `y` array."
   ]
  },
  {
   "cell_type": "code",
   "execution_count": null,
   "metadata": {},
   "outputs": [],
   "source": [
    "import numpy as np"
   ]
  },
  {
   "cell_type": "code",
   "execution_count": null,
   "metadata": {},
   "outputs": [],
   "source": [
    "x = np.array([1,2,3,4,5])"
   ]
  },
  {
   "cell_type": "markdown",
   "metadata": {},
   "source": [
    "Let's try plotting a relatively simple equation:\n",
    "$\\begin{equation}\n",
    "y = x\n",
    "\\end{equation}$\n",
    "\n",
    "we can do this in code by just defining a variable `y` as so"
   ]
  },
  {
   "cell_type": "code",
   "execution_count": null,
   "metadata": {},
   "outputs": [],
   "source": [
    "y = x\n",
    "print(y)"
   ]
  },
  {
   "cell_type": "markdown",
   "metadata": {},
   "source": [
    "Now that we've got an `x` array and a `y` array, let's see what the `plt.plot` function will do."
   ]
  },
  {
   "cell_type": "code",
   "execution_count": null,
   "metadata": {},
   "outputs": [],
   "source": [
    "plt.plot(x,y)\n",
    "# Remember that when you call a function, you must use parentheses\n",
    "# that enclose around the arguments that the function will take"
   ]
  },
  {
   "cell_type": "markdown",
   "metadata": {},
   "source": [
    "There it is! $y=x$, your first (of what will likely be many) plot!\n",
    "\n",
    "$y=x$ is pretty nice, but let's get a little more fancy and try plotting $y = x^2$"
   ]
  },
  {
   "cell_type": "code",
   "execution_count": null,
   "metadata": {},
   "outputs": [],
   "source": [
    "y = np.power(x, 2)\n",
    "#Confused about what's going on in this line? try running the cell below"
   ]
  },
  {
   "cell_type": "code",
   "execution_count": null,
   "metadata": {},
   "outputs": [],
   "source": [
    "np.power?"
   ]
  },
  {
   "cell_type": "code",
   "execution_count": null,
   "metadata": {},
   "outputs": [],
   "source": [
    "plt.plot(x,y)"
   ]
  },
  {
   "cell_type": "markdown",
   "metadata": {},
   "source": [
    "That kind of looks like $y=x^2$ but it also looks a little jagged. This is because when `matplotlib` plots something, it actually draws a straight line between the (x,y) points that you give matplotlib. This is called a <b>spline</b>. `matplotlib` can just connect the dots that you give it.\n",
    "\n",
    "So, to make this more smooth, we need to have many more points. To do that, let's use `np.linspace`"
   ]
  },
  {
   "cell_type": "markdown",
   "metadata": {},
   "source": [
    "### Example 1: Making an array with `np.linspace`"
   ]
  },
  {
   "cell_type": "markdown",
   "metadata": {},
   "source": [
    "Run the cell below to load up the `np.linspace` documentation and read about how to use `np.linspace`."
   ]
  },
  {
   "cell_type": "code",
   "execution_count": null,
   "metadata": {},
   "outputs": [],
   "source": [
    "np.linspace?"
   ]
  },
  {
   "cell_type": "markdown",
   "metadata": {},
   "source": [
    "Now, in the cell below, using `np.linspace`, create a new `x` array that has 100 points between 1 and 5. This new `x` array will have a higher <b>resolution</b> than our old `x` array."
   ]
  },
  {
   "cell_type": "code",
   "execution_count": null,
   "metadata": {},
   "outputs": [],
   "source": []
  },
  {
   "cell_type": "markdown",
   "metadata": {},
   "source": [
    "Now, run the cell below to re-define the `y` array with your new `x` values, and plot the result. It should look much less jagged than the $y=x^2$ plot we made earlier."
   ]
  },
  {
   "cell_type": "code",
   "execution_count": null,
   "metadata": {},
   "outputs": [],
   "source": [
    "y = np.power(x,2)\n",
    "\n",
    "plt.plot(x,y)"
   ]
  },
  {
   "cell_type": "markdown",
   "metadata": {},
   "source": [
    "## Customizing plots\n",
    "\n",
    "We're going to do everything we can to make the plot above look not only nicer, but customized too. Here's where coding/plotting is more of an art than a science.\n",
    "\n",
    "The first thing to do here, is actually see the points that `matplotlib` is plotting, rather than the lines it's drawing between those points."
   ]
  },
  {
   "cell_type": "code",
   "execution_count": null,
   "metadata": {},
   "outputs": [],
   "source": [
    "# Make x have lower resolution so we can see the points\n",
    "x = np.linspace(1,5,10)\n",
    "y = x**2"
   ]
  },
  {
   "cell_type": "code",
   "execution_count": null,
   "metadata": {},
   "outputs": [],
   "source": [
    "plt.plot(x, y, '.')"
   ]
  },
  {
   "cell_type": "markdown",
   "metadata": {},
   "source": [
    "What did I just do to make points appear instead of a line? Well, that extra argument in `plt.plot` is called a <b>format string</b>. You should read about these on the `plt.plot` documentation page, <a href=\"https://matplotlib.org/stable/api/_as_gen/matplotlib.pyplot.plot.html\">here</a>"
   ]
  },
  {
   "cell_type": "markdown",
   "metadata": {},
   "source": [
    "### Example 2: Reading the `plt.plot` documentation"
   ]
  },
  {
   "cell_type": "markdown",
   "metadata": {},
   "source": [
    "Learning how to read documentation is an incredibly important part of coding. Reading the `plt.plot` documentation is especially important, because `plt.plot` is an incredibly powerful and flexible function. Another valuable place to learn about how to do things with `matplotlib` is the <a href=\"https://matplotlib.org/stable/gallery/index.html\">gallery</a> that shows you the source code for making tons of plots and customizing them with `matplotlib`. You might find the format string example in the gallery helpful as well.\n",
    "\n",
    "Look through the `plt.plot` documentation page above, take a quick glance, and also ctrl+F to search the page for \"format string\" and see what the documentation page has to say about format strings. With what you've learned from reading, answer the questions below."
   ]
  },
  {
   "cell_type": "markdown",
   "metadata": {},
   "source": [
    "<b>1). What are a few \"kwargs\" (keyword arguments) that you can add to a `plt.plot` function call?"
   ]
  },
  {
   "cell_type": "markdown",
   "metadata": {},
   "source": []
  },
  {
   "cell_type": "markdown",
   "metadata": {},
   "source": [
    "<b>2). Edit and run the cell below to plot `x` and `y` data with a format string that will make the marker be star-shaped, the line be dashed, and the color be red."
   ]
  },
  {
   "cell_type": "code",
   "execution_count": null,
   "metadata": {},
   "outputs": [],
   "source": [
    "plt.plot(x,y, '')"
   ]
  },
  {
   "cell_type": "markdown",
   "metadata": {},
   "source": [
    "### `plt.plot` keyword arguments\n",
    "\n",
    "As you might have read in the documentation, `plt.plot` has a ton of <b>keyword arguments</b> that you can use to customize your plots. \n",
    "\n",
    "A <b>keyword argument</b> is an argument that is optional to a function, and must be explicitly declared when you're calling the function. For example, for the keyword argument `color`, we must explicitly say `color=NAME_OF_COLOR` in `plt.plot`, as below:"
   ]
  },
  {
   "cell_type": "code",
   "execution_count": null,
   "metadata": {},
   "outputs": [],
   "source": [
    "plt.plot(x,y, color = \"Red\")"
   ]
  },
  {
   "cell_type": "markdown",
   "metadata": {},
   "source": [
    "Note, you can specify a color with a name, or a <b>hex code</b>. There are many websites that will give you the hexcode that represents a color, for example <a href=\"https://htmlcolorcodes.com/\">this one</a>."
   ]
  },
  {
   "cell_type": "code",
   "execution_count": null,
   "metadata": {},
   "outputs": [],
   "source": [
    "plt.plot(x, y, color = \"#FFD1DC\", linewidth = 5)\n",
    "# This hexcode corresponds to the so-called \"millennial pink\"\n",
    "# We also made the line thicker so we can see it better"
   ]
  },
  {
   "cell_type": "markdown",
   "metadata": {},
   "source": [
    "`plt.plot`'s keyword arguments can do what format strings can do, and even more. For example, let's create the plot from example 2.2 but with keyword arguments instead of format strings and we can even make the markers bigger.\n",
    "\n",
    "If you'd like, feel free to edit the keyword arguments in the cell below, or add some as well!"
   ]
  },
  {
   "cell_type": "code",
   "execution_count": null,
   "metadata": {},
   "outputs": [],
   "source": [
    "plt.plot(x, y, marker = '*', markersize = 15, color = 'red', linestyle = '--')"
   ]
  },
  {
   "cell_type": "markdown",
   "metadata": {},
   "source": [
    "### The label kwarg and the legend"
   ]
  },
  {
   "cell_type": "markdown",
   "metadata": {},
   "source": [
    "An important keyword argument is `label`. This will tell `matplotlib` what to call the line that you're plotting in a legend. This is especially important because we can plot many lines in one figure. For example:"
   ]
  },
  {
   "cell_type": "code",
   "execution_count": null,
   "metadata": {},
   "outputs": [],
   "source": [
    "parabola = np.power(x, 2)\n",
    "linear = x\n",
    "\n",
    "# The label is just a string that labels that particular plot\n",
    "plt.plot(x, linear, label = \"y = x\")\n",
    "plt.plot(x, parabola, label = \"y = x^2\")"
   ]
  },
  {
   "cell_type": "markdown",
   "metadata": {},
   "source": [
    "To make those labels appear, we call a new function, called `plt.legend()`"
   ]
  },
  {
   "cell_type": "code",
   "execution_count": null,
   "metadata": {},
   "outputs": [],
   "source": [
    "plt.plot(x, linear, label = \"y = x\")\n",
    "plt.plot(x, parabola, label = \"y = x^2\")\n",
    "\n",
    "plt.legend()"
   ]
  },
  {
   "cell_type": "markdown",
   "metadata": {},
   "source": [
    "You can move the legend around too, with the `loc` keyword argument. \n",
    "\n",
    "Take a look at the legend documentation <a href=\"https://matplotlib.org/stable/api/_as_gen/matplotlib.pyplot.legend.html\">here</a> and then,\n",
    "edit the cell above by adding the `loc` keyword argument into `plt.legend` to move the legend to a different part of the plot."
   ]
  },
  {
   "cell_type": "markdown",
   "metadata": {},
   "source": [
    "## Customizing the axes\n",
    "\n",
    "Now that we've learned how to customize the actual lines you're plotting, let's customize the axes. Remember that labeling your axes is super important in science. You want to label them with what they represent and what their units are.\n",
    "\n",
    "For this part of the lesson, we've included some data for you to use. You have access to three arrays, each of which has 451 elements and represents the value of some variable at a certain time in the evolution of a planet.\n",
    "\n",
    "`Time`: Is an array that gives the time of each index. The units are in billions of years.\n",
    "\n",
    "`AtmosphericWater`: Is an array where every element represents the amount of water in the atmosphere of this modeled planet at each time. Is in units of terrestrial oceans (1 terrestrial ocean = 1.39e21 kg of water).\n",
    "\n",
    "`MantleTemp`: Is an array where every element represents the temperature of the modeled planet's mantle at each time. Is in units of Kelvin.\n",
    "\n",
    "`EruptionRate`: Is an array where every element represents the rate of magma being erupted at that time. Is in units of kilograms per second."
   ]
  },
  {
   "cell_type": "code",
   "execution_count": null,
   "metadata": {},
   "outputs": [],
   "source": [
    "# Run this cell, but don't edit it\n",
    "#we'll talk more about what this cell means on Wednesday\n",
    "import pandas as pd\n",
    "\n",
    "data = pd.read_csv(\"data/PlanetEvolution.csv\")\n",
    "\n",
    "# Time of evolution, units are Gigayears (Billions of years)\n",
    "Time = data['Time'].values\n",
    "\n",
    "# Amount of water in atmosphere, units are terrestrial oceans (1 TO = 1 ocean's worth of water)\n",
    "AtmosphericWater = data['SurfWaterMass'].values\n",
    "\n",
    "# Temperature of mantle, units are Kelvin\n",
    "MantleTemp = data['TMan'].values\n",
    "\n",
    "# Rate at which magma is erupted, units are kilograms per second\n",
    "EruptionRate = data['EruptionRate'].values"
   ]
  },
  {
   "cell_type": "markdown",
   "metadata": {},
   "source": [
    "To start, let's plot the amount of water in the atmosphere of the modeled planet as a function of time."
   ]
  },
  {
   "cell_type": "code",
   "execution_count": null,
   "metadata": {},
   "outputs": [],
   "source": [
    "plt.plot(Time, AtmosphericWater)"
   ]
  },
  {
   "cell_type": "markdown",
   "metadata": {},
   "source": [
    "### Example 3: Labeling Axes\n",
    "\n",
    "Let's label our axes. Look up/google how to label axes in matplotlib to figure out how. Then, edit the code in the cell above to add labels to the x, and y axes that describe what those axes mean and what units each axis is in.\n",
    "\n",
    "Your stretch goal here should be to change the fontsize of the labels to make, in your opinion, the text a good size."
   ]
  },
  {
   "cell_type": "markdown",
   "metadata": {},
   "source": [
    "### Example 4: Log scaling data\n",
    "\n",
    "Looking at the plot that you've made, what does it look like the amount of water in the atmosphere is at 4.5 billion years? Type it in the text cell below"
   ]
  },
  {
   "cell_type": "markdown",
   "metadata": {},
   "source": []
  },
  {
   "cell_type": "markdown",
   "metadata": {},
   "source": [
    "The amount of water in the atmosphere at 4.5 billion years is the same thing as the amount of water in the atmosphere at the end of the simulation, because the simulation models 4.5 billion years of evolution.\n",
    "\n",
    "In the cell below, print the value of the last element of the `AtmosphericWater` array? Is it close to the estimate you made by looking at the plot?"
   ]
  },
  {
   "cell_type": "code",
   "execution_count": null,
   "metadata": {},
   "outputs": [],
   "source": [
    "AtmosphericWater[-1]"
   ]
  },
  {
   "cell_type": "markdown",
   "metadata": {},
   "source": [
    "The issue here is that the y axis is in <b>linear spacing</b>, this means that the spaces between ticks are linear (e.g., 1.5 -> 1.25 -> 1.0). This is great for viewing data that might be linearly spaced apart, but we can see that if the data goes from large to small numbers, it can be hard to estimate what the data is doing when it reaches those small valuables. \n",
    "\n",
    "Using linear spacing on the y axis in our plot makes it look like the final amount of water in the atmosphere is 0 terrestrial oceans, when it's actually 1.23e-05 TO's (which is close to the amount of water in Lake Superior, that's not a lot for a whole atmosphere but it is different than 0).\n",
    "\n",
    "When you want to have small numbers and large numbers visible on the same axis, you should use <b>logarithmic spacing</b> not <b>linear spacing</b>. Logarithmic spacing means that the spaces between ticks are in powers of 10 (e.g., 1 -> 10 -> 100).\n",
    "\n",
    "In the cell below, copy and paste your code plotting AtmosphericWater over Time with the axes labeled. Then, edit your code to change the y axis to a log scale (you'll have to google how to do this). What does the final value of AtmosphericWater look like when the figure is plotted in a log scale?"
   ]
  },
  {
   "cell_type": "code",
   "execution_count": null,
   "metadata": {},
   "outputs": [],
   "source": []
  },
  {
   "cell_type": "markdown",
   "metadata": {},
   "source": [
    "### Example 5: Subplots\n",
    "\n",
    "<b>Subplots</b> are a way put multiple plots in what amounts to the same figure; think of subplots like an array of plots! You can read more about the `plt.subplots` syntax [here](https://matplotlib.org/stable/api/_as_gen/matplotlib.pyplot.subplots.html). The syntax for setting labels and titles can be slightly different when using subplots than when making just one plot. I tend to use `plt.subplots` for all my plotting, even with just one plot. If you don't specify `nrows` and `ncols`, you will just produce one plot.\n",
    "\n",
    "Subplots are great for displaying multiple data that share an x or y axis. For this example, let's make two subplots in one column. On the top we will plot AtmosphericWater by Time, and on the bottom plot we will plot the MantleTemp by Time, that way we can see how the AtmosphericWater as the planet's mantle is cooling. You can find how to plot something using subplots by looking at the <a href=\"https://matplotlib.org/stable/gallery/subplots_axes_and_figures/subplot_demo.html#sphx-glr-gallery-subplots-axes-and-figures-subplot-demo-py\">subplot demo</a> in the matplotlib gallery"
   ]
  },
  {
   "cell_type": "code",
   "execution_count": null,
   "metadata": {},
   "outputs": [],
   "source": [
    "#set up a variable for the total figure, and for each subplot axis\n",
    "#figsize sets up the size of the total figure. You can play around with these \n",
    "# values to see what they do\n",
    "# nrows and ncols define the number of rows and columns, respectively\n",
    "fig, ax = plt.subplots(nrows=2,ncols=1,figsize=(7,5))\n",
    "\n",
    "#Plot Time and AtmosphericWater on the first axis, ax[0]\n",
    "\n",
    "#Set the y axis for ax[0] to be logarithmically scaled\n",
    "#The syntax for setting x and y labels is slightly different \n",
    "#when you're calling it on an individual axis\n",
    "\n",
    "#Plot Time and MantleTemp on the second axis, ax[1]"
   ]
  },
  {
   "cell_type": "markdown",
   "metadata": {},
   "source": [
    "You can do fancier things with subplots like have different plots share the same axis, put smaller plots as insets to larger plots, etc. Again, take a look at things like the matplotlib library for examples of different plots. "
   ]
  }
 ],
 "metadata": {
  "anaconda-cloud": {},
  "kernelspec": {
   "display_name": "Python 3",
   "language": "python",
   "name": "python3"
  },
  "language_info": {
   "codemirror_mode": {
    "name": "ipython",
    "version": 3
   },
   "file_extension": ".py",
   "mimetype": "text/x-python",
   "name": "python",
   "nbconvert_exporter": "python",
   "pygments_lexer": "ipython3",
   "version": "3.8.11"
  }
 },
 "nbformat": 4,
 "nbformat_minor": 1
}
