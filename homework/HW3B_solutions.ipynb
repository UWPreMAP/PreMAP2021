{
 "cells": [
  {
   "cell_type": "markdown",
   "metadata": {},
   "source": [
    "**<font color='red'>Change the name from HW3B_lastname to include YOUR last name</font>**. This will make sure that the assignment doesn't get overwritten when you do a git pull in class. "
   ]
  },
  {
   "cell_type": "markdown",
   "metadata": {},
   "source": [
    "# Homework 3B - the coding portion"
   ]
  },
  {
   "cell_type": "markdown",
   "metadata": {},
   "source": [
    "## Due: Friday, October 11, 5pm"
   ]
  },
  {
   "cell_type": "markdown",
   "metadata": {},
   "source": [
    "Turn in instructions:\n",
    "1. Before turning in your notebook, make sure you save it first using the floppy disk save icon or File -> save.\n",
    "2. Open a new terminal ```New -> Terminal```, cd into the directory where you worked on this homework. For most of you that should be ~/PreMAP2020/homework/\n",
    "3. To turn in your assignment, you need to “git push” your assignment to your github using the following commands. You’ll need to be inside the PreMAP2020 directory for this to work. (Not in your home directory.)\n",
    "```\n",
    "git add *\n",
    "git commit -m “<Include a message inside quotes: i.e. Finished HW 3B>”\n",
    "git push\n",
    "```"
   ]
  },
  {
   "cell_type": "markdown",
   "metadata": {},
   "source": [
    "Always start with your import statement! You will only need the package `numpy` for today's homework"
   ]
  },
  {
   "cell_type": "code",
   "execution_count": null,
   "metadata": {},
   "outputs": [],
   "source": []
  },
  {
   "cell_type": "markdown",
   "metadata": {},
   "source": [
    "### The exercises in this coding assignment will be based on the article you read for Homework 3A. You can find a link to the article [here](https://astrobites.org/2018/07/18/best-exoplanet-destinations-for-mountain-climbers/)."
   ]
  },
  {
   "cell_type": "markdown",
   "metadata": {},
   "source": [
    "**Before you get started:**\n",
    "Remember that you have many tools to help you out with coding! First, please reference the notebooks we've been working through in class. Great coders copy their old code ALL THE TIME, it is a great resource! You should also make Google your best friend for code questions. Don't hesitate to google your questions. Lastly, you should get familiar with the built in documentation for python and python packages such as numpy. You can access help pages by typing the function name, followed by a ? in a coding cell and then executing it."
   ]
  },
  {
   "cell_type": "markdown",
   "metadata": {},
   "source": [
    "**1)**\n",
    "Use the `print` command to print the title of the astrobites article to the screen."
   ]
  },
  {
   "cell_type": "code",
   "execution_count": null,
   "metadata": {},
   "outputs": [],
   "source": []
  },
  {
   "cell_type": "markdown",
   "metadata": {},
   "source": [
    "Using Figure 1 from the paper as a reference, we're going to use Python to do some calculations for us:"
   ]
  },
  {
   "cell_type": "code",
   "execution_count": null,
   "metadata": {
    "scrolled": false
   },
   "outputs": [],
   "source": []
  },
  {
   "cell_type": "markdown",
   "metadata": {},
   "source": [
    "**2)**\n",
    "Create a variable called `delta_sphere` and a variable called `delta_block`. Assuming that the bottom of the graph is 0, choose a reasonable value for both variables between 0 and 1. "
   ]
  },
  {
   "cell_type": "code",
   "execution_count": null,
   "metadata": {},
   "outputs": [],
   "source": []
  },
  {
   "cell_type": "markdown",
   "metadata": {},
   "source": [
    "**3)** What is the difference between `delta_sphere` and `delta_block`?"
   ]
  },
  {
   "cell_type": "code",
   "execution_count": null,
   "metadata": {},
   "outputs": [],
   "source": []
  },
  {
   "cell_type": "markdown",
   "metadata": {},
   "source": [
    "**4)**\n",
    "From the paper, we know that the transit depth, $\\delta$ is related to the cross-sectional area of the planet, A, and the radius of the host star, R, using the equation: $\\delta = \\frac{A}{\\pi R^{2}}$. \n",
    "\n",
    "Using your value for `delta_sphere` above, if the cross-sectional area of the planet is 0.5, what is the radius of the host star? Print the radius to the screen. *Hint: the value of $\\pi$ is built into `numpy`, you can use it by typing `np.pi`.*"
   ]
  },
  {
   "cell_type": "code",
   "execution_count": null,
   "metadata": {},
   "outputs": [],
   "source": []
  },
  {
   "cell_type": "markdown",
   "metadata": {},
   "source": [
    "**5)**\n",
    "Let's say you had a whole bunch of these observations and wanted to calculate the radii of a bunch of stars. Create a numpy array called `areas` that contains 10 cross-sectional areas evenly spaced out between 0.1 and 1 (including both 0.1 and 1). Print your `areas` array to the screen. Calculate the radius of the host star for each planet with an area in the `areas` array. Create an array called `radii` that contains the radius of each of thse host stars and print it to the screen."
   ]
  },
  {
   "cell_type": "code",
   "execution_count": null,
   "metadata": {},
   "outputs": [],
   "source": []
  },
  {
   "cell_type": "code",
   "execution_count": null,
   "metadata": {},
   "outputs": [],
   "source": []
  },
  {
   "cell_type": "code",
   "execution_count": null,
   "metadata": {},
   "outputs": [],
   "source": []
  },
  {
   "cell_type": "markdown",
   "metadata": {},
   "source": [
    "**6)** Let's do some math with these numbers, just to test out some of the handy calculations we can do with python and the numpy package. Raise every value of the `radii` array to the 2nd power. Trick - do this two different ways! You will soon learn that there are always multiple ways to do something with Python, and usually more than one good way to do it! You can raise an array to a power using just normal python math operators (+, -, $*$, $**$, etc.) and with the built in `numpy` function `np.power`. Please show that you can do it both ways in the empty cell below."
   ]
  },
  {
   "cell_type": "markdown",
   "metadata": {},
   "source": [
    "Helpful hint, if you aren't sure what arguments the `np.power` function takes, read its help docs by executing the cell below."
   ]
  },
  {
   "cell_type": "code",
   "execution_count": null,
   "metadata": {},
   "outputs": [],
   "source": []
  },
  {
   "cell_type": "code",
   "execution_count": null,
   "metadata": {},
   "outputs": [],
   "source": []
  },
  {
   "cell_type": "markdown",
   "metadata": {},
   "source": [
    "**7)** Sum up the radius of each host star in the `radii` array."
   ]
  },
  {
   "cell_type": "code",
   "execution_count": null,
   "metadata": {},
   "outputs": [],
   "source": []
  },
  {
   "cell_type": "markdown",
   "metadata": {},
   "source": [
    "**8)** Subtract 0.5 from each value in the `radii` array."
   ]
  },
  {
   "cell_type": "code",
   "execution_count": null,
   "metadata": {},
   "outputs": [],
   "source": []
  },
  {
   "cell_type": "markdown",
   "metadata": {},
   "source": [
    "**9)** Divide each value of the radii array by 2."
   ]
  },
  {
   "cell_type": "code",
   "execution_count": null,
   "metadata": {},
   "outputs": [],
   "source": []
  },
  {
   "cell_type": "markdown",
   "metadata": {},
   "source": [
    "**10)** Let's create a new array of star radii called `new_radii`. The `new_radii` array should contain all multiples of 3 between 0 and 999, including 999. Print `new_radii` to the screen."
   ]
  },
  {
   "cell_type": "code",
   "execution_count": null,
   "metadata": {},
   "outputs": [],
   "source": []
  },
  {
   "cell_type": "markdown",
   "metadata": {},
   "source": [
    "**11)** Calculate the cross sectional area of the planet for each of the host stars in the `new_radii` array. Save these values in an array called `new_areas`."
   ]
  },
  {
   "cell_type": "code",
   "execution_count": null,
   "metadata": {
    "scrolled": false
   },
   "outputs": [],
   "source": []
  },
  {
   "cell_type": "markdown",
   "metadata": {},
   "source": [
    "**12)** You might notice that when you print out `new_areas` that the values are listed in scientific notation. This is a useful feature of Python, especially when working with big numbers like we do in astronomy. Print the 5th element of the `new_areas` array to the screen. *Hint: remember that Python indexes starting with 0."
   ]
  },
  {
   "cell_type": "code",
   "execution_count": null,
   "metadata": {},
   "outputs": [],
   "source": []
  },
  {
   "cell_type": "markdown",
   "metadata": {},
   "source": [
    "**13)** What is the sum of the cross sectional areas of all of the planets in the `new_areas` array?"
   ]
  },
  {
   "cell_type": "code",
   "execution_count": null,
   "metadata": {},
   "outputs": [],
   "source": []
  },
  {
   "cell_type": "markdown",
   "metadata": {},
   "source": [
    "**14)** What is the sum of the radii of all of the stars in the `new_radii` array with a radius of greater than 400?"
   ]
  },
  {
   "cell_type": "code",
   "execution_count": null,
   "metadata": {},
   "outputs": [],
   "source": []
  },
  {
   "cell_type": "markdown",
   "metadata": {},
   "source": [
    "**15)** How many of the values in `new_radii` are even? Use Exercise 5 (putting it all together) from the `numpy` lesson as a reference."
   ]
  },
  {
   "cell_type": "code",
   "execution_count": null,
   "metadata": {},
   "outputs": [],
   "source": []
  },
  {
   "cell_type": "code",
   "execution_count": null,
   "metadata": {},
   "outputs": [],
   "source": []
  },
  {
   "cell_type": "markdown",
   "metadata": {},
   "source": [
    "**16)** Define a variable `r_star` with a value of 0.1 that defines the 0.1 solar radius M-dwarf star used as a reference in this paper. Create an array called `transit_scatter` that contains 100 values between 0.2 and 1.4 describing the transit scatter of 100 fictional planets. \n",
    "\n",
    "Use the equation printed on the figure to determine the bumpiness of each of these planets. Save the bumpiness of each planet into an array called `bumpiness`. Print `bumpiness` to the screen."
   ]
  },
  {
   "cell_type": "code",
   "execution_count": null,
   "metadata": {},
   "outputs": [],
   "source": []
  },
  {
   "cell_type": "markdown",
   "metadata": {},
   "source": [
    "**17)** The height of Mt. Everest is 8848 meters. What would the transit depth of a planet need to be in order for its `bumpiness` to be equal to the height of Mt. Everest?"
   ]
  },
  {
   "cell_type": "code",
   "execution_count": null,
   "metadata": {},
   "outputs": [],
   "source": []
  },
  {
   "cell_type": "markdown",
   "metadata": {},
   "source": [
    "**18)** What is the mean bumpiness of your planets? What is the standard deviation of the bumpiness? What is the median? *Hint: there are functions in numpy for all of these google it if you don't remember!*"
   ]
  },
  {
   "cell_type": "code",
   "execution_count": null,
   "metadata": {},
   "outputs": [],
   "source": []
  },
  {
   "cell_type": "code",
   "execution_count": null,
   "metadata": {},
   "outputs": [],
   "source": []
  },
  {
   "cell_type": "code",
   "execution_count": null,
   "metadata": {},
   "outputs": [],
   "source": []
  },
  {
   "cell_type": "markdown",
   "metadata": {},
   "source": [
    "**19)** Let's say, more realistically, we changed the radius of the star in our bumpiness diagram to the radius of the Sun, R = 1 $R_{*}$. Using the value of the transit depth scatter from Figure 2 for both the wet and dry Earth, what would be the bumpiness in meters of the wet and the dry Earth?"
   ]
  },
  {
   "cell_type": "code",
   "execution_count": null,
   "metadata": {},
   "outputs": [],
   "source": []
  },
  {
   "cell_type": "markdown",
   "metadata": {},
   "source": [
    "**20)** How do these new bumpiness measurements compare to Mt. Everest? "
   ]
  },
  {
   "cell_type": "markdown",
   "metadata": {},
   "source": [
    "Write your answer here in this markdown cell:\n",
    "They are much larger than the height of Mount Everest, which is 8848 meters. The discrepancy could be because of some of the issues discussed in the paper including stellar activity."
   ]
  }
 ],
 "metadata": {
  "kernelspec": {
   "display_name": "Python 3",
   "language": "python",
   "name": "python3"
  },
  "language_info": {
   "codemirror_mode": {
    "name": "ipython",
    "version": 3
   },
   "file_extension": ".py",
   "mimetype": "text/x-python",
   "name": "python",
   "nbconvert_exporter": "python",
   "pygments_lexer": "ipython3",
   "version": "3.7.8"
  }
 },
 "nbformat": 4,
 "nbformat_minor": 2
}
